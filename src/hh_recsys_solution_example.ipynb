{
 "cells": [
  {
   "cell_type": "code",
   "execution_count": null,
   "metadata": {},
   "outputs": [],
   "source": [
    "!pip install polars numpy implicit tqdm"
   ]
  },
  {
   "cell_type": "code",
   "execution_count": 34,
   "metadata": {},
   "outputs": [],
   "source": [
    "import polars as pl\n",
    "import numpy as np\n",
    "from tqdm import tqdm\n",
    "from scipy.sparse import csr_matrix\n",
    "import implicit\n",
    "\n",
    "RANDOM_STATE = 42\n",
    "N_PREDICTIONS = 100\n"
   ]
  },
  {
   "cell_type": "code",
   "execution_count": 36,
   "metadata": {},
   "outputs": [],
   "source": [
    "train = pl.read_parquet(...)\n",
    "test = pl.read_parquet(...)\n",
    "vacancies = pl.read_parquet(...)"
   ]
  },
  {
   "cell_type": "code",
   "execution_count": 37,
   "metadata": {},
   "outputs": [],
   "source": [
    "# train = train.to_pandas()\n",
    "# test = test.to_pandas()\n",
    "# vacancies = vacancies.to_pandas()"
   ]
  },
  {
   "cell_type": "code",
   "execution_count": 20,
   "metadata": {},
   "outputs": [
    {
     "data": {
      "text/html": [
       "<div><style>\n",
       ".dataframe > thead > tr,\n",
       ".dataframe > tbody > tr {\n",
       "  text-align: right;\n",
       "  white-space: pre-wrap;\n",
       "}\n",
       "</style>\n",
       "<small>shape: (3_463_064, 5)</small><table border=\"1\" class=\"dataframe\"><thead><tr><th>user_id</th><th>session_id</th><th>vacancy_id</th><th>action_type</th><th>action_dt</th></tr><tr><td>str</td><td>str</td><td>list[str]</td><td>list[i64]</td><td>list[datetime[ns]]</td></tr></thead><tbody><tr><td>&quot;u_332060&quot;</td><td>&quot;s_28301374&quot;</td><td>[&quot;v_2571684&quot;, &quot;v_488179&quot;, … &quot;v_2633899&quot;]</td><td>[2, 2, … 2]</td><td>[2023-11-01 00:40:58.105, 2023-11-01 00:58:13.091, … 2023-11-01 01:35:54.456]</td></tr><tr><td>&quot;u_1057881&quot;</td><td>&quot;s_33868982&quot;</td><td>[&quot;v_665861&quot;]</td><td>[2]</td><td>[2023-11-01 00:23:51.452]</td></tr><tr><td>&quot;u_1036784&quot;</td><td>&quot;s_32474802&quot;</td><td>[&quot;v_2594840&quot;]</td><td>[2]</td><td>[2023-11-01 00:52:34.023]</td></tr><tr><td>&quot;u_786220&quot;</td><td>&quot;s_14060785&quot;</td><td>[&quot;v_1473781&quot;, &quot;v_1622905&quot;, … &quot;v_2394151&quot;]</td><td>[1, 2, … 2]</td><td>[2023-11-01 00:58:20.793, 2023-11-01 01:17:04.774, … 2023-11-01 01:17:40.149]</td></tr><tr><td>&quot;u_639152&quot;</td><td>&quot;s_23205986&quot;</td><td>[&quot;v_695738&quot;, &quot;v_22433&quot;, … &quot;v_1078110&quot;]</td><td>[2, 1, … 2]</td><td>[2023-11-01 01:14:20.828, 2023-11-01 00:54:08.636, … 2023-11-01 01:00:53.660]</td></tr><tr><td>&quot;u_456512&quot;</td><td>&quot;s_6053713&quot;</td><td>[&quot;v_2267837&quot;, &quot;v_1724756&quot;, &quot;v_990702&quot;]</td><td>[2, 2, 2]</td><td>[2023-11-01 01:37:09.157, 2023-11-01 01:15:55.336, 2023-11-01 01:40:32.097]</td></tr><tr><td>&quot;u_584261&quot;</td><td>&quot;s_11620144&quot;</td><td>[&quot;v_902380&quot;, &quot;v_1488750&quot;, … &quot;v_840395&quot;]</td><td>[2, 2, … 2]</td><td>[2023-11-01 01:09:49.508, 2023-11-01 01:25:00.774, … 2023-11-01 01:12:01.125]</td></tr><tr><td>&quot;u_733524&quot;</td><td>&quot;s_13468241&quot;</td><td>[&quot;v_1460424&quot;, &quot;v_996518&quot;, … &quot;v_2273974&quot;]</td><td>[2, 2, … 2]</td><td>[2023-11-01 02:12:43.970, 2023-11-01 02:50:33.283, … 2023-11-01 02:50:34.962]</td></tr><tr><td>&quot;u_1114237&quot;</td><td>&quot;s_23351853&quot;</td><td>[&quot;v_695101&quot;, &quot;v_154777&quot;]</td><td>[2, 2]</td><td>[2023-11-01 04:18:48.790, 2023-11-01 04:17:57.514]</td></tr><tr><td>&quot;u_407319&quot;</td><td>&quot;s_23566251&quot;</td><td>[&quot;v_268677&quot;, &quot;v_692096&quot;, … &quot;v_416576&quot;]</td><td>[2, 2, … 2]</td><td>[2023-11-01 04:56:41.605, 2023-11-01 04:57:49.326, … 2023-11-01 05:15:18.660]</td></tr><tr><td>&quot;u_443372&quot;</td><td>&quot;s_20399354&quot;</td><td>[&quot;v_1972205&quot;, &quot;v_2233339&quot;, … &quot;v_2519836&quot;]</td><td>[2, 2, … 2]</td><td>[2023-11-01 06:18:21.550, 2023-11-01 08:49:58.668, … 2023-11-01 06:58:56.089]</td></tr><tr><td>&quot;u_788103&quot;</td><td>&quot;s_12122393&quot;</td><td>[&quot;v_2028948&quot;, &quot;v_1762412&quot;, … &quot;v_1013309&quot;]</td><td>[3, 2, … 2]</td><td>[2023-11-01 06:45:14.204, 2023-11-01 06:36:56.425, … 2023-11-01 06:40:36]</td></tr><tr><td>&hellip;</td><td>&hellip;</td><td>&hellip;</td><td>&hellip;</td><td>&hellip;</td></tr><tr><td>&quot;u_291791&quot;</td><td>&quot;s_4344502&quot;</td><td>[&quot;v_2337147&quot;]</td><td>[2]</td><td>[2023-11-13 12:47:59.694]</td></tr><tr><td>&quot;u_1091028&quot;</td><td>&quot;s_9128636&quot;</td><td>[&quot;v_1412036&quot;]</td><td>[2]</td><td>[2023-11-13 12:55:08.484]</td></tr><tr><td>&quot;u_574056&quot;</td><td>&quot;s_26621660&quot;</td><td>[&quot;v_2655196&quot;]</td><td>[2]</td><td>[2023-11-13 16:28:12.989]</td></tr><tr><td>&quot;u_489124&quot;</td><td>&quot;s_32651757&quot;</td><td>[&quot;v_1975545&quot;]</td><td>[2]</td><td>[2023-11-13 13:54:31.150]</td></tr><tr><td>&quot;u_415800&quot;</td><td>&quot;s_25725261&quot;</td><td>[&quot;v_303627&quot;]</td><td>[2]</td><td>[2023-11-13 17:41:06.362]</td></tr><tr><td>&quot;u_54897&quot;</td><td>&quot;s_7396605&quot;</td><td>[&quot;v_2669097&quot;]</td><td>[2]</td><td>[2023-11-13 19:11:40.615]</td></tr><tr><td>&quot;u_999352&quot;</td><td>&quot;s_21061102&quot;</td><td>[&quot;v_499781&quot;]</td><td>[2]</td><td>[2023-11-13 19:17:43.379]</td></tr><tr><td>&quot;u_202578&quot;</td><td>&quot;s_8306993&quot;</td><td>[&quot;v_1499243&quot;]</td><td>[2]</td><td>[2023-11-13 21:01:41.813]</td></tr><tr><td>&quot;u_895531&quot;</td><td>&quot;s_7293998&quot;</td><td>[&quot;v_2041381&quot;]</td><td>[2]</td><td>[2023-11-14 17:51:22.169]</td></tr><tr><td>&quot;u_317562&quot;</td><td>&quot;s_9866576&quot;</td><td>[&quot;v_503192&quot;]</td><td>[2]</td><td>[2023-11-14 20:03:54.988]</td></tr><tr><td>&quot;u_225581&quot;</td><td>&quot;s_19724962&quot;</td><td>[&quot;v_2526106&quot;]</td><td>[2]</td><td>[2023-11-14 20:52:51.985]</td></tr><tr><td>&quot;u_1127158&quot;</td><td>&quot;s_9245205&quot;</td><td>[&quot;v_868748&quot;]</td><td>[2]</td><td>[2023-11-14 22:29:12.833]</td></tr></tbody></table></div>"
      ],
      "text/plain": [
       "shape: (3_463_064, 5)\n",
       "┌───────────┬────────────┬─────────────────────────────┬─────────────┬─────────────────────────────┐\n",
       "│ user_id   ┆ session_id ┆ vacancy_id                  ┆ action_type ┆ action_dt                   │\n",
       "│ ---       ┆ ---        ┆ ---                         ┆ ---         ┆ ---                         │\n",
       "│ str       ┆ str        ┆ list[str]                   ┆ list[i64]   ┆ list[datetime[ns]]          │\n",
       "╞═══════════╪════════════╪═════════════════════════════╪═════════════╪═════════════════════════════╡\n",
       "│ u_332060  ┆ s_28301374 ┆ [\"v_2571684\", \"v_488179\", … ┆ [2, 2, … 2] ┆ [2023-11-01 00:40:58.105,   │\n",
       "│           ┆            ┆ \"v_2…                       ┆             ┆ 2023-1…                     │\n",
       "│ u_1057881 ┆ s_33868982 ┆ [\"v_665861\"]                ┆ [2]         ┆ [2023-11-01 00:23:51.452]   │\n",
       "│ u_1036784 ┆ s_32474802 ┆ [\"v_2594840\"]               ┆ [2]         ┆ [2023-11-01 00:52:34.023]   │\n",
       "│ u_786220  ┆ s_14060785 ┆ [\"v_1473781\", \"v_1622905\",  ┆ [1, 2, … 2] ┆ [2023-11-01 00:58:20.793,   │\n",
       "│           ┆            ┆ … \"v_…                      ┆             ┆ 2023-1…                     │\n",
       "│ …         ┆ …          ┆ …                           ┆ …           ┆ …                           │\n",
       "│ u_895531  ┆ s_7293998  ┆ [\"v_2041381\"]               ┆ [2]         ┆ [2023-11-14 17:51:22.169]   │\n",
       "│ u_317562  ┆ s_9866576  ┆ [\"v_503192\"]                ┆ [2]         ┆ [2023-11-14 20:03:54.988]   │\n",
       "│ u_225581  ┆ s_19724962 ┆ [\"v_2526106\"]               ┆ [2]         ┆ [2023-11-14 20:52:51.985]   │\n",
       "│ u_1127158 ┆ s_9245205  ┆ [\"v_868748\"]                ┆ [2]         ┆ [2023-11-14 22:29:12.833]   │\n",
       "└───────────┴────────────┴─────────────────────────────┴─────────────┴─────────────────────────────┘"
      ]
     },
     "execution_count": 20,
     "metadata": {},
     "output_type": "execute_result"
    }
   ],
   "source": [
    "train"
   ]
  },
  {
   "cell_type": "code",
   "execution_count": 21,
   "metadata": {},
   "outputs": [
    {
     "data": {
      "text/html": [
       "<div><style>\n",
       ".dataframe > thead > tr,\n",
       ".dataframe > tbody > tr {\n",
       "  text-align: right;\n",
       "  white-space: pre-wrap;\n",
       "}\n",
       "</style>\n",
       "<small>shape: (83_189, 5)</small><table border=\"1\" class=\"dataframe\"><thead><tr><th>user_id</th><th>session_id</th><th>vacancy_id</th><th>action_type</th><th>action_dt</th></tr><tr><td>str</td><td>str</td><td>list[str]</td><td>list[i64]</td><td>list[datetime[ns]]</td></tr></thead><tbody><tr><td>&quot;u_482520&quot;</td><td>&quot;s_25018731&quot;</td><td>[&quot;v_2597196&quot;, &quot;v_1223061&quot;, &quot;v_1223061&quot;]</td><td>[2, 2, 1]</td><td>[2023-11-19 12:03:13.089, 2023-11-19 12:03:30.396, 2023-11-19 12:05:03.473]</td></tr><tr><td>&quot;u_582132&quot;</td><td>&quot;s_481216&quot;</td><td>[&quot;v_470400&quot;, &quot;v_470400&quot;, &quot;v_1530783&quot;]</td><td>[2, 1, 2]</td><td>[2023-11-21 15:39:47.981, 2023-11-21 15:43:57.620, 2023-11-21 15:44:37.982]</td></tr><tr><td>&quot;u_212584&quot;</td><td>&quot;s_16918781&quot;</td><td>[&quot;v_1572055&quot;, &quot;v_1572055&quot;, … &quot;v_1329494&quot;]</td><td>[2, 3, … 1]</td><td>[2023-11-16 08:41:47.031, 2023-11-16 08:45:21.403, … 2023-11-16 09:05:27.379]</td></tr><tr><td>&quot;u_425177&quot;</td><td>&quot;s_17505104&quot;</td><td>[&quot;v_1375331&quot;, &quot;v_1922852&quot;]</td><td>[2, 2]</td><td>[2023-11-17 12:42:18.513, 2023-11-17 12:43:52.744]</td></tr><tr><td>&quot;u_700997&quot;</td><td>&quot;s_15528830&quot;</td><td>[&quot;v_2152997&quot;, &quot;v_2152997&quot;, &quot;v_1217630&quot;]</td><td>[2, 1, 2]</td><td>[2023-11-16 17:22:53.530, 2023-11-16 17:23:19.885, 2023-11-16 17:23:33.472]</td></tr><tr><td>&quot;u_687201&quot;</td><td>&quot;s_11187326&quot;</td><td>[&quot;v_2602959&quot;, &quot;v_549337&quot;, … &quot;v_212060&quot;]</td><td>[2, 2, … 1]</td><td>[2023-11-21 14:41:30.546, 2023-11-21 15:00:25.506, … 2023-11-21 15:24:56.271]</td></tr><tr><td>&quot;u_573219&quot;</td><td>&quot;s_27394215&quot;</td><td>[&quot;v_1836184&quot;, &quot;v_2733253&quot;, … &quot;v_2297339&quot;]</td><td>[1, 2, … 2]</td><td>[2023-11-21 18:48:43.424, 2023-11-21 18:49:12.552, … 2023-11-21 19:48:55.704]</td></tr><tr><td>&quot;u_1082782&quot;</td><td>&quot;s_30341164&quot;</td><td>[&quot;v_1026036&quot;, &quot;v_1026036&quot;, … &quot;v_206700&quot;]</td><td>[2, 1, … 2]</td><td>[2023-11-17 02:54:19.561, 2023-11-17 02:54:50.486, … 2023-11-17 03:21:22.008]</td></tr><tr><td>&quot;u_81444&quot;</td><td>&quot;s_1909964&quot;</td><td>[&quot;v_2497384&quot;, &quot;v_1480870&quot;, … &quot;v_1500697&quot;]</td><td>[2, 2, … 1]</td><td>[2023-11-15 12:38:34.579, 2023-11-15 13:03:41.360, … 2023-11-15 13:05:15.916]</td></tr><tr><td>&quot;u_858357&quot;</td><td>&quot;s_12463318&quot;</td><td>[&quot;v_1085881&quot;, &quot;v_522338&quot;, … &quot;v_1776027&quot;]</td><td>[2, 2, … 2]</td><td>[2023-11-18 11:58:33.953, 2023-11-18 12:01:09.562, … 2023-11-18 14:39:24.255]</td></tr><tr><td>&quot;u_136080&quot;</td><td>&quot;s_25066108&quot;</td><td>[&quot;v_1167642&quot;, &quot;v_613829&quot;, … &quot;v_2061106&quot;]</td><td>[2, 2, … 2]</td><td>[2023-11-21 05:09:14.167, 2023-11-21 05:10:02.996, … 2023-11-21 05:17:03.842]</td></tr><tr><td>&quot;u_361893&quot;</td><td>&quot;s_12897073&quot;</td><td>[&quot;v_2188274&quot;, &quot;v_941470&quot;, … &quot;v_450701&quot;]</td><td>[2, 2, … 2]</td><td>[2023-11-21 16:03:36.003, 2023-11-21 16:04:07.515, … 2023-11-21 16:24:26.163]</td></tr><tr><td>&hellip;</td><td>&hellip;</td><td>&hellip;</td><td>&hellip;</td><td>&hellip;</td></tr><tr><td>&quot;u_27420&quot;</td><td>&quot;s_15647766&quot;</td><td>[&quot;v_779522&quot;, &quot;v_32918&quot;, … &quot;v_2382404&quot;]</td><td>[2, 2, … 2]</td><td>[2023-11-15 09:46:24.682, 2023-11-15 09:46:52.048, … 2023-11-15 09:55:07.684]</td></tr><tr><td>&quot;u_101925&quot;</td><td>&quot;s_9312767&quot;</td><td>[&quot;v_899404&quot;, &quot;v_2009859&quot;]</td><td>[2, 2]</td><td>[2023-11-17 10:54:18.637, 2023-11-17 12:19:55.239]</td></tr><tr><td>&quot;u_105702&quot;</td><td>&quot;s_27857907&quot;</td><td>[&quot;v_473549&quot;, &quot;v_1137408&quot;]</td><td>[2, 2]</td><td>[2023-11-18 09:25:22.487, 2023-11-18 09:27:10.980]</td></tr><tr><td>&quot;u_485573&quot;</td><td>&quot;s_19643559&quot;</td><td>[&quot;v_1032129&quot;, &quot;v_1340903&quot;, &quot;v_1032129&quot;]</td><td>[2, 2, 2]</td><td>[2023-11-21 14:44:58.274, 2023-11-21 15:11:34.645, 2023-11-21 15:11:56.029]</td></tr><tr><td>&quot;u_737688&quot;</td><td>&quot;s_5225203&quot;</td><td>[&quot;v_616873&quot;, &quot;v_2610004&quot;]</td><td>[2, 2]</td><td>[2023-11-20 12:37:56.056, 2023-11-20 12:41:23.243]</td></tr><tr><td>&quot;u_366097&quot;</td><td>&quot;s_20110640&quot;</td><td>[&quot;v_307100&quot;, &quot;v_2040988&quot;, … &quot;v_2586611&quot;]</td><td>[2, 2, … 1]</td><td>[2023-11-17 15:31:42.944, 2023-11-17 15:32:01.187, … 2023-11-17 15:36:51.248]</td></tr><tr><td>&quot;u_995221&quot;</td><td>&quot;s_21000652&quot;</td><td>[&quot;v_528661&quot;, &quot;v_528661&quot;, … &quot;v_199518&quot;]</td><td>[2, 1, … 2]</td><td>[2023-11-15 14:00:32.515, 2023-11-15 14:01:08.165, … 2023-11-15 14:04:31.812]</td></tr><tr><td>&quot;u_499368&quot;</td><td>&quot;s_19158589&quot;</td><td>[&quot;v_1716634&quot;, &quot;v_2232327&quot;, … &quot;v_1993650&quot;]</td><td>[2, 2, … 2]</td><td>[2023-11-18 03:15:15.530, 2023-11-18 03:19:20.971, … 2023-11-18 03:35:12.020]</td></tr><tr><td>&quot;u_1084868&quot;</td><td>&quot;s_24756162&quot;</td><td>[&quot;v_395706&quot;, &quot;v_2405231&quot;]</td><td>[2, 2]</td><td>[2023-11-15 18:06:16.550, 2023-11-15 18:07:18.447]</td></tr><tr><td>&quot;u_1138032&quot;</td><td>&quot;s_25291467&quot;</td><td>[&quot;v_1213925&quot;, &quot;v_1213925&quot;, … &quot;v_2359832&quot;]</td><td>[2, 1, … 1]</td><td>[2023-11-19 23:19:44.092, 2023-11-19 23:27:22.739, … 2023-11-19 23:27:51.152]</td></tr><tr><td>&quot;u_608102&quot;</td><td>&quot;s_18813020&quot;</td><td>[&quot;v_933773&quot;, &quot;v_933773&quot;, … &quot;v_2667466&quot;]</td><td>[3, 2, … 2]</td><td>[2023-11-16 15:40:09.408, 2023-11-16 15:40:09.448, … 2023-11-16 16:18:05.927]</td></tr><tr><td>&quot;u_847738&quot;</td><td>&quot;s_7662913&quot;</td><td>[&quot;v_875568&quot;, &quot;v_2677852&quot;, … &quot;v_1462102&quot;]</td><td>[2, 2, … 2]</td><td>[2023-11-17 13:34:03.386, 2023-11-17 13:34:57.675, … 2023-11-17 14:27:46.817]</td></tr></tbody></table></div>"
      ],
      "text/plain": [
       "shape: (83_189, 5)\n",
       "┌───────────┬────────────┬─────────────────────────────┬─────────────┬─────────────────────────────┐\n",
       "│ user_id   ┆ session_id ┆ vacancy_id                  ┆ action_type ┆ action_dt                   │\n",
       "│ ---       ┆ ---        ┆ ---                         ┆ ---         ┆ ---                         │\n",
       "│ str       ┆ str        ┆ list[str]                   ┆ list[i64]   ┆ list[datetime[ns]]          │\n",
       "╞═══════════╪════════════╪═════════════════════════════╪═════════════╪═════════════════════════════╡\n",
       "│ u_482520  ┆ s_25018731 ┆ [\"v_2597196\", \"v_1223061\",  ┆ [2, 2, 1]   ┆ [2023-11-19 12:03:13.089,   │\n",
       "│           ┆            ┆ \"v_12…                      ┆             ┆ 2023-1…                     │\n",
       "│ u_582132  ┆ s_481216   ┆ [\"v_470400\", \"v_470400\",    ┆ [2, 1, 2]   ┆ [2023-11-21 15:39:47.981,   │\n",
       "│           ┆            ┆ \"v_1530…                    ┆             ┆ 2023-1…                     │\n",
       "│ u_212584  ┆ s_16918781 ┆ [\"v_1572055\", \"v_1572055\",  ┆ [2, 3, … 1] ┆ [2023-11-16 08:41:47.031,   │\n",
       "│           ┆            ┆ … \"v_…                      ┆             ┆ 2023-1…                     │\n",
       "│ u_425177  ┆ s_17505104 ┆ [\"v_1375331\", \"v_1922852\"]  ┆ [2, 2]      ┆ [2023-11-17 12:42:18.513,   │\n",
       "│           ┆            ┆                             ┆             ┆ 2023-1…                     │\n",
       "│ …         ┆ …          ┆ …                           ┆ …           ┆ …                           │\n",
       "│ u_1084868 ┆ s_24756162 ┆ [\"v_395706\", \"v_2405231\"]   ┆ [2, 2]      ┆ [2023-11-15 18:06:16.550,   │\n",
       "│           ┆            ┆                             ┆             ┆ 2023-1…                     │\n",
       "│ u_1138032 ┆ s_25291467 ┆ [\"v_1213925\", \"v_1213925\",  ┆ [2, 1, … 1] ┆ [2023-11-19 23:19:44.092,   │\n",
       "│           ┆            ┆ … \"v_…                      ┆             ┆ 2023-1…                     │\n",
       "│ u_608102  ┆ s_18813020 ┆ [\"v_933773\", \"v_933773\", …  ┆ [3, 2, … 2] ┆ [2023-11-16 15:40:09.408,   │\n",
       "│           ┆            ┆ \"v_26…                      ┆             ┆ 2023-1…                     │\n",
       "│ u_847738  ┆ s_7662913  ┆ [\"v_875568\", \"v_2677852\", … ┆ [2, 2, … 2] ┆ [2023-11-17 13:34:03.386,   │\n",
       "│           ┆            ┆ \"v_1…                       ┆             ┆ 2023-1…                     │\n",
       "└───────────┴────────────┴─────────────────────────────┴─────────────┴─────────────────────────────┘"
      ]
     },
     "execution_count": 21,
     "metadata": {},
     "output_type": "execute_result"
    }
   ],
   "source": [
    "test"
   ]
  },
  {
   "cell_type": "code",
   "execution_count": 22,
   "metadata": {},
   "outputs": [
    {
     "data": {
      "text/html": [
       "<div><style>\n",
       ".dataframe > thead > tr,\n",
       ".dataframe > tbody > tr {\n",
       "  text-align: right;\n",
       "  white-space: pre-wrap;\n",
       "}\n",
       "</style>\n",
       "<small>shape: (2_734_129, 13)</small><table border=\"1\" class=\"dataframe\"><thead><tr><th>vacancy_id</th><th>name</th><th>company.id</th><th>description</th><th>keySkills.keySkill</th><th>compensation.from</th><th>compensation.to</th><th>compensation.currencyCode</th><th>area.id</th><th>area.regionId</th><th>employment</th><th>workSchedule</th><th>workExperience</th></tr><tr><td>str</td><td>str</td><td>str</td><td>str</td><td>list[str]</td><td>i64</td><td>i64</td><td>str</td><td>str</td><td>str</td><td>str</td><td>str</td><td>str</td></tr></thead><tbody><tr><td>&quot;v_862116&quot;</td><td>&quot;Смотритель муз…</td><td>&quot;c_162972&quot;</td><td>&quot;&lt;strong&gt;Обязан…</td><td>[&quot;Пользователь ПК&quot;, &quot;Работа в команде&quot;, … &quot;PR-консультирование&quot;]</td><td>16500</td><td>null</td><td>&quot;RUR&quot;</td><td>&quot;a_4761&quot;</td><td>&quot;ar_33&quot;</td><td>&quot;full&quot;</td><td>&quot;fullDay&quot;</td><td>&quot;noExperience&quot;</td></tr><tr><td>&quot;v_288642&quot;</td><td>&quot;Ведущий менедж…</td><td>&quot;c_208672&quot;</td><td>&quot;&lt;p&gt;&lt;strong&gt;Воз…</td><td>[&quot;Активные продажи&quot;, &quot;Холодные продажи&quot;, … &quot;Организация мероприятий&quot;]</td><td>50000</td><td>null</td><td>&quot;RUR&quot;</td><td>&quot;a_744&quot;</td><td>&quot;ar_2&quot;</td><td>&quot;full&quot;</td><td>&quot;fullDay&quot;</td><td>&quot;noExperience&quot;</td></tr><tr><td>&quot;v_1840054&quot;</td><td>&quot;Бухгалтер (по …</td><td>&quot;c_198109&quot;</td><td>&quot;&lt;strong&gt;Обязан…</td><td>null</td><td>50000</td><td>65000</td><td>&quot;RUR&quot;</td><td>&quot;a_6223&quot;</td><td>&quot;ar_78&quot;</td><td>&quot;full&quot;</td><td>&quot;fullDay&quot;</td><td>&quot;between3And6&quot;</td></tr><tr><td>&quot;v_2346232&quot;</td><td>&quot;Пекарь (Токсов…</td><td>&quot;c_6137&quot;</td><td>&quot;&lt;p&gt;&lt;strong&gt;Для…</td><td>null</td><td>38500</td><td>42000</td><td>&quot;RUR&quot;</td><td>&quot;a_4795&quot;</td><td>&quot;ar_51&quot;</td><td>&quot;full&quot;</td><td>&quot;fullDay&quot;</td><td>&quot;noExperience&quot;</td></tr><tr><td>&quot;v_312507&quot;</td><td>&quot;Торговый предс…</td><td>&quot;c_206699&quot;</td><td>&quot;&lt;p&gt;Компания ТД…</td><td>[&quot;Продуктивность&quot;, &quot;Клиентоориентированность&quot;, … &quot;Развитие продаж&quot;]</td><td>60000</td><td>null</td><td>&quot;RUR&quot;</td><td>&quot;a_6837&quot;</td><td>&quot;ar_4&quot;</td><td>&quot;full&quot;</td><td>&quot;fullDay&quot;</td><td>&quot;between1And3&quot;</td></tr><tr><td>&quot;v_2323706&quot;</td><td>&quot;Менеджер по ка…</td><td>&quot;c_244141&quot;</td><td>&quot;&lt;p&gt;&lt;strong&gt;X&lt;/…</td><td>[&quot;Контроль качества&quot;, &quot;Производственный контроль&quot;, … &quot;Лабораторная диагностика&quot;]</td><td>88000</td><td>null</td><td>&quot;RUR&quot;</td><td>&quot;a_5920&quot;</td><td>&quot;ar_64&quot;</td><td>&quot;full&quot;</td><td>&quot;fullDay&quot;</td><td>&quot;between1And3&quot;</td></tr><tr><td>&quot;v_704266&quot;</td><td>&quot;Менеджер по пр…</td><td>&quot;c_192038&quot;</td><td>&quot;&lt;p&gt;Если ты ище…</td><td>[&quot;Активные продажи&quot;, &quot;Поиск и привлечение клиентов&quot;, … &quot;Проведение переговоров&quot;]</td><td>30000</td><td>100000</td><td>&quot;RUR&quot;</td><td>&quot;a_5398&quot;</td><td>&quot;ar_71&quot;</td><td>&quot;full&quot;</td><td>&quot;fullDay&quot;</td><td>&quot;between1And3&quot;</td></tr><tr><td>&quot;v_525733&quot;</td><td>&quot;Врач по ЛФК&quot;</td><td>&quot;c_5101&quot;</td><td>&quot;&lt;strong&gt;Обязан…</td><td>null</td><td>null</td><td>null</td><td>null</td><td>&quot;a_5043&quot;</td><td>&quot;ar_96&quot;</td><td>&quot;full&quot;</td><td>&quot;fullDay&quot;</td><td>&quot;between3And6&quot;</td></tr><tr><td>&quot;v_2091086&quot;</td><td>&quot;Монтажник СТиЖ…</td><td>&quot;c_230890&quot;</td><td>&quot;&lt;em&gt;&lt;strong&gt;Ст…</td><td>null</td><td>100000</td><td>null</td><td>&quot;RUR&quot;</td><td>&quot;a_500&quot;</td><td>&quot;ar_36&quot;</td><td>&quot;full&quot;</td><td>&quot;flyInFlyOut&quot;</td><td>&quot;between1And3&quot;</td></tr><tr><td>&quot;v_839657&quot;</td><td>&quot;Подсобный рабо…</td><td>&quot;c_192370&quot;</td><td>&quot;&lt;p&gt;&lt;strong&gt;О к…</td><td>[&quot;Умение работать в команде&quot;, &quot;Уборка строительного мусора&quot;]</td><td>50000</td><td>50000</td><td>&quot;RUR&quot;</td><td>&quot;a_2649&quot;</td><td>&quot;ar_44&quot;</td><td>&quot;full&quot;</td><td>&quot;fullDay&quot;</td><td>&quot;noExperience&quot;</td></tr><tr><td>&quot;v_2485961&quot;</td><td>&quot;Домработница/Д…</td><td>&quot;c_133807&quot;</td><td>&quot;&lt;strong&gt;Обязан…</td><td>[&quot;Уборка, стирка, домработница, помощница по хозяйству&quot;]</td><td>65000</td><td>75000</td><td>&quot;RUR&quot;</td><td>&quot;a_1756&quot;</td><td>&quot;ar_41&quot;</td><td>&quot;full&quot;</td><td>&quot;fullDay&quot;</td><td>&quot;moreThan6&quot;</td></tr><tr><td>&quot;v_468073&quot;</td><td>&quot;Врач-офтальмол…</td><td>&quot;c_213052&quot;</td><td>&quot;&lt;strong&gt;В связ…</td><td>[&quot;Медицинская документация&quot;, &quot;Деловое общение&quot;, … &quot;Навыки межличностного общения&quot;]</td><td>150000</td><td>null</td><td>&quot;RUR&quot;</td><td>&quot;a_2755&quot;</td><td>&quot;ar_87&quot;</td><td>&quot;full&quot;</td><td>&quot;fullDay&quot;</td><td>&quot;between1And3&quot;</td></tr><tr><td>&hellip;</td><td>&hellip;</td><td>&hellip;</td><td>&hellip;</td><td>&hellip;</td><td>&hellip;</td><td>&hellip;</td><td>&hellip;</td><td>&hellip;</td><td>&hellip;</td><td>&hellip;</td><td>&hellip;</td><td>&hellip;</td></tr><tr><td>&quot;v_1741629&quot;</td><td>&quot;Оператор парко…</td><td>&quot;c_85559&quot;</td><td>&quot;&lt;strong&gt;Чем пр…</td><td>[&quot;парковочная система&quot;, &quot;Бесконфликтность&quot;, &quot;Работа в команде&quot;]</td><td>40000</td><td>42000</td><td>&quot;RUR&quot;</td><td>&quot;a_5398&quot;</td><td>&quot;ar_71&quot;</td><td>&quot;full&quot;</td><td>&quot;shift&quot;</td><td>&quot;noExperience&quot;</td></tr><tr><td>&quot;v_1841986&quot;</td><td>&quot;Маркетолог-ана…</td><td>&quot;c_44564&quot;</td><td>&quot;&lt;p&gt;А ГРУПП – о…</td><td>null</td><td>55128</td><td>71666</td><td>&quot;RUR&quot;</td><td>&quot;a_2649&quot;</td><td>&quot;ar_44&quot;</td><td>&quot;full&quot;</td><td>&quot;fullDay&quot;</td><td>&quot;between3And6&quot;</td></tr><tr><td>&quot;v_272395&quot;</td><td>&quot;Оператор полиг…</td><td>&quot;c_77277&quot;</td><td>&quot;&lt;p&gt;&lt;strong&gt;Обя…</td><td>[&quot;Работа в команде&quot;, &quot;Быстро учусь&quot;, … &quot;Желание работать и зарабатывать&quot;]</td><td>45000</td><td>null</td><td>&quot;RUR&quot;</td><td>&quot;a_2431&quot;</td><td>&quot;ar_64&quot;</td><td>&quot;full&quot;</td><td>&quot;fullDay&quot;</td><td>&quot;noExperience&quot;</td></tr><tr><td>&quot;v_2082311&quot;</td><td>&quot;Слесарь механо…</td><td>&quot;c_167337&quot;</td><td>&quot;&lt;p&gt;&lt;strong&gt;РАБ…</td><td>null</td><td>115000</td><td>null</td><td>&quot;RUR&quot;</td><td>&quot;a_61&quot;</td><td>&quot;ar_25&quot;</td><td>&quot;full&quot;</td><td>&quot;flyInFlyOut&quot;</td><td>&quot;between1And3&quot;</td></tr><tr><td>&quot;v_292464&quot;</td><td>&quot;Ведущий бухгал…</td><td>&quot;c_138929&quot;</td><td>&quot;&lt;p&gt;&lt;strong&gt;«Pr…</td><td>null</td><td>100000</td><td>null</td><td>&quot;RUR&quot;</td><td>&quot;a_4284&quot;</td><td>&quot;ar_23&quot;</td><td>&quot;full&quot;</td><td>&quot;fullDay&quot;</td><td>&quot;between1And3&quot;</td></tr><tr><td>&quot;v_704468&quot;</td><td>&quot;Водитель-экспе…</td><td>&quot;c_17061&quot;</td><td>&quot;&lt;p&gt;&lt;strong&gt;В к…</td><td>[&quot;Приемка груза&quot;, &quot;Пользователь ПК&quot;, &quot;Учет товаров&quot;]</td><td>90000</td><td>null</td><td>&quot;RUR&quot;</td><td>&quot;a_6223&quot;</td><td>&quot;ar_78&quot;</td><td>&quot;full&quot;</td><td>&quot;fullDay&quot;</td><td>&quot;between1And3&quot;</td></tr><tr><td>&quot;v_496189&quot;</td><td>&quot;Продавец-касси…</td><td>&quot;c_33309&quot;</td><td>&quot;&lt;p&gt;&lt;strong&gt;&lt;st…</td><td>[&quot;Работа с кассой&quot;, &quot;Пользователь ПК&quot;, … &quot;Обслуживание покупателей&quot;]</td><td>21000</td><td>null</td><td>&quot;RUR&quot;</td><td>&quot;a_343&quot;</td><td>&quot;ar_38&quot;</td><td>&quot;full&quot;</td><td>&quot;shift&quot;</td><td>&quot;noExperience&quot;</td></tr><tr><td>&quot;v_2484959&quot;</td><td>&quot;Сборщик-упаков…</td><td>&quot;c_203256&quot;</td><td>&quot;&lt;p&gt;&lt;strong&gt;Обя…</td><td>[&quot;Пользователь ПК&quot;, &quot;Умение работать в команде&quot;, … &quot;Материальная ответственность&quot;]</td><td>40000</td><td>90000</td><td>&quot;RUR&quot;</td><td>&quot;a_5387&quot;</td><td>&quot;ar_71&quot;</td><td>&quot;full&quot;</td><td>&quot;flexible&quot;</td><td>&quot;noExperience&quot;</td></tr><tr><td>&quot;v_205163&quot;</td><td>&quot;Сварщик на пол…</td><td>&quot;c_158695&quot;</td><td>&quot;&lt;p&gt;ОКЛАД 80 00…</td><td>[&quot;Желание работать и зарабатывать&quot;, &quot;Высокая энергичность&quot;, &quot;Физическая выносливость&quot;]</td><td>80000</td><td>130000</td><td>&quot;RUR&quot;</td><td>&quot;a_5527&quot;</td><td>&quot;ar_69&quot;</td><td>&quot;full&quot;</td><td>&quot;fullDay&quot;</td><td>&quot;between1And3&quot;</td></tr><tr><td>&quot;v_639897&quot;</td><td>&quot;Главный инжене…</td><td>&quot;c_209365&quot;</td><td>&quot;&lt;p&gt;Компания&lt;st…</td><td>[&quot;Контроль исправности оборудования&quot;, &quot;Инженерные системы&quot;, … &quot;Составление сметно-проектной документации&quot;]</td><td>200000</td><td>null</td><td>&quot;RUR&quot;</td><td>&quot;a_1756&quot;</td><td>&quot;ar_41&quot;</td><td>&quot;full&quot;</td><td>&quot;fullDay&quot;</td><td>&quot;between1And3&quot;</td></tr><tr><td>&quot;v_1636531&quot;</td><td>&quot;Провизор/Фарма…</td><td>&quot;c_246244&quot;</td><td>&quot;&lt;strong&gt;Требов…</td><td>[&quot;Предпечатная подготовка&quot;, &quot;Статистический анализ&quot;]</td><td>25000</td><td>null</td><td>&quot;RUR&quot;</td><td>&quot;a_3403&quot;</td><td>&quot;ar_60&quot;</td><td>&quot;full&quot;</td><td>&quot;fullDay&quot;</td><td>&quot;noExperience&quot;</td></tr><tr><td>&quot;v_1689739&quot;</td><td>&quot;Продавец-консу…</td><td>&quot;c_73191&quot;</td><td>&quot;&lt;strong&gt;Обязан…</td><td>[&quot;1С: Торговля&quot;, &quot;Грамотная речь&quot;, … &quot;Торговля&quot;]</td><td>25000</td><td>null</td><td>&quot;RUR&quot;</td><td>&quot;a_1690&quot;</td><td>&quot;ar_91&quot;</td><td>&quot;full&quot;</td><td>&quot;fullDay&quot;</td><td>&quot;between1And3&quot;</td></tr></tbody></table></div>"
      ],
      "text/plain": [
       "shape: (2_734_129, 13)\n",
       "┌───────────┬───────────┬───────────┬───────────┬───┬───────────┬───────────┬───────────┬──────────┐\n",
       "│ vacancy_i ┆ name      ┆ company.i ┆ descripti ┆ … ┆ area.regi ┆ employmen ┆ workSched ┆ workExpe │\n",
       "│ d         ┆ ---       ┆ d         ┆ on        ┆   ┆ onId      ┆ t         ┆ ule       ┆ rience   │\n",
       "│ ---       ┆ str       ┆ ---       ┆ ---       ┆   ┆ ---       ┆ ---       ┆ ---       ┆ ---      │\n",
       "│ str       ┆           ┆ str       ┆ str       ┆   ┆ str       ┆ str       ┆ str       ┆ str      │\n",
       "╞═══════════╪═══════════╪═══════════╪═══════════╪═══╪═══════════╪═══════════╪═══════════╪══════════╡\n",
       "│ v_862116  ┆ Смотрител ┆ c_162972  ┆ <strong>О ┆ … ┆ ar_33     ┆ full      ┆ fullDay   ┆ noExperi │\n",
       "│           ┆ ь         ┆           ┆ бязанност ┆   ┆           ┆           ┆           ┆ ence     │\n",
       "│           ┆ музейный  ┆           ┆ и:</stron ┆   ┆           ┆           ┆           ┆          │\n",
       "│           ┆           ┆           ┆ g> <u…    ┆   ┆           ┆           ┆           ┆          │\n",
       "│ v_288642  ┆ Ведущий   ┆ c_208672  ┆ <p><stron ┆ … ┆ ar_2      ┆ full      ┆ fullDay   ┆ noExperi │\n",
       "│           ┆ менеджер  ┆           ┆ g>Возможн ┆   ┆           ┆           ┆           ┆ ence     │\n",
       "│           ┆ по работе ┆           ┆ о, наша   ┆   ┆           ┆           ┆           ┆          │\n",
       "│           ┆ с физ…    ┆           ┆ ваканс…   ┆   ┆           ┆           ┆           ┆          │\n",
       "│ v_1840054 ┆ Бухгалтер ┆ c_198109  ┆ <strong>О ┆ … ┆ ar_78     ┆ full      ┆ fullDay   ┆ between3 │\n",
       "│           ┆ (по       ┆           ┆ бязанност ┆   ┆           ┆           ┆           ┆ And6     │\n",
       "│           ┆ расчету   ┆           ┆ и:</stron ┆   ┆           ┆           ┆           ┆          │\n",
       "│           ┆ зарплаты) ┆           ┆ g> <u…    ┆   ┆           ┆           ┆           ┆          │\n",
       "│ v_2346232 ┆ Пекарь    ┆ c_6137    ┆ <p><stron ┆ … ┆ ar_51     ┆ full      ┆ fullDay   ┆ noExperi │\n",
       "│           ┆ (Токсово, ┆           ┆ g>Для     ┆   ┆           ┆           ┆           ┆ ence     │\n",
       "│           ┆ Привокзал ┆           ┆ каждого,  ┆   ┆           ┆           ┆           ┆          │\n",
       "│           ┆ ьная, …   ┆           ┆ кто хоче… ┆   ┆           ┆           ┆           ┆          │\n",
       "│ …         ┆ …         ┆ …         ┆ …         ┆ … ┆ …         ┆ …         ┆ …         ┆ …        │\n",
       "│ v_205163  ┆ Сварщик   ┆ c_158695  ┆ <p>ОКЛАД  ┆ … ┆ ar_69     ┆ full      ┆ fullDay   ┆ between1 │\n",
       "│           ┆ на полуав ┆           ┆ 80 000    ┆   ┆           ┆           ┆           ┆ And3     │\n",
       "│           ┆ томат     ┆           ┆ РУБЛЕЙ. В ┆   ┆           ┆           ┆           ┆          │\n",
       "│           ┆           ┆           ┆ связи …   ┆   ┆           ┆           ┆           ┆          │\n",
       "│ v_639897  ┆ Главный   ┆ c_209365  ┆ <p>Компан ┆ … ┆ ar_41     ┆ full      ┆ fullDay   ┆ between1 │\n",
       "│           ┆ инженер / ┆           ┆ ия<strong ┆   ┆           ┆           ┆           ┆ And3     │\n",
       "│           ┆ Техническ ┆           ┆ >         ┆   ┆           ┆           ┆           ┆          │\n",
       "│           ┆ ий ди…    ┆           ┆ МОБИЛЬНЫЙ ┆   ┆           ┆           ┆           ┆          │\n",
       "│           ┆           ┆           ┆ ДО…       ┆   ┆           ┆           ┆           ┆          │\n",
       "│ v_1636531 ┆ Провизор/ ┆ c_246244  ┆ <strong>Т ┆ … ┆ ar_60     ┆ full      ┆ fullDay   ┆ noExperi │\n",
       "│           ┆ Фармацевт ┆           ┆ ребования ┆   ┆           ┆           ┆           ┆ ence     │\n",
       "│           ┆ (г.Адыгей ┆           ┆ :</strong ┆   ┆           ┆           ┆           ┆          │\n",
       "│           ┆ ск, …     ┆           ┆ > <ul…    ┆   ┆           ┆           ┆           ┆          │\n",
       "│ v_1689739 ┆ Продавец- ┆ c_73191   ┆ <strong>О ┆ … ┆ ar_91     ┆ full      ┆ fullDay   ┆ between1 │\n",
       "│           ┆ консульта ┆           ┆ бязанност ┆   ┆           ┆           ┆           ┆ And3     │\n",
       "│           ┆ нт в      ┆           ┆ и:</stron ┆   ┆           ┆           ┆           ┆          │\n",
       "│           ┆ магазин   ┆           ┆ g> <u…    ┆   ┆           ┆           ┆           ┆          │\n",
       "│           ┆ б…        ┆           ┆           ┆   ┆           ┆           ┆           ┆          │\n",
       "└───────────┴───────────┴───────────┴───────────┴───┴───────────┴───────────┴───────────┴──────────┘"
      ]
     },
     "execution_count": 22,
     "metadata": {},
     "output_type": "execute_result"
    }
   ],
   "source": [
    "vacancies"
   ]
  },
  {
   "cell_type": "code",
   "execution_count": 23,
   "metadata": {},
   "outputs": [
    {
     "name": "stderr",
     "output_type": "stream",
     "text": [
      "/tmp/ipykernel_583187/2589823886.py:2: DeprecationWarning: Behavior for `lit` will change for sequence inputs. The result will change to be a literal of type List. To retain the old behavior, pass a Series instead, e.g. `Series(sequence)`.\n",
      "  test = test.with_columns(pl.lit(predictions).alias('predictions'))\n"
     ]
    }
   ],
   "source": [
    "predictions = test.select(pl.col('vacancy_id').list.unique(maintain_order=True).list.tail(2))['vacancy_id'].to_list()\n",
    "test = test.with_columns(pl.lit(predictions).alias('predictions'))\n",
    "\n",
    "test.select(['user_id', 'session_id', 'predictions']).write_parquet('submission.pq')"
   ]
  },
  {
   "cell_type": "code",
   "execution_count": 24,
   "metadata": {},
   "outputs": [
    {
     "data": {
      "text/html": [
       "<div><style>\n",
       ".dataframe > thead > tr,\n",
       ".dataframe > tbody > tr {\n",
       "  text-align: right;\n",
       "  white-space: pre-wrap;\n",
       "}\n",
       "</style>\n",
       "<small>shape: (83_189, 6)</small><table border=\"1\" class=\"dataframe\"><thead><tr><th>user_id</th><th>session_id</th><th>vacancy_id</th><th>action_type</th><th>action_dt</th><th>predictions</th></tr><tr><td>str</td><td>str</td><td>list[str]</td><td>list[i64]</td><td>list[datetime[ns]]</td><td>list[str]</td></tr></thead><tbody><tr><td>&quot;u_482520&quot;</td><td>&quot;s_25018731&quot;</td><td>[&quot;v_2597196&quot;, &quot;v_1223061&quot;, &quot;v_1223061&quot;]</td><td>[2, 2, 1]</td><td>[2023-11-19 12:03:13.089, 2023-11-19 12:03:30.396, 2023-11-19 12:05:03.473]</td><td>[&quot;v_2597196&quot;, &quot;v_1223061&quot;]</td></tr><tr><td>&quot;u_582132&quot;</td><td>&quot;s_481216&quot;</td><td>[&quot;v_470400&quot;, &quot;v_470400&quot;, &quot;v_1530783&quot;]</td><td>[2, 1, 2]</td><td>[2023-11-21 15:39:47.981, 2023-11-21 15:43:57.620, 2023-11-21 15:44:37.982]</td><td>[&quot;v_470400&quot;, &quot;v_1530783&quot;]</td></tr><tr><td>&quot;u_212584&quot;</td><td>&quot;s_16918781&quot;</td><td>[&quot;v_1572055&quot;, &quot;v_1572055&quot;, … &quot;v_1329494&quot;]</td><td>[2, 3, … 1]</td><td>[2023-11-16 08:41:47.031, 2023-11-16 08:45:21.403, … 2023-11-16 09:05:27.379]</td><td>[&quot;v_1592343&quot;, &quot;v_1329494&quot;]</td></tr><tr><td>&quot;u_425177&quot;</td><td>&quot;s_17505104&quot;</td><td>[&quot;v_1375331&quot;, &quot;v_1922852&quot;]</td><td>[2, 2]</td><td>[2023-11-17 12:42:18.513, 2023-11-17 12:43:52.744]</td><td>[&quot;v_1375331&quot;, &quot;v_1922852&quot;]</td></tr><tr><td>&quot;u_700997&quot;</td><td>&quot;s_15528830&quot;</td><td>[&quot;v_2152997&quot;, &quot;v_2152997&quot;, &quot;v_1217630&quot;]</td><td>[2, 1, 2]</td><td>[2023-11-16 17:22:53.530, 2023-11-16 17:23:19.885, 2023-11-16 17:23:33.472]</td><td>[&quot;v_2152997&quot;, &quot;v_1217630&quot;]</td></tr><tr><td>&quot;u_687201&quot;</td><td>&quot;s_11187326&quot;</td><td>[&quot;v_2602959&quot;, &quot;v_549337&quot;, … &quot;v_212060&quot;]</td><td>[2, 2, … 1]</td><td>[2023-11-21 14:41:30.546, 2023-11-21 15:00:25.506, … 2023-11-21 15:24:56.271]</td><td>[&quot;v_698513&quot;, &quot;v_212060&quot;]</td></tr><tr><td>&quot;u_573219&quot;</td><td>&quot;s_27394215&quot;</td><td>[&quot;v_1836184&quot;, &quot;v_2733253&quot;, … &quot;v_2297339&quot;]</td><td>[1, 2, … 2]</td><td>[2023-11-21 18:48:43.424, 2023-11-21 18:49:12.552, … 2023-11-21 19:48:55.704]</td><td>[&quot;v_1828011&quot;, &quot;v_2297339&quot;]</td></tr><tr><td>&quot;u_1082782&quot;</td><td>&quot;s_30341164&quot;</td><td>[&quot;v_1026036&quot;, &quot;v_1026036&quot;, … &quot;v_206700&quot;]</td><td>[2, 1, … 2]</td><td>[2023-11-17 02:54:19.561, 2023-11-17 02:54:50.486, … 2023-11-17 03:21:22.008]</td><td>[&quot;v_206700&quot;, &quot;v_528671&quot;]</td></tr><tr><td>&quot;u_81444&quot;</td><td>&quot;s_1909964&quot;</td><td>[&quot;v_2497384&quot;, &quot;v_1480870&quot;, … &quot;v_1500697&quot;]</td><td>[2, 2, … 1]</td><td>[2023-11-15 12:38:34.579, 2023-11-15 13:03:41.360, … 2023-11-15 13:05:15.916]</td><td>[&quot;v_36093&quot;, &quot;v_1500697&quot;]</td></tr><tr><td>&quot;u_858357&quot;</td><td>&quot;s_12463318&quot;</td><td>[&quot;v_1085881&quot;, &quot;v_522338&quot;, … &quot;v_1776027&quot;]</td><td>[2, 2, … 2]</td><td>[2023-11-18 11:58:33.953, 2023-11-18 12:01:09.562, … 2023-11-18 14:39:24.255]</td><td>[&quot;v_2170682&quot;, &quot;v_93799&quot;]</td></tr><tr><td>&quot;u_136080&quot;</td><td>&quot;s_25066108&quot;</td><td>[&quot;v_1167642&quot;, &quot;v_613829&quot;, … &quot;v_2061106&quot;]</td><td>[2, 2, … 2]</td><td>[2023-11-21 05:09:14.167, 2023-11-21 05:10:02.996, … 2023-11-21 05:17:03.842]</td><td>[&quot;v_202425&quot;, &quot;v_2061106&quot;]</td></tr><tr><td>&quot;u_361893&quot;</td><td>&quot;s_12897073&quot;</td><td>[&quot;v_2188274&quot;, &quot;v_941470&quot;, … &quot;v_450701&quot;]</td><td>[2, 2, … 2]</td><td>[2023-11-21 16:03:36.003, 2023-11-21 16:04:07.515, … 2023-11-21 16:24:26.163]</td><td>[&quot;v_2599835&quot;, &quot;v_450701&quot;]</td></tr><tr><td>&hellip;</td><td>&hellip;</td><td>&hellip;</td><td>&hellip;</td><td>&hellip;</td><td>&hellip;</td></tr><tr><td>&quot;u_27420&quot;</td><td>&quot;s_15647766&quot;</td><td>[&quot;v_779522&quot;, &quot;v_32918&quot;, … &quot;v_2382404&quot;]</td><td>[2, 2, … 2]</td><td>[2023-11-15 09:46:24.682, 2023-11-15 09:46:52.048, … 2023-11-15 09:55:07.684]</td><td>[&quot;v_2206376&quot;, &quot;v_2382404&quot;]</td></tr><tr><td>&quot;u_101925&quot;</td><td>&quot;s_9312767&quot;</td><td>[&quot;v_899404&quot;, &quot;v_2009859&quot;]</td><td>[2, 2]</td><td>[2023-11-17 10:54:18.637, 2023-11-17 12:19:55.239]</td><td>[&quot;v_899404&quot;, &quot;v_2009859&quot;]</td></tr><tr><td>&quot;u_105702&quot;</td><td>&quot;s_27857907&quot;</td><td>[&quot;v_473549&quot;, &quot;v_1137408&quot;]</td><td>[2, 2]</td><td>[2023-11-18 09:25:22.487, 2023-11-18 09:27:10.980]</td><td>[&quot;v_473549&quot;, &quot;v_1137408&quot;]</td></tr><tr><td>&quot;u_485573&quot;</td><td>&quot;s_19643559&quot;</td><td>[&quot;v_1032129&quot;, &quot;v_1340903&quot;, &quot;v_1032129&quot;]</td><td>[2, 2, 2]</td><td>[2023-11-21 14:44:58.274, 2023-11-21 15:11:34.645, 2023-11-21 15:11:56.029]</td><td>[&quot;v_1032129&quot;, &quot;v_1340903&quot;]</td></tr><tr><td>&quot;u_737688&quot;</td><td>&quot;s_5225203&quot;</td><td>[&quot;v_616873&quot;, &quot;v_2610004&quot;]</td><td>[2, 2]</td><td>[2023-11-20 12:37:56.056, 2023-11-20 12:41:23.243]</td><td>[&quot;v_616873&quot;, &quot;v_2610004&quot;]</td></tr><tr><td>&quot;u_366097&quot;</td><td>&quot;s_20110640&quot;</td><td>[&quot;v_307100&quot;, &quot;v_2040988&quot;, … &quot;v_2586611&quot;]</td><td>[2, 2, … 1]</td><td>[2023-11-17 15:31:42.944, 2023-11-17 15:32:01.187, … 2023-11-17 15:36:51.248]</td><td>[&quot;v_1603336&quot;, &quot;v_2586611&quot;]</td></tr><tr><td>&quot;u_995221&quot;</td><td>&quot;s_21000652&quot;</td><td>[&quot;v_528661&quot;, &quot;v_528661&quot;, … &quot;v_199518&quot;]</td><td>[2, 1, … 2]</td><td>[2023-11-15 14:00:32.515, 2023-11-15 14:01:08.165, … 2023-11-15 14:04:31.812]</td><td>[&quot;v_99630&quot;, &quot;v_199518&quot;]</td></tr><tr><td>&quot;u_499368&quot;</td><td>&quot;s_19158589&quot;</td><td>[&quot;v_1716634&quot;, &quot;v_2232327&quot;, … &quot;v_1993650&quot;]</td><td>[2, 2, … 2]</td><td>[2023-11-18 03:15:15.530, 2023-11-18 03:19:20.971, … 2023-11-18 03:35:12.020]</td><td>[&quot;v_99981&quot;, &quot;v_1993650&quot;]</td></tr><tr><td>&quot;u_1084868&quot;</td><td>&quot;s_24756162&quot;</td><td>[&quot;v_395706&quot;, &quot;v_2405231&quot;]</td><td>[2, 2]</td><td>[2023-11-15 18:06:16.550, 2023-11-15 18:07:18.447]</td><td>[&quot;v_395706&quot;, &quot;v_2405231&quot;]</td></tr><tr><td>&quot;u_1138032&quot;</td><td>&quot;s_25291467&quot;</td><td>[&quot;v_1213925&quot;, &quot;v_1213925&quot;, … &quot;v_2359832&quot;]</td><td>[2, 1, … 1]</td><td>[2023-11-19 23:19:44.092, 2023-11-19 23:27:22.739, … 2023-11-19 23:27:51.152]</td><td>[&quot;v_1213925&quot;, &quot;v_2359832&quot;]</td></tr><tr><td>&quot;u_608102&quot;</td><td>&quot;s_18813020&quot;</td><td>[&quot;v_933773&quot;, &quot;v_933773&quot;, … &quot;v_2667466&quot;]</td><td>[3, 2, … 2]</td><td>[2023-11-16 15:40:09.408, 2023-11-16 15:40:09.448, … 2023-11-16 16:18:05.927]</td><td>[&quot;v_1508520&quot;, &quot;v_2667466&quot;]</td></tr><tr><td>&quot;u_847738&quot;</td><td>&quot;s_7662913&quot;</td><td>[&quot;v_875568&quot;, &quot;v_2677852&quot;, … &quot;v_1462102&quot;]</td><td>[2, 2, … 2]</td><td>[2023-11-17 13:34:03.386, 2023-11-17 13:34:57.675, … 2023-11-17 14:27:46.817]</td><td>[&quot;v_1764585&quot;, &quot;v_1462102&quot;]</td></tr></tbody></table></div>"
      ],
      "text/plain": [
       "shape: (83_189, 6)\n",
       "┌───────────┬────────────┬────────────────┬─────────────┬───────────────────────┬───────────────┐\n",
       "│ user_id   ┆ session_id ┆ vacancy_id     ┆ action_type ┆ action_dt             ┆ predictions   │\n",
       "│ ---       ┆ ---        ┆ ---            ┆ ---         ┆ ---                   ┆ ---           │\n",
       "│ str       ┆ str        ┆ list[str]      ┆ list[i64]   ┆ list[datetime[ns]]    ┆ list[str]     │\n",
       "╞═══════════╪════════════╪════════════════╪═════════════╪═══════════════════════╪═══════════════╡\n",
       "│ u_482520  ┆ s_25018731 ┆ [\"v_2597196\",  ┆ [2, 2, 1]   ┆ [2023-11-19           ┆ [\"v_2597196\", │\n",
       "│           ┆            ┆ \"v_1223061\",   ┆             ┆ 12:03:13.089, 2023-1… ┆ \"v_1223061\"]  │\n",
       "│           ┆            ┆ \"v_12…         ┆             ┆                       ┆               │\n",
       "│ u_582132  ┆ s_481216   ┆ [\"v_470400\",   ┆ [2, 1, 2]   ┆ [2023-11-21           ┆ [\"v_470400\",  │\n",
       "│           ┆            ┆ \"v_470400\",    ┆             ┆ 15:39:47.981, 2023-1… ┆ \"v_1530783\"]  │\n",
       "│           ┆            ┆ \"v_1530…       ┆             ┆                       ┆               │\n",
       "│ u_212584  ┆ s_16918781 ┆ [\"v_1572055\",  ┆ [2, 3, … 1] ┆ [2023-11-16           ┆ [\"v_1592343\", │\n",
       "│           ┆            ┆ \"v_1572055\", … ┆             ┆ 08:41:47.031, 2023-1… ┆ \"v_1329494\"]  │\n",
       "│           ┆            ┆ \"v_…           ┆             ┆                       ┆               │\n",
       "│ u_425177  ┆ s_17505104 ┆ [\"v_1375331\",  ┆ [2, 2]      ┆ [2023-11-17           ┆ [\"v_1375331\", │\n",
       "│           ┆            ┆ \"v_1922852\"]   ┆             ┆ 12:42:18.513, 2023-1… ┆ \"v_1922852\"]  │\n",
       "│ …         ┆ …          ┆ …              ┆ …           ┆ …                     ┆ …             │\n",
       "│ u_1084868 ┆ s_24756162 ┆ [\"v_395706\",   ┆ [2, 2]      ┆ [2023-11-15           ┆ [\"v_395706\",  │\n",
       "│           ┆            ┆ \"v_2405231\"]   ┆             ┆ 18:06:16.550, 2023-1… ┆ \"v_2405231\"]  │\n",
       "│ u_1138032 ┆ s_25291467 ┆ [\"v_1213925\",  ┆ [2, 1, … 1] ┆ [2023-11-19           ┆ [\"v_1213925\", │\n",
       "│           ┆            ┆ \"v_1213925\", … ┆             ┆ 23:19:44.092, 2023-1… ┆ \"v_2359832\"]  │\n",
       "│           ┆            ┆ \"v_…           ┆             ┆                       ┆               │\n",
       "│ u_608102  ┆ s_18813020 ┆ [\"v_933773\",   ┆ [3, 2, … 2] ┆ [2023-11-16           ┆ [\"v_1508520\", │\n",
       "│           ┆            ┆ \"v_933773\", …  ┆             ┆ 15:40:09.408, 2023-1… ┆ \"v_2667466\"]  │\n",
       "│           ┆            ┆ \"v_26…         ┆             ┆                       ┆               │\n",
       "│ u_847738  ┆ s_7662913  ┆ [\"v_875568\",   ┆ [2, 2, … 2] ┆ [2023-11-17           ┆ [\"v_1764585\", │\n",
       "│           ┆            ┆ \"v_2677852\", … ┆             ┆ 13:34:03.386, 2023-1… ┆ \"v_1462102\"]  │\n",
       "│           ┆            ┆ \"v_1…          ┆             ┆                       ┆               │\n",
       "└───────────┴────────────┴────────────────┴─────────────┴───────────────────────┴───────────────┘"
      ]
     },
     "execution_count": 24,
     "metadata": {},
     "output_type": "execute_result"
    }
   ],
   "source": [
    "test"
   ]
  },
  {
   "cell_type": "markdown",
   "metadata": {},
   "source": [
    "# Simple ALS"
   ]
  },
  {
   "cell_type": "code",
   "execution_count": 25,
   "metadata": {},
   "outputs": [
    {
     "name": "stderr",
     "output_type": "stream",
     "text": [
      "/tmp/ipykernel_583187/3619716076.py:15: DeprecationWarning: `map_dict` is deprecated. It has been renamed to `replace`. The default behavior has changed to keep any values not present in the mapping unchanged. Pass `default=None` to keep existing behavior.\n",
      "  users = pairs['user_id'].map_dict(user2idx).to_numpy()\n",
      "/tmp/ipykernel_583187/3619716076.py:16: DeprecationWarning: `map_dict` is deprecated. It has been renamed to `replace`. The default behavior has changed to keep any values not present in the mapping unchanged. Pass `default=None` to keep existing behavior.\n",
      "  vacancies = pairs['vacancy_id'].map_dict(vac2idx).to_numpy()\n",
      "/tmp/ipykernel_583187/3619716076.py:17: DeprecationWarning: `map_dict` is deprecated. It has been renamed to `replace`. The default behavior has changed to keep any values not present in the mapping unchanged. Pass `default=None` to keep existing behavior.\n",
      "  preferences = pairs['action_type'].map_dict(action_weights).to_numpy()\n"
     ]
    }
   ],
   "source": [
    "unique_users = train['user_id'].unique().to_list()\n",
    "unique_vacancies = train['vacancy_id'].explode().unique().to_list()\n",
    "\n",
    "user2idx = {user_id: idx for idx, user_id in enumerate(unique_users)}\n",
    "vac2idx = {vac_id: idx for idx, vac_id in enumerate(unique_vacancies)}\n",
    "\n",
    "idx2vac = {idx: vac_id for vac_id, idx in vac2idx.items()}\n",
    "action_weights = {\n",
    "    1: 4.0,\n",
    "    2: 1.0,\n",
    "    3: 2.0\n",
    "}\n",
    "\n",
    "pairs = train.select(['user_id', 'vacancy_id', 'action_type']).explode(('vacancy_id', 'action_type'))\n",
    "users = pairs['user_id'].map_dict(user2idx).to_numpy()\n",
    "vacancies = pairs['vacancy_id'].map_dict(vac2idx).to_numpy()\n",
    "preferences = pairs['action_type'].map_dict(action_weights).to_numpy()"
   ]
  },
  {
   "cell_type": "code",
   "execution_count": 33,
   "metadata": {},
   "outputs": [
    {
     "data": {
      "text/html": [
       "<div><style>\n",
       ".dataframe > thead > tr,\n",
       ".dataframe > tbody > tr {\n",
       "  text-align: right;\n",
       "  white-space: pre-wrap;\n",
       "}\n",
       "</style>\n",
       "<small>shape: (21_516_070, 3)</small><table border=\"1\" class=\"dataframe\"><thead><tr><th>user_id</th><th>vacancy_id</th><th>action_type</th></tr><tr><td>str</td><td>str</td><td>i64</td></tr></thead><tbody><tr><td>&quot;u_332060&quot;</td><td>&quot;v_2571684&quot;</td><td>2</td></tr><tr><td>&quot;u_332060&quot;</td><td>&quot;v_488179&quot;</td><td>2</td></tr><tr><td>&quot;u_332060&quot;</td><td>&quot;v_2389179&quot;</td><td>2</td></tr><tr><td>&quot;u_332060&quot;</td><td>&quot;v_1393783&quot;</td><td>2</td></tr><tr><td>&quot;u_332060&quot;</td><td>&quot;v_2608935&quot;</td><td>2</td></tr><tr><td>&quot;u_332060&quot;</td><td>&quot;v_1119127&quot;</td><td>2</td></tr><tr><td>&quot;u_332060&quot;</td><td>&quot;v_323088&quot;</td><td>1</td></tr><tr><td>&quot;u_332060&quot;</td><td>&quot;v_794390&quot;</td><td>1</td></tr><tr><td>&quot;u_332060&quot;</td><td>&quot;v_1020162&quot;</td><td>2</td></tr><tr><td>&quot;u_332060&quot;</td><td>&quot;v_476655&quot;</td><td>1</td></tr><tr><td>&quot;u_332060&quot;</td><td>&quot;v_771586&quot;</td><td>2</td></tr><tr><td>&quot;u_332060&quot;</td><td>&quot;v_518327&quot;</td><td>1</td></tr><tr><td>&hellip;</td><td>&hellip;</td><td>&hellip;</td></tr><tr><td>&quot;u_291791&quot;</td><td>&quot;v_2337147&quot;</td><td>2</td></tr><tr><td>&quot;u_1091028&quot;</td><td>&quot;v_1412036&quot;</td><td>2</td></tr><tr><td>&quot;u_574056&quot;</td><td>&quot;v_2655196&quot;</td><td>2</td></tr><tr><td>&quot;u_489124&quot;</td><td>&quot;v_1975545&quot;</td><td>2</td></tr><tr><td>&quot;u_415800&quot;</td><td>&quot;v_303627&quot;</td><td>2</td></tr><tr><td>&quot;u_54897&quot;</td><td>&quot;v_2669097&quot;</td><td>2</td></tr><tr><td>&quot;u_999352&quot;</td><td>&quot;v_499781&quot;</td><td>2</td></tr><tr><td>&quot;u_202578&quot;</td><td>&quot;v_1499243&quot;</td><td>2</td></tr><tr><td>&quot;u_895531&quot;</td><td>&quot;v_2041381&quot;</td><td>2</td></tr><tr><td>&quot;u_317562&quot;</td><td>&quot;v_503192&quot;</td><td>2</td></tr><tr><td>&quot;u_225581&quot;</td><td>&quot;v_2526106&quot;</td><td>2</td></tr><tr><td>&quot;u_1127158&quot;</td><td>&quot;v_868748&quot;</td><td>2</td></tr></tbody></table></div>"
      ],
      "text/plain": [
       "shape: (21_516_070, 3)\n",
       "┌───────────┬────────────┬─────────────┐\n",
       "│ user_id   ┆ vacancy_id ┆ action_type │\n",
       "│ ---       ┆ ---        ┆ ---         │\n",
       "│ str       ┆ str        ┆ i64         │\n",
       "╞═══════════╪════════════╪═════════════╡\n",
       "│ u_332060  ┆ v_2571684  ┆ 2           │\n",
       "│ u_332060  ┆ v_488179   ┆ 2           │\n",
       "│ u_332060  ┆ v_2389179  ┆ 2           │\n",
       "│ u_332060  ┆ v_1393783  ┆ 2           │\n",
       "│ …         ┆ …          ┆ …           │\n",
       "│ u_895531  ┆ v_2041381  ┆ 2           │\n",
       "│ u_317562  ┆ v_503192   ┆ 2           │\n",
       "│ u_225581  ┆ v_2526106  ┆ 2           │\n",
       "│ u_1127158 ┆ v_868748   ┆ 2           │\n",
       "└───────────┴────────────┴─────────────┘"
      ]
     },
     "execution_count": 33,
     "metadata": {},
     "output_type": "execute_result"
    }
   ],
   "source": [
    "pairs"
   ]
  },
  {
   "cell_type": "code",
   "execution_count": 26,
   "metadata": {},
   "outputs": [
    {
     "name": "stderr",
     "output_type": "stream",
     "text": [
      "100%|██████████| 20/20 [00:24<00:00,  1.21s/it, loss=2.14e-5]\n"
     ]
    }
   ],
   "source": [
    "uv_mat = csr_matrix((preferences, (users, vacancies)))\n",
    "\n",
    "als_model = implicit.als.AlternatingLeastSquares(\n",
    "    factors=150,\n",
    "    random_state=RANDOM_STATE,\n",
    "    iterations=20,\n",
    "    calculate_training_loss=True,\n",
    "    regularization=0.001\n",
    ")\n",
    "als_model.fit(uv_mat)"
   ]
  },
  {
   "cell_type": "code",
   "execution_count": 27,
   "metadata": {},
   "outputs": [
    {
     "data": {
      "text/plain": [
       "((882409, 150), (1458353, 150))"
      ]
     },
     "execution_count": 27,
     "metadata": {},
     "output_type": "execute_result"
    }
   ],
   "source": [
    "als_model.user_factors.shape, als_model.item_factors.shape"
   ]
  },
  {
   "cell_type": "code",
   "execution_count": 28,
   "metadata": {},
   "outputs": [],
   "source": [
    "test_users = test['user_id'].to_list()\n",
    "test_vacancies = test.select(pl.col('vacancy_id').list.unique(maintain_order=True))['vacancy_id'].to_list()"
   ]
  },
  {
   "cell_type": "code",
   "execution_count": 30,
   "metadata": {},
   "outputs": [
    {
     "name": "stderr",
     "output_type": "stream",
     "text": [
      "100%|██████████| 83189/83189 [02:21<00:00, 588.66it/s]\n"
     ]
    }
   ],
   "source": [
    "predictions = []\n",
    "\n",
    "for user, vacs in tqdm(zip(test_users, test_vacancies), total=len(test_users)):\n",
    "    if user not in user2idx:\n",
    "        predictions.append(vacs)\n",
    "        continue\n",
    "    cuser = user2idx[user]\n",
    "\n",
    "    recommendations = als_model.recommend(cuser, uv_mat[cuser], N=N_PREDICTIONS)[0]\n",
    "    recommendations = [idx2vac[cv] for cv in recommendations]\n",
    "    predictions.append(recommendations)"
   ]
  },
  {
   "cell_type": "code",
   "execution_count": 31,
   "metadata": {},
   "outputs": [
    {
     "name": "stderr",
     "output_type": "stream",
     "text": [
      "/tmp/ipykernel_583187/2455226998.py:1: DeprecationWarning: Behavior for `lit` will change for sequence inputs. The result will change to be a literal of type List. To retain the old behavior, pass a Series instead, e.g. `Series(sequence)`.\n",
      "  test = test.with_columns(pl.lit(predictions).alias('predictions'))\n"
     ]
    }
   ],
   "source": [
    "test = test.with_columns(pl.lit(predictions).alias('predictions'))\n",
    "test.select(['user_id', 'session_id', 'predictions']).write_parquet('als_submission.pq')"
   ]
  },
  {
   "cell_type": "code",
   "execution_count": 32,
   "metadata": {},
   "outputs": [
    {
     "data": {
      "text/html": [
       "<div><style>\n",
       ".dataframe > thead > tr,\n",
       ".dataframe > tbody > tr {\n",
       "  text-align: right;\n",
       "  white-space: pre-wrap;\n",
       "}\n",
       "</style>\n",
       "<small>shape: (83_189, 6)</small><table border=\"1\" class=\"dataframe\"><thead><tr><th>user_id</th><th>session_id</th><th>vacancy_id</th><th>action_type</th><th>action_dt</th><th>predictions</th></tr><tr><td>str</td><td>str</td><td>list[str]</td><td>list[i64]</td><td>list[datetime[ns]]</td><td>list[str]</td></tr></thead><tbody><tr><td>&quot;u_482520&quot;</td><td>&quot;s_25018731&quot;</td><td>[&quot;v_2597196&quot;, &quot;v_1223061&quot;, &quot;v_1223061&quot;]</td><td>[2, 2, 1]</td><td>[2023-11-19 12:03:13.089, 2023-11-19 12:03:30.396, 2023-11-19 12:05:03.473]</td><td>[&quot;v_2650515&quot;, &quot;v_367301&quot;, … &quot;v_2337447&quot;]</td></tr><tr><td>&quot;u_582132&quot;</td><td>&quot;s_481216&quot;</td><td>[&quot;v_470400&quot;, &quot;v_470400&quot;, &quot;v_1530783&quot;]</td><td>[2, 1, 2]</td><td>[2023-11-21 15:39:47.981, 2023-11-21 15:43:57.620, 2023-11-21 15:44:37.982]</td><td>[&quot;v_1347362&quot;, &quot;v_1798396&quot;, … &quot;v_726002&quot;]</td></tr><tr><td>&quot;u_212584&quot;</td><td>&quot;s_16918781&quot;</td><td>[&quot;v_1572055&quot;, &quot;v_1572055&quot;, … &quot;v_1329494&quot;]</td><td>[2, 3, … 1]</td><td>[2023-11-16 08:41:47.031, 2023-11-16 08:45:21.403, … 2023-11-16 09:05:27.379]</td><td>[&quot;v_1572055&quot;, &quot;v_953153&quot;, … &quot;v_1329494&quot;]</td></tr><tr><td>&quot;u_425177&quot;</td><td>&quot;s_17505104&quot;</td><td>[&quot;v_1375331&quot;, &quot;v_1922852&quot;]</td><td>[2, 2]</td><td>[2023-11-17 12:42:18.513, 2023-11-17 12:43:52.744]</td><td>[&quot;v_2650515&quot;, &quot;v_367301&quot;, … &quot;v_676801&quot;]</td></tr><tr><td>&quot;u_700997&quot;</td><td>&quot;s_15528830&quot;</td><td>[&quot;v_2152997&quot;, &quot;v_2152997&quot;, &quot;v_1217630&quot;]</td><td>[2, 1, 2]</td><td>[2023-11-16 17:22:53.530, 2023-11-16 17:23:19.885, 2023-11-16 17:23:33.472]</td><td>[&quot;v_1431178&quot;, &quot;v_2395102&quot;, … &quot;v_1352210&quot;]</td></tr><tr><td>&quot;u_687201&quot;</td><td>&quot;s_11187326&quot;</td><td>[&quot;v_2602959&quot;, &quot;v_549337&quot;, … &quot;v_212060&quot;]</td><td>[2, 2, … 1]</td><td>[2023-11-21 14:41:30.546, 2023-11-21 15:00:25.506, … 2023-11-21 15:24:56.271]</td><td>[&quot;v_1465910&quot;, &quot;v_1586766&quot;, … &quot;v_668735&quot;]</td></tr><tr><td>&quot;u_573219&quot;</td><td>&quot;s_27394215&quot;</td><td>[&quot;v_1836184&quot;, &quot;v_2733253&quot;, … &quot;v_2297339&quot;]</td><td>[1, 2, … 2]</td><td>[2023-11-21 18:48:43.424, 2023-11-21 18:49:12.552, … 2023-11-21 19:48:55.704]</td><td>[&quot;v_701974&quot;, &quot;v_1081658&quot;, … &quot;v_27909&quot;]</td></tr><tr><td>&quot;u_1082782&quot;</td><td>&quot;s_30341164&quot;</td><td>[&quot;v_1026036&quot;, &quot;v_1026036&quot;, … &quot;v_206700&quot;]</td><td>[2, 1, … 2]</td><td>[2023-11-17 02:54:19.561, 2023-11-17 02:54:50.486, … 2023-11-17 03:21:22.008]</td><td>[&quot;v_964765&quot;, &quot;v_460169&quot;, … &quot;v_9584&quot;]</td></tr><tr><td>&quot;u_81444&quot;</td><td>&quot;s_1909964&quot;</td><td>[&quot;v_2497384&quot;, &quot;v_1480870&quot;, … &quot;v_1500697&quot;]</td><td>[2, 2, … 1]</td><td>[2023-11-15 12:38:34.579, 2023-11-15 13:03:41.360, … 2023-11-15 13:05:15.916]</td><td>[&quot;v_1431178&quot;, &quot;v_2395102&quot;, … &quot;v_2192945&quot;]</td></tr><tr><td>&quot;u_858357&quot;</td><td>&quot;s_12463318&quot;</td><td>[&quot;v_1085881&quot;, &quot;v_522338&quot;, … &quot;v_1776027&quot;]</td><td>[2, 2, … 2]</td><td>[2023-11-18 11:58:33.953, 2023-11-18 12:01:09.562, … 2023-11-18 14:39:24.255]</td><td>[&quot;v_1840884&quot;, &quot;v_1507795&quot;, … &quot;v_1876516&quot;]</td></tr><tr><td>&quot;u_136080&quot;</td><td>&quot;s_25066108&quot;</td><td>[&quot;v_1167642&quot;, &quot;v_613829&quot;, … &quot;v_2061106&quot;]</td><td>[2, 2, … 2]</td><td>[2023-11-21 05:09:14.167, 2023-11-21 05:10:02.996, … 2023-11-21 05:17:03.842]</td><td>[&quot;v_628246&quot;, &quot;v_926740&quot;, … &quot;v_2253806&quot;]</td></tr><tr><td>&quot;u_361893&quot;</td><td>&quot;s_12897073&quot;</td><td>[&quot;v_2188274&quot;, &quot;v_941470&quot;, … &quot;v_450701&quot;]</td><td>[2, 2, … 2]</td><td>[2023-11-21 16:03:36.003, 2023-11-21 16:04:07.515, … 2023-11-21 16:24:26.163]</td><td>[&quot;v_292120&quot;, &quot;v_1426084&quot;, … &quot;v_1003684&quot;]</td></tr><tr><td>&hellip;</td><td>&hellip;</td><td>&hellip;</td><td>&hellip;</td><td>&hellip;</td><td>&hellip;</td></tr><tr><td>&quot;u_27420&quot;</td><td>&quot;s_15647766&quot;</td><td>[&quot;v_779522&quot;, &quot;v_32918&quot;, … &quot;v_2382404&quot;]</td><td>[2, 2, … 2]</td><td>[2023-11-15 09:46:24.682, 2023-11-15 09:46:52.048, … 2023-11-15 09:55:07.684]</td><td>[&quot;v_137237&quot;, &quot;v_1463574&quot;, … &quot;v_1028534&quot;]</td></tr><tr><td>&quot;u_101925&quot;</td><td>&quot;s_9312767&quot;</td><td>[&quot;v_899404&quot;, &quot;v_2009859&quot;]</td><td>[2, 2]</td><td>[2023-11-17 10:54:18.637, 2023-11-17 12:19:55.239]</td><td>[&quot;v_460169&quot;, &quot;v_1431178&quot;, … &quot;v_168324&quot;]</td></tr><tr><td>&quot;u_105702&quot;</td><td>&quot;s_27857907&quot;</td><td>[&quot;v_473549&quot;, &quot;v_1137408&quot;]</td><td>[2, 2]</td><td>[2023-11-18 09:25:22.487, 2023-11-18 09:27:10.980]</td><td>[&quot;v_1857306&quot;, &quot;v_1438321&quot;, … &quot;v_85515&quot;]</td></tr><tr><td>&quot;u_485573&quot;</td><td>&quot;s_19643559&quot;</td><td>[&quot;v_1032129&quot;, &quot;v_1340903&quot;, &quot;v_1032129&quot;]</td><td>[2, 2, 2]</td><td>[2023-11-21 14:44:58.274, 2023-11-21 15:11:34.645, 2023-11-21 15:11:56.029]</td><td>[&quot;v_1730413&quot;, &quot;v_1232408&quot;, … &quot;v_2644585&quot;]</td></tr><tr><td>&quot;u_737688&quot;</td><td>&quot;s_5225203&quot;</td><td>[&quot;v_616873&quot;, &quot;v_2610004&quot;]</td><td>[2, 2]</td><td>[2023-11-20 12:37:56.056, 2023-11-20 12:41:23.243]</td><td>[&quot;v_2580478&quot;, &quot;v_1423085&quot;, … &quot;v_1873609&quot;]</td></tr><tr><td>&quot;u_366097&quot;</td><td>&quot;s_20110640&quot;</td><td>[&quot;v_307100&quot;, &quot;v_2040988&quot;, … &quot;v_2586611&quot;]</td><td>[2, 2, … 1]</td><td>[2023-11-17 15:31:42.944, 2023-11-17 15:32:01.187, … 2023-11-17 15:36:51.248]</td><td>[&quot;v_372548&quot;, &quot;v_444322&quot;, … &quot;v_1869222&quot;]</td></tr><tr><td>&quot;u_995221&quot;</td><td>&quot;s_21000652&quot;</td><td>[&quot;v_528661&quot;, &quot;v_528661&quot;, … &quot;v_199518&quot;]</td><td>[2, 1, … 2]</td><td>[2023-11-15 14:00:32.515, 2023-11-15 14:01:08.165, … 2023-11-15 14:04:31.812]</td><td>[&quot;v_2619838&quot;, &quot;v_542648&quot;, … &quot;v_1454784&quot;]</td></tr><tr><td>&quot;u_499368&quot;</td><td>&quot;s_19158589&quot;</td><td>[&quot;v_1716634&quot;, &quot;v_2232327&quot;, … &quot;v_1993650&quot;]</td><td>[2, 2, … 2]</td><td>[2023-11-18 03:15:15.530, 2023-11-18 03:19:20.971, … 2023-11-18 03:35:12.020]</td><td>[&quot;v_1716634&quot;, &quot;v_2232327&quot;, … &quot;v_1993650&quot;]</td></tr><tr><td>&quot;u_1084868&quot;</td><td>&quot;s_24756162&quot;</td><td>[&quot;v_395706&quot;, &quot;v_2405231&quot;]</td><td>[2, 2]</td><td>[2023-11-15 18:06:16.550, 2023-11-15 18:07:18.447]</td><td>[&quot;v_580809&quot;, &quot;v_1350249&quot;, … &quot;v_1368368&quot;]</td></tr><tr><td>&quot;u_1138032&quot;</td><td>&quot;s_25291467&quot;</td><td>[&quot;v_1213925&quot;, &quot;v_1213925&quot;, … &quot;v_2359832&quot;]</td><td>[2, 1, … 1]</td><td>[2023-11-19 23:19:44.092, 2023-11-19 23:27:22.739, … 2023-11-19 23:27:51.152]</td><td>[&quot;v_1213925&quot;, &quot;v_2359832&quot;]</td></tr><tr><td>&quot;u_608102&quot;</td><td>&quot;s_18813020&quot;</td><td>[&quot;v_933773&quot;, &quot;v_933773&quot;, … &quot;v_2667466&quot;]</td><td>[3, 2, … 2]</td><td>[2023-11-16 15:40:09.408, 2023-11-16 15:40:09.448, … 2023-11-16 16:18:05.927]</td><td>[&quot;v_1075856&quot;, &quot;v_186121&quot;, … &quot;v_182178&quot;]</td></tr><tr><td>&quot;u_847738&quot;</td><td>&quot;s_7662913&quot;</td><td>[&quot;v_875568&quot;, &quot;v_2677852&quot;, … &quot;v_1462102&quot;]</td><td>[2, 2, … 2]</td><td>[2023-11-17 13:34:03.386, 2023-11-17 13:34:57.675, … 2023-11-17 14:27:46.817]</td><td>[&quot;v_1964036&quot;, &quot;v_2716991&quot;, … &quot;v_937454&quot;]</td></tr></tbody></table></div>"
      ],
      "text/plain": [
       "shape: (83_189, 6)\n",
       "┌───────────┬────────────┬────────────────┬─────────────┬─────────────────────────┬────────────────┐\n",
       "│ user_id   ┆ session_id ┆ vacancy_id     ┆ action_type ┆ action_dt               ┆ predictions    │\n",
       "│ ---       ┆ ---        ┆ ---            ┆ ---         ┆ ---                     ┆ ---            │\n",
       "│ str       ┆ str        ┆ list[str]      ┆ list[i64]   ┆ list[datetime[ns]]      ┆ list[str]      │\n",
       "╞═══════════╪════════════╪════════════════╪═════════════╪═════════════════════════╪════════════════╡\n",
       "│ u_482520  ┆ s_25018731 ┆ [\"v_2597196\",  ┆ [2, 2, 1]   ┆ [2023-11-19             ┆ [\"v_2650515\",  │\n",
       "│           ┆            ┆ \"v_1223061\",   ┆             ┆ 12:03:13.089, 2023-1…   ┆ \"v_367301\", …  │\n",
       "│           ┆            ┆ \"v_12…         ┆             ┆                         ┆ \"v_2…          │\n",
       "│ u_582132  ┆ s_481216   ┆ [\"v_470400\",   ┆ [2, 1, 2]   ┆ [2023-11-21             ┆ [\"v_1347362\",  │\n",
       "│           ┆            ┆ \"v_470400\",    ┆             ┆ 15:39:47.981, 2023-1…   ┆ \"v_1798396\", … │\n",
       "│           ┆            ┆ \"v_1530…       ┆             ┆                         ┆ \"v_…           │\n",
       "│ u_212584  ┆ s_16918781 ┆ [\"v_1572055\",  ┆ [2, 3, … 1] ┆ [2023-11-16             ┆ [\"v_1572055\",  │\n",
       "│           ┆            ┆ \"v_1572055\", … ┆             ┆ 08:41:47.031, 2023-1…   ┆ \"v_953153\", …  │\n",
       "│           ┆            ┆ \"v_…           ┆             ┆                         ┆ \"v_1…          │\n",
       "│ u_425177  ┆ s_17505104 ┆ [\"v_1375331\",  ┆ [2, 2]      ┆ [2023-11-17             ┆ [\"v_2650515\",  │\n",
       "│           ┆            ┆ \"v_1922852\"]   ┆             ┆ 12:42:18.513, 2023-1…   ┆ \"v_367301\", …  │\n",
       "│           ┆            ┆                ┆             ┆                         ┆ \"v_6…          │\n",
       "│ …         ┆ …          ┆ …              ┆ …           ┆ …                       ┆ …              │\n",
       "│ u_1084868 ┆ s_24756162 ┆ [\"v_395706\",   ┆ [2, 2]      ┆ [2023-11-15             ┆ [\"v_580809\",   │\n",
       "│           ┆            ┆ \"v_2405231\"]   ┆             ┆ 18:06:16.550, 2023-1…   ┆ \"v_1350249\", … │\n",
       "│           ┆            ┆                ┆             ┆                         ┆ \"v_1…          │\n",
       "│ u_1138032 ┆ s_25291467 ┆ [\"v_1213925\",  ┆ [2, 1, … 1] ┆ [2023-11-19             ┆ [\"v_1213925\",  │\n",
       "│           ┆            ┆ \"v_1213925\", … ┆             ┆ 23:19:44.092, 2023-1…   ┆ \"v_2359832\"]   │\n",
       "│           ┆            ┆ \"v_…           ┆             ┆                         ┆                │\n",
       "│ u_608102  ┆ s_18813020 ┆ [\"v_933773\",   ┆ [3, 2, … 2] ┆ [2023-11-16             ┆ [\"v_1075856\",  │\n",
       "│           ┆            ┆ \"v_933773\", …  ┆             ┆ 15:40:09.408, 2023-1…   ┆ \"v_186121\", …  │\n",
       "│           ┆            ┆ \"v_26…         ┆             ┆                         ┆ \"v_1…          │\n",
       "│ u_847738  ┆ s_7662913  ┆ [\"v_875568\",   ┆ [2, 2, … 2] ┆ [2023-11-17             ┆ [\"v_1964036\",  │\n",
       "│           ┆            ┆ \"v_2677852\", … ┆             ┆ 13:34:03.386, 2023-1…   ┆ \"v_2716991\", … │\n",
       "│           ┆            ┆ \"v_1…          ┆             ┆                         ┆ \"v_…           │\n",
       "└───────────┴────────────┴────────────────┴─────────────┴─────────────────────────┴────────────────┘"
      ]
     },
     "execution_count": 32,
     "metadata": {},
     "output_type": "execute_result"
    }
   ],
   "source": [
    "test"
   ]
  },
  {
   "cell_type": "code",
   "execution_count": null,
   "metadata": {},
   "outputs": [],
   "source": []
  }
 ],
 "metadata": {
  "kernelspec": {
   "display_name": "Python 3 (ipykernel)",
   "language": "python",
   "name": "python3"
  },
  "language_info": {
   "codemirror_mode": {
    "name": "ipython",
    "version": 3
   },
   "file_extension": ".py",
   "mimetype": "text/x-python",
   "name": "python",
   "nbconvert_exporter": "python",
   "pygments_lexer": "ipython3",
   "version": "3.8.18"
  }
 },
 "nbformat": 4,
 "nbformat_minor": 4
}
