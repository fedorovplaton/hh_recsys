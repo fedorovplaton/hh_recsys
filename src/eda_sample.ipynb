{
 "cells": [
  {
   "cell_type": "code",
   "execution_count": 1,
   "id": "f0e13b10-08b3-4a91-ada9-ded41ce72603",
   "metadata": {},
   "outputs": [],
   "source": [
    "import pandas as pd\n",
    "import polars as pl\n",
    "\n",
    "path = \"../data/raw/hh_recsys_sample.pq\""
   ]
  },
  {
   "cell_type": "code",
   "execution_count": 2,
   "id": "883ce87c-da76-4b11-a523-eb8c327b5dd4",
   "metadata": {},
   "outputs": [],
   "source": [
    "df = pl.read_parquet(path).to_pandas()"
   ]
  },
  {
   "cell_type": "code",
   "execution_count": 3,
   "id": "e0f31111-7dfa-42d3-adfc-45a932028633",
   "metadata": {},
   "outputs": [
    {
     "data": {
      "text/plain": [
       "Index(['user_id', 'session_id', 'predictions'], dtype='object')"
      ]
     },
     "execution_count": 3,
     "metadata": {},
     "output_type": "execute_result"
    }
   ],
   "source": [
    "df.columns"
   ]
  },
  {
   "cell_type": "code",
   "execution_count": 4,
   "id": "1964ad3b-6c2d-4b5a-a3ef-84fa3fd0f42f",
   "metadata": {},
   "outputs": [
    {
     "data": {
      "text/html": [
       "<div>\n",
       "<style scoped>\n",
       "    .dataframe tbody tr th:only-of-type {\n",
       "        vertical-align: middle;\n",
       "    }\n",
       "\n",
       "    .dataframe tbody tr th {\n",
       "        vertical-align: top;\n",
       "    }\n",
       "\n",
       "    .dataframe thead th {\n",
       "        text-align: right;\n",
       "    }\n",
       "</style>\n",
       "<table border=\"1\" class=\"dataframe\">\n",
       "  <thead>\n",
       "    <tr style=\"text-align: right;\">\n",
       "      <th></th>\n",
       "      <th>user_id</th>\n",
       "      <th>session_id</th>\n",
       "      <th>predictions</th>\n",
       "    </tr>\n",
       "  </thead>\n",
       "  <tbody>\n",
       "    <tr>\n",
       "      <th>0</th>\n",
       "      <td>u_196292</td>\n",
       "      <td>s_2866702</td>\n",
       "      <td>[v_406657, v_1244411]</td>\n",
       "    </tr>\n",
       "    <tr>\n",
       "      <th>1</th>\n",
       "      <td>u_722752</td>\n",
       "      <td>s_14316160</td>\n",
       "      <td>[v_606567]</td>\n",
       "    </tr>\n",
       "    <tr>\n",
       "      <th>2</th>\n",
       "      <td>u_667283</td>\n",
       "      <td>s_27825981</td>\n",
       "      <td>[v_1670818, v_606567]</td>\n",
       "    </tr>\n",
       "    <tr>\n",
       "      <th>3</th>\n",
       "      <td>u_726400</td>\n",
       "      <td>s_31012927</td>\n",
       "      <td>[v_745072, v_606567]</td>\n",
       "    </tr>\n",
       "    <tr>\n",
       "      <th>4</th>\n",
       "      <td>u_976528</td>\n",
       "      <td>s_8792423</td>\n",
       "      <td>[v_2698309, v_606567]</td>\n",
       "    </tr>\n",
       "  </tbody>\n",
       "</table>\n",
       "</div>"
      ],
      "text/plain": [
       "    user_id  session_id            predictions\n",
       "0  u_196292   s_2866702  [v_406657, v_1244411]\n",
       "1  u_722752  s_14316160             [v_606567]\n",
       "2  u_667283  s_27825981  [v_1670818, v_606567]\n",
       "3  u_726400  s_31012927   [v_745072, v_606567]\n",
       "4  u_976528   s_8792423  [v_2698309, v_606567]"
      ]
     },
     "execution_count": 4,
     "metadata": {},
     "output_type": "execute_result"
    }
   ],
   "source": [
    "df.head()"
   ]
  },
  {
   "cell_type": "code",
   "execution_count": 5,
   "id": "f557d16a-cd86-49db-a72e-128d4ee19324",
   "metadata": {},
   "outputs": [
    {
     "data": {
      "text/plain": [
       "83189"
      ]
     },
     "execution_count": 5,
     "metadata": {},
     "output_type": "execute_result"
    }
   ],
   "source": [
    "df[\"user_id\"].drop_duplicates().shape[0]"
   ]
  }
 ],
 "metadata": {
  "kernelspec": {
   "display_name": "Python 3 (ipykernel)",
   "language": "python",
   "name": "python3"
  },
  "language_info": {
   "codemirror_mode": {
    "name": "ipython",
    "version": 3
   },
   "file_extension": ".py",
   "mimetype": "text/x-python",
   "name": "python",
   "nbconvert_exporter": "python",
   "pygments_lexer": "ipython3",
   "version": "3.8.18"
  }
 },
 "nbformat": 4,
 "nbformat_minor": 5
}
