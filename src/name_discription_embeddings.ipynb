{
 "cells": [
  {
   "cell_type": "code",
   "execution_count": 1,
   "id": "0bbe9b73-dc66-4f66-8b56-cfdf5449c641",
   "metadata": {},
   "outputs": [],
   "source": [
    "# from sentence_transformers import SentenceTransformer\n",
    "# import polars as pl\n",
    "\n",
    "import pandas as pd\n",
    "import faiss  \n",
    "import numpy as np\n",
    "import gc\n",
    "import pickle\n",
    "import os\n",
    "from tqdm import tqdm\n",
    "from os.path import join as path_join"
   ]
  },
  {
   "cell_type": "code",
   "execution_count": 35,
   "id": "625e94ad-c568-4210-a1b6-0782a43cbfa1",
   "metadata": {},
   "outputs": [],
   "source": [
    "# model = SentenceTransformer('sentence-transformers/paraphrase-multilingual-MiniLM-L12-v2')"
   ]
  },
  {
   "cell_type": "code",
   "execution_count": 2,
   "id": "490549c0-4089-4b99-9fe6-3474ed544611",
   "metadata": {},
   "outputs": [],
   "source": [
    "path = \"../data/raw/hh_recsys_vacancies.pq\"\n",
    "embedding_root = \"dumps/production/i2i/name_area\"\n",
    "vacancies_tmp_path = path_join(embedding_root, \"vacancies.parquet\")\n",
    "embeddings_path = path_join(embedding_root, \"embeddings.pickle\")\n",
    "\n",
    "# shards_root    = \"dumps/production/i2i/paraphrase_multilingual_MiniLM_L12_v2_384d/shards\"\n",
    "# indexes_root   = \"dumps/production/i2i/paraphrase_multilingual_MiniLM_L12_v2_384d/indexes\"\n",
    "# output_path = \"dumps/production/i2i/paraphrase_multilingual_MiniLM_L12_v2_384d.parquet\""
   ]
  },
  {
   "cell_type": "code",
   "execution_count": 3,
   "id": "a1476519-8500-4db6-b8af-20b4fdadab72",
   "metadata": {},
   "outputs": [],
   "source": [
    "if not os.path.exists(embedding_root):\n",
    "    os.makedirs(embedding_root)\n",
    "\n",
    "# if not os.path.exists(shards_root):\n",
    "#     os.makedirs(shards_root)\n",
    "\n",
    "# if not os.path.exists(indexes_root):\n",
    "#     os.makedirs(indexes_root)"
   ]
  },
  {
   "cell_type": "code",
   "execution_count": 4,
   "id": "0af39417-d870-4842-94d0-bdd738f1139b",
   "metadata": {},
   "outputs": [],
   "source": [
    "# vacancies = pl.read_parquet(path).to_pandas()"
   ]
  },
  {
   "cell_type": "code",
   "execution_count": 5,
   "id": "46d44379-8f1e-423c-a57d-a34d1a98e968",
   "metadata": {},
   "outputs": [
    {
     "data": {
      "text/html": [
       "<div>\n",
       "<style scoped>\n",
       "    .dataframe tbody tr th:only-of-type {\n",
       "        vertical-align: middle;\n",
       "    }\n",
       "\n",
       "    .dataframe tbody tr th {\n",
       "        vertical-align: top;\n",
       "    }\n",
       "\n",
       "    .dataframe thead th {\n",
       "        text-align: right;\n",
       "    }\n",
       "</style>\n",
       "<table border=\"1\" class=\"dataframe\">\n",
       "  <thead>\n",
       "    <tr style=\"text-align: right;\">\n",
       "      <th></th>\n",
       "      <th>vacancy_id</th>\n",
       "      <th>name</th>\n",
       "      <th>company.id</th>\n",
       "      <th>description</th>\n",
       "      <th>keySkills.keySkill</th>\n",
       "      <th>compensation.from</th>\n",
       "      <th>compensation.to</th>\n",
       "      <th>compensation.currencyCode</th>\n",
       "      <th>area.id</th>\n",
       "      <th>area.regionId</th>\n",
       "      <th>employment</th>\n",
       "      <th>workSchedule</th>\n",
       "      <th>workExperience</th>\n",
       "    </tr>\n",
       "  </thead>\n",
       "  <tbody>\n",
       "    <tr>\n",
       "      <th>0</th>\n",
       "      <td>v_862116</td>\n",
       "      <td>Смотритель музейный</td>\n",
       "      <td>c_162972</td>\n",
       "      <td>&lt;strong&gt;Обязанности:&lt;/strong&gt; &lt;ul&gt; &lt;li&gt;Осущест...</td>\n",
       "      <td>[Пользователь ПК, Работа в команде, Умение пла...</td>\n",
       "      <td>16500.0</td>\n",
       "      <td>NaN</td>\n",
       "      <td>RUR</td>\n",
       "      <td>a_4761</td>\n",
       "      <td>ar_33</td>\n",
       "      <td>full</td>\n",
       "      <td>fullDay</td>\n",
       "      <td>noExperience</td>\n",
       "    </tr>\n",
       "  </tbody>\n",
       "</table>\n",
       "</div>"
      ],
      "text/plain": [
       "  vacancy_id                 name company.id  \\\n",
       "0   v_862116  Смотритель музейный   c_162972   \n",
       "\n",
       "                                         description  \\\n",
       "0  <strong>Обязанности:</strong> <ul> <li>Осущест...   \n",
       "\n",
       "                                  keySkills.keySkill  compensation.from  \\\n",
       "0  [Пользователь ПК, Работа в команде, Умение пла...            16500.0   \n",
       "\n",
       "   compensation.to compensation.currencyCode area.id area.regionId employment  \\\n",
       "0              NaN                       RUR  a_4761         ar_33       full   \n",
       "\n",
       "  workSchedule workExperience  \n",
       "0      fullDay   noExperience  "
      ]
     },
     "execution_count": 5,
     "metadata": {},
     "output_type": "execute_result"
    }
   ],
   "source": [
    "# vacancies.head(1)"
   ]
  },
  {
   "cell_type": "code",
   "execution_count": 6,
   "id": "4e8278f2-7f32-4673-b073-69f7ee6a5ab2",
   "metadata": {},
   "outputs": [
    {
     "data": {
      "text/plain": [
       "'<p><strong>Для каждого, кто хочет работать и зарабатывать! Для каждого, кто готов к профессиональному и карьерному росту! Ведущая федеральная розничная сеть магазинов «Пятерочка» приглашает на работу:</strong></p> <p> </p> <p><strong>ЧЕМ НУЖНО ЗАНИМАТЬСЯ:</strong></p> <ul> <li>Выпечка хлебобулочных изделий из полуфабрикатов</li> <li>Упаковка, фасовка, маркировка</li> <li>Обеспечивать наполненность витрины</li> </ul> <p> </p> <p><strong>ОТ ВАС:</strong></p> <ul> <li>Желание работать с хлебобулочными продуктами, остальному научим!</li> </ul> <p> </p> <p><strong>ОТ НАС:</strong></p> <ul> <li>Оформление по ТК РФ</li> <li>Фиксированный оклад + премии и надбавки за стаж. Средний доход 38500 – 42000 руб. в месяц до вычета налогов</li> <li>График работы 5/2, 2/2, возможен неполный рабочий день, неполная рабочая неделя</li> <li>Финансовая поддержка в сложных жизненных ситуациях</li> <li>Медицинская книжка за счет компании</li> <li>Скидки в магазинах сети, скидки от партнеров</li> <li>Оборудованная комната отдыха с бесплатным кофе и чаем</li> <li>Медицинская страховка для сотрудника и его семьи в формате телемедицины, включая поддержку узких специалистов</li> <li>Подарки и компенсация отдыха для детей сотрудников</li> </ul> <p> </p> <ul> <li><strong>ПРИВЕТСТВУЕТСЯ АНАЛОГИЧНЫЙ ОПЫТ РАБОТЫ НА ДОЛЖНОСТЯХ:</strong> Пекарь, пекарь-кондитер, повар горячего цеха, повар холодного цеха, заготовщик, кухонный рабочий, работник пищевого производства и блинопек<strong>. </strong></li> </ul>'"
      ]
     },
     "execution_count": 6,
     "metadata": {},
     "output_type": "execute_result"
    }
   ],
   "source": [
    "# vacancies.iloc[3][\"description\"]"
   ]
  },
  {
   "cell_type": "code",
   "execution_count": 7,
   "id": "6f6ae2ae-df65-4017-a294-67f564dba623",
   "metadata": {},
   "outputs": [
    {
     "data": {
      "text/plain": [
       "([(601764, 'ar_41'), (228421, 'ar_78'), (173943, 'ar_64')], 105)"
      ]
     },
     "execution_count": 7,
     "metadata": {},
     "output_type": "execute_result"
    }
   ],
   "source": [
    "# vacancies[\"area.regionId\"].value_counts()\n",
    "\n",
    "# area_data = []\n",
    "\n",
    "# for area_id, cnt in vacancies[\"area.regionId\"].value_counts().items():\n",
    "#     area_data.append((cnt, area_id))\n",
    "\n",
    "# area_data = sorted(area_data, reverse=True)\n",
    "\n",
    "# area_data[:3], len(area_data)"
   ]
  },
  {
   "cell_type": "code",
   "execution_count": 8,
   "id": "18270ec1-86b7-4aa9-9ea5-564bb90b1c39",
   "metadata": {},
   "outputs": [
    {
     "data": {
      "text/plain": [
       "([(254274, 'Москва'),\n",
       "  (107511, 'Санкт-Петербург'),\n",
       "  (96015, 'Московская область')],\n",
       " 88)"
      ]
     },
     "execution_count": 8,
     "metadata": {},
     "output_type": "execute_result"
    }
   ],
   "source": [
    "# cities = \"\"\"\n",
    "# Алтайский край 16221\n",
    "# Амурская область 5113\n",
    "# Архангельская область 5539\n",
    "# Астраханская область 4793\n",
    "# Белгородская область 10439\n",
    "# Брянская область 6272\n",
    "# Владимирская область 11966\n",
    "# Волгоградская область 14595\n",
    "# Вологодская область 8207\n",
    "# Воронежская область 21711\n",
    "# Донецкая Народная Республика 813\n",
    "# Еврейская АО 558\n",
    "# Забайкальский край 4870\n",
    "# Запорожская область 178\n",
    "# Ивановская область 8100\n",
    "# Иркутская область 20369\n",
    "# Кабардино-Балкарская республика 778\n",
    "# Калининградская область 8111\n",
    "# Калужская область 9966\n",
    "# Камчатский край 1291\n",
    "# Карачаево-Черкесская Республика 589\n",
    "# Кемеровская область 22103\n",
    "# Кировская область 8289\n",
    "# Костромская область 4796\n",
    "# Краснодарский край 55067\n",
    "# Красноярский край 28476\n",
    "# Курганская область 4795\n",
    "# Курская область 6255\n",
    "# Ленинградская область 15119\n",
    "# Липецкая область 8748\n",
    "# Луганская Народная Республика 476\n",
    "# Магаданская область 1104\n",
    "# Москва 254274\n",
    "# Московская область 96015\n",
    "# Мурманская область 5706\n",
    "# Ненецкий АО 106\n",
    "# Нижегородская область 34216\n",
    "# Новгородская область 3827\n",
    "# Новосибирская область 37885\n",
    "# Омская область 16231\n",
    "# Оренбургская область 8896\n",
    "# Орловская область 4587\n",
    "# Пензенская область 7641\n",
    "# Пермский край 21205\n",
    "# Приморский край 13664\n",
    "# Псковская область 3426\n",
    "# Республика Адыгея 1540\n",
    "# Республика Алтай 771\n",
    "# Республика Башкортостан 29152\n",
    "# Республика Бурятия 4572\n",
    "# Республика Дагестан 2485\n",
    "# Республика Ингушетия 172\n",
    "# Республика Калмыкия 507\n",
    "# Республика Карелия 3243\n",
    "# Республика Коми 3120\n",
    "# Республика Крым 8956\n",
    "# Республика Марий Эл 3345\n",
    "# Республика Мордовия 3605\n",
    "# Республика Саха (Якутия) 4030\n",
    "# Республика Северная Осетия-Алания 1159\n",
    "# Республика Татарстан 41594\n",
    "# Республика Тыва 319\n",
    "# Республика Хакасия 2527\n",
    "# Ростовская область 33253\n",
    "# Рязанская область 9764\n",
    "# Самарская область 33074\n",
    "# Санкт-Петербург 107511\n",
    "# Саратовская область 14324\n",
    "# Сахалинская область 3423\n",
    "# Свердловская область 58932\n",
    "# Смоленская область 5441\n",
    "# Ставропольский край 11953\n",
    "# Тамбовская область 5171\n",
    "# Тверская область 10884\n",
    "# Томская область 10834\n",
    "# Тульская область 14320\n",
    "# Тюменская область 18822\n",
    "# Удмуртская Республика 11850\n",
    "# Ульяновская область 7768\n",
    "# Хабаровский край 13600\n",
    "# Ханты-Мансийский АО - Югра 12103\n",
    "# Херсонская область 62\n",
    "# Челябинская область 35943\n",
    "# Чеченская республика 505\n",
    "# Чувашская Республика 7840\n",
    "# Чукотский АО 120\n",
    "# Ямало-Ненецкий АО 4001\n",
    "# Ярославская область 12559\n",
    "# \"\"\"\n",
    "\n",
    "# cities_data = []\n",
    "\n",
    "# for city in cities.split(\"\\n\"):\n",
    "#     if city != \"\":\n",
    "#         city = city.strip()\n",
    "#         city_name = \" \".join(city.split(\" \")[:-1])\n",
    "#         city_count = int(city.split(\" \")[-1])\n",
    "#         cities_data.append((city_count, city_name))\n",
    "\n",
    "# cities_data = sorted(cities_data, reverse=True)\n",
    "\n",
    "# cities_data[:3], len(cities_data)"
   ]
  },
  {
   "cell_type": "code",
   "execution_count": 4,
   "id": "e9129be9-ff59-4c4b-a3d5-4620b8aca4a6",
   "metadata": {},
   "outputs": [
    {
     "data": {
      "text/plain": [
       "'Херсонская область'"
      ]
     },
     "execution_count": 4,
     "metadata": {},
     "output_type": "execute_result"
    }
   ],
   "source": [
    "manual_parsed_regions = \"\"\"\n",
    "ar_41 Москва\n",
    "ar_78 Санкт-Петербург\n",
    "ar_64 Московская область\n",
    "ar_21 Красноярский край\n",
    "ar_44 Свердловская область\n",
    "ar_71 Республика Татарстан\n",
    "ar_52 Новосибирская область\n",
    "ar_77 Нижегородской область\n",
    "ar_99 Ростовская область\n",
    "ar_97 Челябинской области\n",
    "ar_2 Самарская область\n",
    "ar_39 Республика Башкортостан\n",
    "ar_20 Красноярский край\n",
    "ar_8 Воронежская область\n",
    "ar_72 Пермский край\n",
    "ar_11 Кемеровской область\n",
    "ar_23 Приморская область\n",
    "ar_91 Иркутская область\n",
    "ar_56 Тюменская область\n",
    "ar_42 Хабаровский край\n",
    "ar_1 Омская область\n",
    "ar_87 Алтайский край\n",
    "ar_94 Волгоградская область\n",
    "ar_51 Ленинградская область\n",
    "ar_28 Саратовская область\n",
    "ar_102 Тульская область\n",
    "ar_69 Ярославская область\n",
    "ar_96 Ставропольский край\n",
    "ar_104 Ханты-Мансийский автономный округ - Югра\n",
    "ar_59 Удмуртская Республика\n",
    "ar_25 Владимирская область\n",
    "ar_66 Томская область\n",
    "ar_3 Тверская область\n",
    "ar_65 Белгородская область\n",
    "ar_92 Калужская область\n",
    "ar_36 Оренбургская область\n",
    "ar_0 Рязанская область\n",
    "ar_13 Республика Крым\n",
    "ar_74 Липецкая область\n",
    "ar_38 Кировская область\n",
    "ar_61 Калининградская область\n",
    "ar_37 Чувашская Республика\n",
    "ar_7 Вологодская область\n",
    "ar_79 Пензенская область\n",
    "ar_16 Ульяновская область\n",
    "ar_47 Ивановская область\n",
    "ar_55 Курская область\n",
    "ar_32 Брянская область\n",
    "ar_58 Мурманская область\n",
    "ar_45 Архангельская область\n",
    "ar_22 Смоленская область\n",
    "ar_31 Тамбовская область\n",
    "ar_100 Амурская область\n",
    "ar_70 Астраханская область\n",
    "ar_40 Забайкальский край\n",
    "ar_103 Костромская область\n",
    "ar_48 Орловская область\n",
    "ar_101 Курганская область\n",
    "ar_84 Ямало-Ненецкий автономный округ\n",
    "ar_18 Республика Бурятия\n",
    "ar_73 Новгородская область\n",
    "ar_68 Сахалинская область\n",
    "ar_90 Республика Саха (Якутия)\n",
    "ar_82 Республика Коми\n",
    "ar_76 Республика Мордовия\n",
    "ar_81 Республика Марий Эл\n",
    "ar_49 Республика Карелия\n",
    "ar_9 Псковская область\n",
    "ar_4 Республика Хакасия\n",
    "ar_95 Республика Дагестан\n",
    "ar_60 Республика Адыгея\n",
    "ar_89 Камчатский край\n",
    "ar_10 Республика Северная Осетия-Алания\n",
    "ar_67 Магаданская область\n",
    "ar_63 Республика Алтай\n",
    "ar_15 Донецкая Народная Республика\n",
    "ar_12 Кабардино-Балкарская республика\n",
    "ar_19 Карачаево-Черкесская Республика\n",
    "ar_33 Чеченская республика\n",
    "ar_5 Республика Калмыкия\n",
    "ar_85 Луганская Народная Республика\n",
    "ar_6 Еврейская автономный округ\n",
    "ar_62 Республика Тыва\n",
    "ar_24 Республика Ингушетия\n",
    "ar_88 Запорожская область\n",
    "ar_17 Чукотский автономный округ\n",
    "ar_26 Ненецкий АО\n",
    "ar_54 Херсонская область\n",
    "\"\"\"\n",
    "\n",
    "region_2_name = {\n",
    "    row.strip().split(\" \")[0]: \" \".join(row.strip().split(\" \")[1:])\n",
    "        for row in filter(lambda x: x.strip() != \"\", manual_parsed_regions.split(\"\\n\"))\n",
    "}\n",
    "region_2_name['ar_54']"
   ]
  },
  {
   "cell_type": "code",
   "execution_count": 31,
   "id": "01f3a7fc-0733-48e9-8ef5-593fdba4bc0b",
   "metadata": {},
   "outputs": [],
   "source": [
    "# for i, j in zip(area_data, cities_data):\n",
    "#     print(i, j)"
   ]
  },
  {
   "cell_type": "code",
   "execution_count": 27,
   "id": "3ced283c-62f6-499c-a730-0b3a85c2260a",
   "metadata": {},
   "outputs": [],
   "source": [
    "# vacancies_not_parsed = vacancies[~vacancies[\"area.regionId\"].isin(set(region_2_name.keys()))]"
   ]
  },
  {
   "cell_type": "code",
   "execution_count": 32,
   "id": "ad7e8b0e-c886-49ee-b0f4-8182e45495e2",
   "metadata": {},
   "outputs": [],
   "source": [
    "# for area in area_data:\n",
    "    \n",
    "    \n",
    "#     vacancies_area = vacancies_not_parsed[[\"name\", \"area.regionId\"]][vacancies_not_parsed[\"area.regionId\"] == area[1]]\n",
    "\n",
    "#     if vacancies_area.shape[0] == 0:\n",
    "#         continue\n",
    "\n",
    "#     print(\"-=-=-=-=-=-=-=-=-=-=-=-=-=-=-\")\n",
    "\n",
    "#     vacancies_area_city = vacancies_area[vacancies_area[\"name\"].apply(lambda name: \"г.\" in name)]\n",
    "#     vacancies_area_city = vacancies_area_city .sample(n=min(vacancies_area_city.shape[0], 20))\n",
    "#     for row_index, row in vacancies_area_city.iterrows():\n",
    "#         print(row[\"area.regionId\"], row[\"name\"])\n",
    "    \n",
    "#     vacancies_area = vacancies_area.sample(n=min(vacancies_area.shape[0], 20))\n",
    "#     for row_index, row in vacancies_area.iterrows():\n",
    "#         print(row[\"area.regionId\"], row[\"name\"])"
   ]
  },
  {
   "cell_type": "code",
   "execution_count": 33,
   "id": "45e1e94a-82c1-43b2-a919-9d69239439de",
   "metadata": {},
   "outputs": [],
   "source": [
    "# for x in cities_data[60:]:\n",
    "#     print(x[1])"
   ]
  },
  {
   "cell_type": "code",
   "execution_count": 34,
   "id": "93efda28-0c1c-4d4b-9e2f-d458590d7661",
   "metadata": {},
   "outputs": [],
   "source": [
    "# custom_vacancies = vacancies[vacancies[\"area.regionId\"].isin(set(region_2_name.keys()))].sample(n=50000)"
   ]
  },
  {
   "cell_type": "code",
   "execution_count": 39,
   "id": "46a6f876-77d0-480f-b0ba-e7000a074158",
   "metadata": {},
   "outputs": [
    {
     "name": "stderr",
     "output_type": "stream",
     "text": [
      "/var/folders/dz/7q462fh56rg95y4_6lnqmrvr0000gq/T/ipykernel_5237/1005022061.py:2: SettingWithCopyWarning: \n",
      "A value is trying to be set on a copy of a slice from a DataFrame.\n",
      "Try using .loc[row_indexer,col_indexer] = value instead\n",
      "\n",
      "See the caveats in the documentation: https://pandas.pydata.org/pandas-docs/stable/user_guide/indexing.html#returning-a-view-versus-a-copy\n",
      "  to_encode[\"region_name\"] = custom_vacancies[\"area.regionId\"].map(region_2_name)\n",
      "/var/folders/dz/7q462fh56rg95y4_6lnqmrvr0000gq/T/ipykernel_5237/1005022061.py:3: SettingWithCopyWarning: \n",
      "A value is trying to be set on a copy of a slice from a DataFrame.\n",
      "Try using .loc[row_indexer,col_indexer] = value instead\n",
      "\n",
      "See the caveats in the documentation: https://pandas.pydata.org/pandas-docs/stable/user_guide/indexing.html#returning-a-view-versus-a-copy\n",
      "  to_encode[\"text\"] = to_encode[\"region_name\"] + \". \" + to_encode[\"name\"]\n"
     ]
    }
   ],
   "source": [
    "# to_encode = custom_vacancies[[\"vacancy_id\", \"area.regionId\", \"name\"]]\n",
    "# to_encode[\"region_name\"] = custom_vacancies[\"area.regionId\"].map(region_2_name)\n",
    "# to_encode[\"text\"] = to_encode[\"region_name\"] + \". \" + to_encode[\"name\"]\n",
    "# to_encode = to_encode[[\"vacancy_id\", \"text\"]].dropna()"
   ]
  },
  {
   "cell_type": "code",
   "execution_count": 40,
   "id": "f8d2f779-73cb-4117-8d70-fb9dcbca5c5d",
   "metadata": {},
   "outputs": [],
   "source": [
    "# to_encode_vacancy_id = to_encode[\"vacancy_id\"].to_list()\n",
    "# to_encode_text       = to_encode[\"text\"].to_list()"
   ]
  },
  {
   "cell_type": "code",
   "execution_count": 41,
   "id": "944eef1a-ee24-4b2c-8f7a-3a226ab86062",
   "metadata": {},
   "outputs": [
    {
     "name": "stderr",
     "output_type": "stream",
     "text": [
      "Batches: 100%|███████████████████████████████████████████████████████████████████████████████████████████████████████████████████████████████████████████████████████████████████████████████████| 196/196 [01:13<00:00,  2.66it/s]\n"
     ]
    }
   ],
   "source": [
    "# embeddings = model.encode(to_encode_text, show_progress_bar=True, batch_size=256)"
   ]
  },
  {
   "cell_type": "code",
   "execution_count": 27,
   "id": "436e755c-0ffb-4e6b-9f6b-672cbba02dec",
   "metadata": {},
   "outputs": [],
   "source": [
    "# embeddings = embeddings / np.linalg.norm(embeddings, axis = 1, keepdims=True)"
   ]
  },
  {
   "cell_type": "code",
   "execution_count": 42,
   "id": "3784634d-f6c2-4e9d-802e-ff1ed66bbd37",
   "metadata": {},
   "outputs": [
    {
     "name": "stdout",
     "output_type": "stream",
     "text": [
      "50000\n"
     ]
    }
   ],
   "source": [
    "# index = faiss.IndexFlatL2(embeddings[0].shape[0])\n",
    "# index.add(embeddings)\n",
    "# print(index.ntotal)"
   ]
  },
  {
   "cell_type": "code",
   "execution_count": 5,
   "id": "8d1c89d3-2cb2-4ceb-95f5-a24c00a9628b",
   "metadata": {},
   "outputs": [],
   "source": [
    "# for i in range(10):\n",
    "#     idx = np.random.randint(0, len(embeddings))\n",
    "\n",
    "#     print(\"-=-=-=-=-=-=-\")\n",
    "\n",
    "#     vacancy = custom_vacancies.iloc[idx]\n",
    "\n",
    "#     vacancy_id = to_encode_vacancy_id[idx]\n",
    "#     text       = to_encode_text[idx]\n",
    "#     embedding  = np.expand_dims(embeddings[idx], axis=0)\n",
    "#     D, I = index.search(embedding, 10)\n",
    "\n",
    "#     print(text)\n",
    "#     print(\"  - keySkills.keySkill:\", vacancy[\"keySkills.keySkill\"])\n",
    "\n",
    "#     print(\"^^^^^^^^^^^^^\")\n",
    "\n",
    "#     for distances, indexes in zip(D[0], I[0]):\n",
    "#         neighbour_vacancy = custom_vacancies.iloc[idx]\n",
    "#         # print(\"    - keySkills.keySkill:\", vacancy[\"keySkills.keySkill\"])\n",
    "        \n",
    "#         print(to_encode_text[indexes])"
   ]
  },
  {
   "cell_type": "code",
   "execution_count": 44,
   "id": "91a74bb6-b9c5-4c77-9422-46f26c437f54",
   "metadata": {},
   "outputs": [],
   "source": [
    "# Теперь \n",
    "\n",
    "vacancies_used = vacancies[vacancies[\"area.regionId\"].isin(set(region_2_name.keys()))]\n",
    "vacancies_used = vacancies_used[[\"vacancy_id\", \"area.regionId\", \"name\"]]\n",
    "vacancies_used[\"region_name\"] = vacancies_used[\"area.regionId\"].map(region_2_name)\n",
    "vacancies_used[\"text\"] = vacancies_used[\"region_name\"] + \". \" + vacancies_used[\"name\"]\n",
    "vacancies_used = vacancies_used[[\"vacancy_id\", \"text\"]].dropna()\n",
    "\n",
    "vacancies_used_vacancy_ids = vacancies_used[\"vacancy_id\"].to_list()\n",
    "vacancies_used_names       = vacancies_used[\"text\"].to_list()"
   ]
  },
  {
   "cell_type": "code",
   "execution_count": 45,
   "id": "70582cb5-f027-4215-ab7d-5470795a2c9d",
   "metadata": {},
   "outputs": [
    {
     "data": {
      "text/plain": [
       "(2712385, 2)"
      ]
     },
     "execution_count": 45,
     "metadata": {},
     "output_type": "execute_result"
    }
   ],
   "source": [
    "vacancies_used.shape"
   ]
  },
  {
   "cell_type": "code",
   "execution_count": 46,
   "id": "24c407d2-2f4f-42d6-8250-41d8d43581d4",
   "metadata": {},
   "outputs": [
    {
     "name": "stderr",
     "output_type": "stream",
     "text": [
      "Batches: 100%|█████████████████████████████████████████████████████████████████████████████████████████████████████████████████████████████████████████████████████████████████████████████| 10596/10596 [1:02:33<00:00,  2.82it/s]\n"
     ]
    }
   ],
   "source": [
    "embeddings_used = model.encode(vacancies_used_names, show_progress_bar=True, batch_size=256)"
   ]
  },
  {
   "cell_type": "code",
   "execution_count": 47,
   "id": "1b574174-957c-4047-84c8-3129ec996089",
   "metadata": {},
   "outputs": [],
   "source": [
    "vacancies_used.rename(columns={\"text\": \"name\"}).to_parquet(vacancies_tmp_path)\n",
    "pickle.dump(embeddings_used, open(embeddings_path, 'wb+'), protocol=4)"
   ]
  },
  {
   "cell_type": "code",
   "execution_count": 48,
   "id": "f98072d2-ec3e-4ad6-8aff-ee48af5c3142",
   "metadata": {},
   "outputs": [
    {
     "data": {
      "text/plain": [
       "0"
      ]
     },
     "execution_count": 48,
     "metadata": {},
     "output_type": "execute_result"
    }
   ],
   "source": [
    "del vacancies\n",
    "del vacancies_used\n",
    "del embeddings_used\n",
    "gc.collect()"
   ]
  },
  {
   "cell_type": "code",
   "execution_count": 6,
   "id": "ad93063c-e3ca-41e4-8e78-f8affff1a407",
   "metadata": {},
   "outputs": [
    {
     "name": "stderr",
     "output_type": "stream",
     "text": [
      "  0%|                                                                                                                                                                                                       | 0/11 [00:00<?, ?it/s]"
     ]
    },
    {
     "name": "stdout",
     "output_type": "stream",
     "text": [
      "256000\n"
     ]
    },
    {
     "name": "stderr",
     "output_type": "stream",
     "text": [
      "  9%|█████████████████▎                                                                                                                                                                             | 1/11 [00:15<02:33, 15.39s/it]"
     ]
    },
    {
     "name": "stdout",
     "output_type": "stream",
     "text": [
      "256000\n"
     ]
    },
    {
     "name": "stderr",
     "output_type": "stream",
     "text": [
      " 18%|██████████████████████████████████▋                                                                                                                                                            | 2/11 [00:31<02:21, 15.70s/it]"
     ]
    },
    {
     "name": "stdout",
     "output_type": "stream",
     "text": [
      "256000\n"
     ]
    },
    {
     "name": "stderr",
     "output_type": "stream",
     "text": [
      " 27%|████████████████████████████████████████████████████                                                                                                                                           | 3/11 [00:47<02:05, 15.74s/it]"
     ]
    },
    {
     "name": "stdout",
     "output_type": "stream",
     "text": [
      "256000\n"
     ]
    },
    {
     "name": "stderr",
     "output_type": "stream",
     "text": [
      " 36%|█████████████████████████████████████████████████████████████████████▍                                                                                                                         | 4/11 [01:03<01:51, 15.97s/it]"
     ]
    },
    {
     "name": "stdout",
     "output_type": "stream",
     "text": [
      "256000\n"
     ]
    },
    {
     "name": "stderr",
     "output_type": "stream",
     "text": [
      " 45%|██████████████████████████████████████████████████████████████████████████████████████▊                                                                                                        | 5/11 [01:19<01:36, 16.15s/it]"
     ]
    },
    {
     "name": "stdout",
     "output_type": "stream",
     "text": [
      "256000\n"
     ]
    },
    {
     "name": "stderr",
     "output_type": "stream",
     "text": [
      " 55%|████████████████████████████████████████████████████████████████████████████████████████████████████████▏                                                                                      | 6/11 [01:37<01:22, 16.48s/it]"
     ]
    },
    {
     "name": "stdout",
     "output_type": "stream",
     "text": [
      "256000\n"
     ]
    },
    {
     "name": "stderr",
     "output_type": "stream",
     "text": [
      " 64%|█████████████████████████████████████████████████████████████████████████████████████████████████████████████████████████▌                                                                     | 7/11 [01:53<01:05, 16.41s/it]"
     ]
    },
    {
     "name": "stdout",
     "output_type": "stream",
     "text": [
      "256000\n"
     ]
    },
    {
     "name": "stderr",
     "output_type": "stream",
     "text": [
      " 73%|██████████████████████████████████████████████████████████████████████████████████████████████████████████████████████████████████████████▉                                                    | 8/11 [02:09<00:48, 16.33s/it]"
     ]
    },
    {
     "name": "stdout",
     "output_type": "stream",
     "text": [
      "256000\n"
     ]
    },
    {
     "name": "stderr",
     "output_type": "stream",
     "text": [
      " 82%|████████████████████████████████████████████████████████████████████████████████████████████████████████████████████████████████████████████████████████████▎                                  | 9/11 [02:26<00:33, 16.62s/it]"
     ]
    },
    {
     "name": "stdout",
     "output_type": "stream",
     "text": [
      "256000\n"
     ]
    },
    {
     "name": "stderr",
     "output_type": "stream",
     "text": [
      " 91%|████████████████████████████████████████████████████████████████████████████████████████████████████████████████████████████████████████████████████████████████████████████▋                 | 10/11 [02:42<00:16, 16.52s/it]"
     ]
    },
    {
     "name": "stdout",
     "output_type": "stream",
     "text": [
      "152385\n"
     ]
    },
    {
     "name": "stderr",
     "output_type": "stream",
     "text": [
      "100%|██████████████████████████████████████████████████████████████████████████████████████████████████████████████████████████████████████████████████████████████████████████████████████████████| 11/11 [02:51<00:00, 15.62s/it]\n"
     ]
    }
   ],
   "source": [
    "\"\"\"\n",
    "    Make indexes\n",
    "\"\"\"\n",
    "\n",
    "indexes_root = path_join(embedding_root, \"indexes\")\n",
    "\n",
    "embeddings = pickle.load(open(embeddings_path, 'rb'))\n",
    "embeddings = embeddings / np.linalg.norm(embeddings, axis = 1, keepdims=True)\n",
    "\n",
    "total_n = len(embeddings)\n",
    "max_index_size = 256000\n",
    "indexes_n = (total_n // max_index_size) + (0 if total_n % max_index_size == 0 else 1)\n",
    "\n",
    "del embeddings\n",
    "gc.collect()\n",
    "\n",
    "for path in list(map(lambda x: path_join(indexes_root, x), os.listdir(indexes_root))):\n",
    "    os.remove(path)\n",
    " \n",
    "for i in tqdm(range(indexes_n), total=indexes_n):\n",
    "    idx_from = max_index_size * i\n",
    "    idx_to   = max_index_size * i + max_index_size\n",
    "\n",
    "    embeddings = pickle.load(open(embeddings_path, 'rb'))[idx_from:idx_to]\n",
    "    embeddings = embeddings / np.linalg.norm(embeddings, axis = 1, keepdims=True)\n",
    "    embeddings = np.float32(embeddings)\n",
    "\n",
    "    index = faiss.IndexHNSWFlat(embeddings[0].shape[0], 32, faiss.METRIC_INNER_PRODUCT)\n",
    "    index.add(embeddings)\n",
    "    print(index.ntotal)\n",
    "\n",
    "    index_path = path_join(indexes_root, f\"index_{idx_from}_{idx_to}\")\n",
    "    faiss.write_index(index, index_path)\n",
    "\n",
    "    del index\n",
    "    del embeddings\n",
    "    gc.collect()"
   ]
  },
  {
   "cell_type": "code",
   "execution_count": 13,
   "id": "d4dc575a-82d5-4fe2-98dd-6da29f8c9163",
   "metadata": {},
   "outputs": [
    {
     "name": "stdout",
     "output_type": "stream",
     "text": [
      "dumps/production/i2i/name_area/indexes/index_512000_768000\n",
      "dumps/production/i2i/name_area/indexes/index_1024000_1280000\n",
      "dumps/production/i2i/name_area/indexes/index_256000_512000\n",
      "dumps/production/i2i/name_area/indexes/index_1536000_1792000\n",
      "dumps/production/i2i/name_area/indexes/index_1280000_1536000\n",
      "dumps/production/i2i/name_area/indexes/index_2048000_2304000\n",
      "dumps/production/i2i/name_area/indexes/index_768000_1024000\n",
      "dumps/production/i2i/name_area/indexes/index_2560000_2816000\n",
      "dumps/production/i2i/name_area/indexes/index_1792000_2048000\n",
      "dumps/production/i2i/name_area/indexes/index_0_256000\n",
      "dumps/production/i2i/name_area/indexes/index_2304000_2560000\n"
     ]
    }
   ],
   "source": [
    "indexes_pathes = list(map(lambda x: str(path_join(indexes_root, x)), os.listdir(indexes_root)))\n",
    "for i in indexes_pathes:\n",
    "    print(i)"
   ]
  },
  {
   "cell_type": "code",
   "execution_count": 19,
   "id": "63c4e93b-c5d2-4b17-b876-66ab53d0974b",
   "metadata": {},
   "outputs": [
    {
     "name": "stdout",
     "output_type": "stream",
     "text": [
      "dumps/production/i2i/name_area/indexes/index_0_256000\n",
      "dumps/production/i2i/name_area/indexes/index_256000_512000\n",
      "dumps/production/i2i/name_area/indexes/index_512000_768000\n",
      "dumps/production/i2i/name_area/indexes/index_768000_1024000\n",
      "dumps/production/i2i/name_area/indexes/index_1024000_1280000\n",
      "dumps/production/i2i/name_area/indexes/index_1280000_1536000\n",
      "dumps/production/i2i/name_area/indexes/index_1536000_1792000\n",
      "dumps/production/i2i/name_area/indexes/index_1792000_2048000\n",
      "dumps/production/i2i/name_area/indexes/index_2048000_2304000\n",
      "dumps/production/i2i/name_area/indexes/index_2304000_2560000\n",
      "dumps/production/i2i/name_area/indexes/index_2560000_2816000\n"
     ]
    },
    {
     "name": "stderr",
     "output_type": "stream",
     "text": [
      "  0%|                                                                                                                                                                                                       | 0/11 [00:00<?, ?it/s]"
     ]
    },
    {
     "name": "stdout",
     "output_type": "stream",
     "text": [
      "dumps/production/i2i/name_area/indexes/index_0_256000\n",
      "0\n",
      "dumps/production/i2i/name_area/indexes/index_256000_512000\n",
      "256000\n",
      "dumps/production/i2i/name_area/indexes/index_512000_768000\n",
      "512000\n",
      "dumps/production/i2i/name_area/indexes/index_768000_1024000\n",
      "768000\n",
      "dumps/production/i2i/name_area/indexes/index_1024000_1280000\n",
      "1024000\n",
      "dumps/production/i2i/name_area/indexes/index_1280000_1536000\n",
      "1280000\n",
      "dumps/production/i2i/name_area/indexes/index_1536000_1792000\n",
      "1536000\n",
      "dumps/production/i2i/name_area/indexes/index_1792000_2048000\n",
      "1792000\n",
      "dumps/production/i2i/name_area/indexes/index_2048000_2304000\n",
      "2048000\n",
      "dumps/production/i2i/name_area/indexes/index_2304000_2560000\n",
      "2304000\n",
      "dumps/production/i2i/name_area/indexes/index_2560000_2816000\n",
      "2560000\n"
     ]
    },
    {
     "name": "stderr",
     "output_type": "stream",
     "text": [
      "  9%|█████████████████▎                                                                                                                                                                            | 1/11 [04:34<45:43, 274.37s/it]"
     ]
    },
    {
     "name": "stdout",
     "output_type": "stream",
     "text": [
      "dumps/production/i2i/name_area/indexes/index_0_256000\n",
      "0\n",
      "dumps/production/i2i/name_area/indexes/index_256000_512000\n",
      "256000\n",
      "dumps/production/i2i/name_area/indexes/index_512000_768000\n",
      "512000\n",
      "dumps/production/i2i/name_area/indexes/index_768000_1024000\n",
      "768000\n",
      "dumps/production/i2i/name_area/indexes/index_1024000_1280000\n",
      "1024000\n",
      "dumps/production/i2i/name_area/indexes/index_1280000_1536000\n",
      "1280000\n",
      "dumps/production/i2i/name_area/indexes/index_1536000_1792000\n",
      "1536000\n",
      "dumps/production/i2i/name_area/indexes/index_1792000_2048000\n",
      "1792000\n",
      "dumps/production/i2i/name_area/indexes/index_2048000_2304000\n",
      "2048000\n",
      "dumps/production/i2i/name_area/indexes/index_2304000_2560000\n",
      "2304000\n",
      "dumps/production/i2i/name_area/indexes/index_2560000_2816000\n",
      "2560000\n"
     ]
    },
    {
     "name": "stderr",
     "output_type": "stream",
     "text": [
      "100%|██████████████████████████████████████████████████████████████████████████████████████████████████████████████████████████████████████████████████████████████████████████████████████████████| 11/11 [09:03<00:00, 49.44s/it]\n"
     ]
    },
    {
     "data": {
      "text/plain": [
       "'dumps/production/i2i/name_area/shards/shard_0_256000\\ndumps/production/i2i/name_area/shards/shard_256000_512000'"
      ]
     },
     "execution_count": 19,
     "metadata": {},
     "output_type": "execute_result"
    }
   ],
   "source": [
    "shards_root = path_join(embedding_root, \"shards\")\n",
    "\n",
    "embeddings = pickle.load(open(embeddings_path, 'rb'))\n",
    "embeddings = embeddings / np.linalg.norm(embeddings, axis = 1, keepdims=True)\n",
    "\n",
    "total_n = len(embeddings)\n",
    "max_i2i_in_shard = 256000\n",
    "shards_n = (total_n // max_i2i_in_shard) + (0 if total_n % max_i2i_in_shard == 0 else 1)\n",
    "neighbours_n = 101 # Ибо одна из вершин будет собственным эмбеддингом\n",
    "\n",
    "del embeddings\n",
    "gc.collect()\n",
    "\n",
    "# for path in list(map(lambda x: path_join(shards_root, x), os.listdir(shards_root))):\n",
    "#     os.remove(path)\n",
    "\n",
    "output_pathes = []\n",
    "\n",
    "indexes_paths = list(map(\n",
    "    lambda x: x[1],\n",
    "    sorted(list(map(\n",
    "        lambda x: (int(x.split(\"_\")[-2]), path_join(indexes_root, x)), os.listdir(indexes_root)\n",
    "    )))\n",
    "))\n",
    "\n",
    "for i in indexes_paths:\n",
    "    print(i)\n",
    "\n",
    "for i in tqdm(range(shards_n), total=shards_n):\n",
    "    # Сколько взять для поиска?\n",
    "\n",
    "    if i >= 2:\n",
    "        continue\n",
    "\n",
    "    idx_from = max_i2i_in_shard * i\n",
    "    idx_to   = max_i2i_in_shard * i + max_i2i_in_shard\n",
    "\n",
    "    embeddings = pickle.load(open(embeddings_path, 'rb'))[idx_from:idx_to]\n",
    "    embeddings = embeddings / np.linalg.norm(embeddings, axis = 1, keepdims=True)\n",
    "    embeddings = np.float32(embeddings)\n",
    "\n",
    "    output = [[] for i in range(len(embeddings))]\n",
    "\n",
    "    for index_path in indexes_paths:\n",
    "        print(index_path)\n",
    "        print(int(index_path.split(\"_\")[-2]))\n",
    "\n",
    "        idx_start = int(index_path.split(\"_\")[-2])\n",
    "        \n",
    "        index = faiss.read_index(index_path)\n",
    "        D, I = index.search(embeddings, neighbours_n)\n",
    "\n",
    "        for j, (dists, idxs) in enumerate(zip(D, I)):\n",
    "            output[j] = sorted(\n",
    "                output[j] + list(zip(dists, map(lambda x: int(x + idx_start), idxs))),\n",
    "                reverse=True)[:neighbours_n]\n",
    "\n",
    "        del index\n",
    "        gc.collect()\n",
    "\n",
    "    # # Сколько по итогу взяли для поиска\n",
    "    output_idx_from = max_i2i_in_shard * i\n",
    "    output_idx_to = max_i2i_in_shard * i + len(embeddings)\n",
    "\n",
    "    distances = list(map(lambda neigbours: list(map(lambda x: x[0], neigbours)), output))\n",
    "    neighbour_indexes = list(map(lambda neigbours: list(map(lambda x: x[1], neigbours)), output))\n",
    "\n",
    "    shard_output_path = path_join(shards_root, f\"shard_{output_idx_from}_{output_idx_to}\")\n",
    "    df = pd.DataFrame.from_dict({\n",
    "        \"idx\": list(range(output_idx_from, output_idx_to)),\n",
    "        \"distances\": distances,\n",
    "        \"neighbour_idxs\": neighbour_indexes})\n",
    "    df.to_parquet(shard_output_path)\n",
    "\n",
    "    output_pathes.append(shard_output_path)\n",
    "\n",
    "\"\\n\".join(output_pathes)"
   ]
  },
  {
   "cell_type": "code",
   "execution_count": 20,
   "id": "a6cecd2d-55f0-4eaa-8fac-dd312fbc4e2a",
   "metadata": {},
   "outputs": [
    {
     "name": "stdout",
     "output_type": "stream",
     "text": [
      "2560000\n",
      "[0.99999994 0.99999994 0.99999994 0.99999994 0.99999994 0.99999994\n",
      " 0.99999994 0.99999994 0.99999994 0.99999994 0.99999994 0.99999994\n",
      " 0.99999994 0.99999994 0.99999994 0.99999994 0.99999994 0.99999994\n",
      " 0.99999994 0.99999994 0.99999994 0.99999994 0.99999994 0.99999994\n",
      " 0.99999994 0.99999994 0.99999994 0.99999994 0.99999994 0.99999994\n",
      " 0.99999994 0.99999994 0.99999994 0.99999994 0.99999994 0.99999994\n",
      " 0.99999994 0.99999994 0.99999994 0.99999994 0.99999994 0.9690302\n",
      " 0.96692467 0.9626635  0.9624096  0.9598106  0.9598106  0.9598106\n",
      " 0.9598106  0.9598106  0.9585372  0.95823973 0.9567757  0.9567757\n",
      " 0.9567757  0.9567757  0.9567757  0.9567757  0.9567757  0.9567757\n",
      " 0.9567757  0.9567757  0.9567757  0.9567757  0.9567757  0.9567757\n",
      " 0.95677567 0.95677567 0.95677567 0.95677567 0.95677567 0.95677567\n",
      " 0.95677567 0.95677567 0.95677567 0.95677567 0.95677567 0.95677567\n",
      " 0.95677567 0.95677567 0.95677567 0.95677567 0.95677567 0.95677567\n",
      " 0.95677567 0.95677567 0.95677567 0.95677567 0.95677567 0.95677567\n",
      " 0.95677567 0.95677567 0.95677567 0.95677567 0.95677567 0.95677567\n",
      " 0.95677567 0.95677567 0.95677567 0.95677567 0.95677567]\n",
      "[2706803 2560000 2520887 2496353 2311168 2295333 2157942 2127126 1956745\n",
      " 1951264 1935928 1818151 1776439 1751160 1712317 1486099 1441845 1435646\n",
      " 1305530 1274589 1193691 1172421 1141641 1092361 1010810  937339  734395\n",
      "  707565  685818  679868  678834  661906  624789  487029  430780  358749\n",
      "  303394  202249  155458  135815   23622  251843 1150794 1277548 1322305\n",
      " 2548817 2304934 2190598 1856310 1850885  211734  492028 2534619 2295965\n",
      " 2238621 2063674 2020473 1547670 1364392 1196577 1139136  662095  482712\n",
      "  313105  287871   87890 2710682 2688454 2673517 2667086 2599809 2584138\n",
      " 2526102 2518752 2516603 2516276 2409809 2357854 2357613 2261838 2254110\n",
      " 2217759 2201466 2190291 2140908 2002390 1995297 1967047 1942866 1909087\n",
      " 1895442 1871863 1808141 1800455 1789335 1728244 1722471 1688038 1528539\n",
      " 1525290 1510283]\n",
      "2560001\n",
      "[0.9999999  0.99506056 0.99506056 0.99506056 0.9936279  0.94754136\n",
      " 0.94754136 0.94754136 0.94754136 0.94754136 0.9444345  0.93869805\n",
      " 0.93869805 0.93869805 0.93869805 0.93869805 0.93869805 0.9383892\n",
      " 0.9383892  0.9383892  0.93081826 0.93005157 0.92707    0.92707\n",
      " 0.92707    0.92707    0.92707    0.92707    0.92646396 0.92633843\n",
      " 0.92491245 0.92396915 0.92358327 0.92294526 0.9213548  0.9213548\n",
      " 0.9193816  0.915609   0.9142462  0.9142461  0.9112023  0.91076195\n",
      " 0.9107038  0.90862906 0.90862906 0.9082358  0.9080478  0.9075824\n",
      " 0.9075824  0.90719414 0.90719414 0.90676945 0.90673923 0.90673923\n",
      " 0.9066041  0.90551126 0.9027802  0.90277874 0.90277874 0.8989303\n",
      " 0.89879614 0.898744   0.898744   0.898744   0.898744   0.898744\n",
      " 0.898744   0.898744   0.898744   0.898744   0.898744   0.898744\n",
      " 0.898744   0.898744   0.89837265 0.89837265 0.8969183  0.8961265\n",
      " 0.89572823 0.8950378  0.8946862  0.8946862  0.89433146 0.89433146\n",
      " 0.89433146 0.8937916  0.8937916  0.8937916  0.89343095 0.8931459\n",
      " 0.89311993 0.89311993 0.89311993 0.89311993 0.89270705 0.89270705\n",
      " 0.89237857 0.8922454  0.8922454  0.8922454  0.89215946]\n",
      "[2560001 2447659 1510305  750207  780917 2089355 1615594 1282354 1035510\n",
      "  651487 1525659 1574735 1465109 1076463  974745  461493  257336 2509857\n",
      " 1768848 1655401 1118033 1861990 2319172 2144653 1948781 1152297  709673\n",
      "  544410 2682470  429911 1316227 1704578 2162222 1211083 2520681 1191127\n",
      " 1382911  363536   57571  834239 1763440 2244705 1507561 2649025  155982\n",
      " 1276916 2094385 2674794  389338 1957279 1011514  411788 2465611  200364\n",
      " 1710498   15570 1445087  252641  193402  135457  284403 2551491 2375105\n",
      " 2223353 1992651 1808622 1731636 1614191 1606762  859918  719254  703101\n",
      "  458963  402312 1888123  824500  617306 1406325  312344 1523118  341857\n",
      "  227715 2337406  530534    2637 1788624 1519499 1276825    7242  929207\n",
      " 2460253 1445834  912649  136285 1077039  617411   63755 2362632 2266229\n",
      " 1555355  348239]\n",
      "2560002\n",
      "[0.9999999  0.9999999  0.9999999  0.9999999  0.9999999  0.9999999\n",
      " 0.9999999  0.9999999  0.9999999  0.9894248  0.9805039  0.97751665\n",
      " 0.97751665 0.9760865  0.9741135  0.97329575 0.97329575 0.97329575\n",
      " 0.97329575 0.9732138  0.9685718  0.96666265 0.96634954 0.96634954\n",
      " 0.96634954 0.96634954 0.96634954 0.95772344 0.95772344 0.95772344\n",
      " 0.95772344 0.95772344 0.95772344 0.95772344 0.95772344 0.95772344\n",
      " 0.95772344 0.95772344 0.95772344 0.95772344 0.95772344 0.95772344\n",
      " 0.95772344 0.95772344 0.95772344 0.95772344 0.95772344 0.95772344\n",
      " 0.95772344 0.95212364 0.95212364 0.95212364 0.95212364 0.95212364\n",
      " 0.95212364 0.9511224  0.9507237  0.95039827 0.95039827 0.95039827\n",
      " 0.95039827 0.95039827 0.95039827 0.95039827 0.94915426 0.94915426\n",
      " 0.9466364  0.9457794  0.9457794  0.9457794  0.94556725 0.94556725\n",
      " 0.94556725 0.94556725 0.94556725 0.945486   0.9453264  0.94486856\n",
      " 0.9444372  0.9439182  0.9439099  0.9439099  0.9439099  0.9439099\n",
      " 0.9439099  0.9439099  0.9439099  0.9439099  0.9439099  0.9439099\n",
      " 0.9439099  0.9439099  0.9439099  0.9439099  0.9439099  0.9439099\n",
      " 0.9439099  0.9439099  0.9439099  0.9439099  0.9439099 ]\n",
      "[2560002 1778998 1254286  812459  530273  281813  217571  174945    9946\n",
      "  514998 1023420 1024851  717978 1560728 1120806 2379917 2314587 2134155\n",
      "  481675  909026 2280997 2362223 1965600 1730774 1671914  226763   29228\n",
      " 2494714 2475290 2396072 2250791 2180677 2129409 1945018 1644803 1599034\n",
      " 1586466 1578321 1490225 1237486  919069  873709  762089  505749  456445\n",
      "  430031  247162   37731   29249 2306575 1995240 1911753 1431300 1071078\n",
      "  961134 1840070 1557956 2587315 1719592 1473731 1472589  982680  953419\n",
      "  341927 2219105 1128653 1281559 2426200 2049957   51655 2535674 2472354\n",
      " 2339254 1710361  630465 1187098 2048304 2319977 1695642 2526524 2701729\n",
      " 2663733 2640988 2578130 2533386 2408869 2341651 2330049 2283193 2261799\n",
      " 2233789 2195391 2169551 2133179 2114523 2036556 2020521 1929501 1925308\n",
      " 1907383 1905374]\n",
      "2560003\n",
      "[1.         0.9588423  0.9536178  0.9528687  0.9528687  0.9528687\n",
      " 0.9528687  0.9528687  0.9528687  0.9528687  0.9528687  0.9528687\n",
      " 0.9528687  0.9528687  0.9528687  0.9528687  0.9528687  0.9528687\n",
      " 0.9528687  0.9528687  0.9528687  0.9528687  0.94766366 0.94658095\n",
      " 0.94618905 0.94618905 0.94618905 0.9453699  0.9453699  0.9453699\n",
      " 0.9453699  0.9453699  0.9453699  0.9453699  0.9453699  0.9453699\n",
      " 0.9453699  0.9453699  0.9453699  0.9453699  0.9453699  0.9453699\n",
      " 0.9453699  0.9453699  0.9453699  0.9453699  0.9453699  0.9453699\n",
      " 0.9453699  0.9453699  0.9453699  0.9453699  0.9453699  0.9453699\n",
      " 0.9453699  0.9453699  0.9453699  0.9453699  0.9453699  0.9453699\n",
      " 0.9453699  0.9453699  0.9453699  0.9453699  0.9439509  0.94376135\n",
      " 0.9434626  0.94290423 0.9421096  0.9421096  0.9421096  0.9421096\n",
      " 0.9421096  0.9421096  0.9421096  0.9421096  0.9421096  0.9421096\n",
      " 0.9421096  0.9421096  0.9421096  0.9402601  0.9402601  0.9401498\n",
      " 0.9397091  0.9397091  0.9397091  0.9397091  0.9397091  0.93911284\n",
      " 0.93878794 0.9380069  0.9376988  0.93752325 0.9373487  0.9373225\n",
      " 0.9372783  0.9372783  0.936926   0.93667567 0.93584156]\n",
      "[2560003  848589 1848735 2652458 2516340 2374703 2368990 2167374 2141215\n",
      " 2076125 1642372 1387811 1363505 1191108  987457  746744  652967  628003\n",
      "  436145  378253  325117   26154 1318248  156133 2527603 1780979  287231\n",
      " 2588622 2450688 2258992 2214607 2010815 1946871 1941197 1791944 1754459\n",
      " 1720129 1527388 1491768 1476888 1395408 1353672 1132165 1042558  949105\n",
      "  886051  881915  743560  721409  657852  639747  587421  405713  404455\n",
      "  330486  312933  240181   83393   27002   25779   23590   22604   19424\n",
      "   14776 1999962    4684 1942310  388067 2334102 2271153 2197609 1963230\n",
      " 1862720 1788095 1699893 1529854 1111385  455316  405715  375660  140173\n",
      " 1879103 1467273 1985955 2434777 1985604 1952402 1498645  194961 2526184\n",
      "  179833 2641037 2685032 2513638 2385906 1102749  627759   43814 1543547\n",
      " 1909757  100387]\n",
      "2560004\n",
      "[1.         0.9619129  0.9560746  0.95606756 0.95575494 0.95575494\n",
      " 0.9557067  0.9551652  0.95342284 0.952952   0.9521556  0.94972944\n",
      " 0.948558   0.9484682  0.9482676  0.9482389  0.9482389  0.9482389\n",
      " 0.9480127  0.94745845 0.9468367  0.9468367  0.9468367  0.9468204\n",
      " 0.9463934  0.94620013 0.94572246 0.94517845 0.94467247 0.94467247\n",
      " 0.9445859  0.94407225 0.9437845  0.9433148  0.9433148  0.94301134\n",
      " 0.9428868  0.9423279  0.94230115 0.94230115 0.94230115 0.9419166\n",
      " 0.9419166  0.9419166  0.9416486  0.94139135 0.94107807 0.94107807\n",
      " 0.94107807 0.94107807 0.94107807 0.94107807 0.94107807 0.94107807\n",
      " 0.94107807 0.94107807 0.94107807 0.94107807 0.94107807 0.94093585\n",
      " 0.94083846 0.9406577  0.94050527 0.94031984 0.94025815 0.94016373\n",
      " 0.9399626  0.9399626  0.9399626  0.9399626  0.9399626  0.93977225\n",
      " 0.93909216 0.9379251  0.9379251  0.93792504 0.93788487 0.9378427\n",
      " 0.937587   0.93751407 0.93751407 0.93723977 0.93689775 0.93689775\n",
      " 0.93672687 0.93659246 0.9365778  0.9365195  0.93624526 0.93624526\n",
      " 0.93624526 0.93624526 0.93624526 0.93624526 0.93614185 0.93596965\n",
      " 0.93585247 0.93569297 0.93569297 0.93569297 0.93569297]\n",
      "[2560004 1588837 2678024 1835346 1538212  200139  616169  479618 1135742\n",
      " 1131764  467912  825963  328154  226532 1628825 1569676  993469  199638\n",
      " 2338134 2528675 2246224 1131252  851026  510081  855581 2546537 1569467\n",
      " 1574391 1107695  778346  688498  582497 2486299 1688067  249938 1710383\n",
      "  468073 1572755 2023992 1851430 1593924 1607771 1178319  471961 2010128\n",
      " 1324795 2617554 2314182 2293649 2035445 1965956 1802194 1796927 1693487\n",
      " 1679391 1622283 1566161 1070422  576400  894561 2430800  864702  894291\n",
      " 1213456  366379 1811162 2569798 1962077 1587316 1278048 1141181 1113668\n",
      " 1966247 1761850  660895  986532  591757 1776641 2319335 2153292 1510052\n",
      "  653402 2670318  777837  754129  266343 1564532 1435454 2634171 2289643\n",
      " 1073245 1042710  208493    1943 1985053 2193713  446898 2210732 1805625\n",
      " 1022203  724483]\n",
      "2560005\n",
      "[1.         0.99207854 0.99183595 0.9902216  0.9902216  0.9902216\n",
      " 0.9902216  0.99022156 0.99022156 0.99022156 0.99022156 0.99022156\n",
      " 0.99022156 0.99010754 0.9896789  0.9890287  0.98880213 0.9888021\n",
      " 0.9888021  0.98806715 0.9880671  0.9880671  0.9880272  0.9880272\n",
      " 0.9878133  0.9876753  0.9876753  0.9876753  0.9876753  0.9876753\n",
      " 0.9876753  0.9876753  0.9876753  0.9876753  0.9876753  0.9876753\n",
      " 0.9876753  0.9876753  0.9876753  0.9876753  0.9876753  0.9876753\n",
      " 0.9876753  0.9876753  0.9876753  0.9876753  0.9876753  0.9876753\n",
      " 0.9876753  0.9876753  0.9876753  0.9876753  0.9876753  0.9876753\n",
      " 0.9876753  0.9870993  0.9870993  0.9870993  0.98697066 0.98697066\n",
      " 0.9865989  0.9865989  0.9865989  0.9865989  0.9865989  0.9865989\n",
      " 0.9865989  0.9865989  0.9865989  0.9865989  0.9865989  0.9865989\n",
      " 0.9865989  0.9865989  0.9865989  0.9865989  0.9865989  0.9865989\n",
      " 0.9865989  0.9865989  0.9865989  0.9865989  0.9864745  0.9864269\n",
      " 0.9864269  0.98642683 0.98642683 0.98642683 0.98637223 0.98637223\n",
      " 0.98637223 0.98637223 0.98637223 0.98637223 0.98637223 0.98634124\n",
      " 0.98634124 0.98634124 0.98634124 0.98634124 0.98634124]\n",
      "[2560005 2262459 1340448 2240080 2053676 1965402 1081476 2639307 2118432\n",
      " 1494523 1244557 1099938  438505 1293821  357607  886020 2003292 2586285\n",
      " 1858253 2038100  987380  177962  893859  526362  922923 2711265 2668479\n",
      " 2413438 2407769 2405005 2351800 2277211 1819382 1807180 1734587 1542227\n",
      " 1523834 1447932 1413901 1102360 1075572  830513  789687  751223  739264\n",
      "  703560  628741  585180  580024  387869  163629  157768  133472  109422\n",
      "  102655 1411143  844696  487185 2005320 1164154 2339941 2195647 1788714\n",
      " 1746741 1665109 1615871 1554856 1503869 1431953 1366684 1307259 1184155\n",
      " 1140871 1094498  929394  920544  856410  829043  802142  750604  626947\n",
      "  584529 2346464 2048017  374712 2117485  454579  308832 2684405 2373671\n",
      " 2256747 2237794 1480566  654672  110376 2699890 2392783 1821827 1225080\n",
      " 1068387  521273]\n",
      "2560006\n",
      "[0.99999994 0.97999823 0.9715158  0.96134263 0.95744944 0.95577145\n",
      " 0.95577145 0.95566016 0.9526709  0.95221066 0.9502269  0.94927895\n",
      " 0.94927895 0.94895625 0.94863504 0.9475641  0.9475641  0.94573975\n",
      " 0.9434425  0.9433595  0.94275296 0.9420102  0.94133246 0.9410348\n",
      " 0.94041526 0.9398925  0.93927443 0.93924665 0.93888015 0.9388069\n",
      " 0.93861264 0.93859684 0.9385959  0.9380584  0.9380089  0.9379022\n",
      " 0.9375642  0.9372155  0.9370093  0.9367194  0.9365556  0.9365117\n",
      " 0.93644536 0.936177   0.93613565 0.9353419  0.93506116 0.93482566\n",
      " 0.9346047  0.93453217 0.93433857 0.93432474 0.93409204 0.93409204\n",
      " 0.93409204 0.93409204 0.93379915 0.9337249  0.93349594 0.9333962\n",
      " 0.93322814 0.93319535 0.9331831  0.9331831  0.93308794 0.9317738\n",
      " 0.9317558  0.93173957 0.93145674 0.93141145 0.93131924 0.93127507\n",
      " 0.9311295  0.9311295  0.9311295  0.93069446 0.93069446 0.9305103\n",
      " 0.9301976  0.93016356 0.9301485  0.9300319  0.9299108  0.92990637\n",
      " 0.9298817  0.9297127  0.9295373  0.9295373  0.9295373  0.9294886\n",
      " 0.92940944 0.92935336 0.92932546 0.929247   0.9283916  0.9283916\n",
      " 0.9282642  0.92821014 0.9281974  0.92809117 0.9280579 ]\n",
      "[2560006 2105571  952438  874212 1786468 2616081 2323326 2450321 1205503\n",
      " 2368119 1330574  995023  877607 1297664 2404383 1143633  648733  417327\n",
      "  108651 1977338  800281  248833 1960509 1056953   49624 2269585 2553625\n",
      " 2629717  743882 1518519 2549728 1484620 2243488  634914  164764 1697612\n",
      "  871179   48703  486970  848767   34132 1039380   58544  467580  260805\n",
      " 1579663 2436943 1529733 2080795  112137 1988345  565369 2012682 1371016\n",
      "  956950  599546  860509  646877   46295 2130054  685692 1882529 1581712\n",
      " 1205689 2284008 1972482  262073 1464732  260583 1645172    6393  972010\n",
      " 1515371  575912  344726  666094   88738 2555567  383726 1882920    1253\n",
      "  449832  723328 1997744 2677192 1587068 2117676 1750605  832529 2424246\n",
      "  649584  175038  753194 1477880 2603794  874239 2172880 2108394 1409333\n",
      "  573287 1662364]\n",
      "2560007\n",
      "[1.         1.         0.99244916 0.99244916 0.99244916 0.99244916\n",
      " 0.99244916 0.99244916 0.99244916 0.99244916 0.99244916 0.99244916\n",
      " 0.99244916 0.99244916 0.99244916 0.99244905 0.99244905 0.99244905\n",
      " 0.99244905 0.99244905 0.99244905 0.99244905 0.99244905 0.99244905\n",
      " 0.9881364  0.9874898  0.98667634 0.98601    0.9802397  0.97976434\n",
      " 0.97976434 0.97976434 0.97976434 0.97976434 0.978295   0.978295\n",
      " 0.9766595  0.97497404 0.9734346  0.9730345  0.9730345  0.9730345\n",
      " 0.97236264 0.97219896 0.9718693  0.9709963  0.9709963  0.9676448\n",
      " 0.96727824 0.9645165  0.964362   0.964362   0.964362   0.964362\n",
      " 0.964362   0.964362   0.964362   0.964362   0.964362   0.964362\n",
      " 0.964362   0.9643619  0.96424866 0.9642486  0.9641097  0.9640645\n",
      " 0.9599335  0.95969015 0.959126   0.9584112  0.9576551  0.957482\n",
      " 0.957482   0.957482   0.957482   0.957482   0.957482   0.957482\n",
      " 0.957482   0.957482   0.957482   0.957482   0.95320094 0.9530339\n",
      " 0.9499576  0.9499115  0.9498864  0.9494858  0.9494858  0.9478809\n",
      " 0.9471991  0.94696814 0.9455748  0.9455748  0.9455748  0.94484365\n",
      " 0.94426435 0.94426435 0.94426435 0.94375914 0.9434227 ]\n",
      "[2560007  858225 2390997 2326426 2113558 1926630 1805359 1451960 1412914\n",
      " 1349648 1081391  942901  874567  602646  213190 2638407 2605251 2437519\n",
      " 2338394 1817087 1616390  771715  646402  149956  769923 2032641 1269696\n",
      " 1827288 1983709 2637112 2156150 1895247 1005256  591866  661266  588738\n",
      " 2520775  664691  167003 2492340 1942161 1390145 2598381 2442918 1998338\n",
      " 2439950  198485 1541251 2111298 2072307 2440704 1833511 1709117 1158563\n",
      " 1100704 1011672  735023  642381  493571  440297   76822  320404 1123807\n",
      "  128144  375038  697439  481431  190524 1171849 2269154 1705080 2597614\n",
      " 2578208 2185401 1818062 1700575 1343734 1245763  882817  736065  586908\n",
      "  428920 2300800  632920  826411 2656258 1860436  737303  456195 1003152\n",
      " 1655951 1804280 1184901  604101  598329 1830447 2553548 1616992  497758\n",
      "   41337 2196023]\n",
      "2560008\n",
      "[0.9999999 0.9999999 0.9999999 0.9999999 0.9999999 0.9999999 0.9999999\n",
      " 0.9999999 0.9999999 0.9999999 0.9999999 0.9999999 0.9999999 0.9999999\n",
      " 0.9999999 0.9999999 0.9999999 0.9999999 0.9999999 0.9999999 0.9999999\n",
      " 0.9999999 0.9999999 0.9999999 0.9999999 0.9999999 0.9999999 0.9999999\n",
      " 0.9952462 0.9952462 0.9903369 0.9903369 0.9902777 0.9902777 0.9902777\n",
      " 0.9874351 0.9747805 0.9747805 0.9747805 0.9747805 0.9747805 0.9747805\n",
      " 0.9747805 0.9747805 0.9747805 0.9747805 0.9747805 0.9747805 0.9747805\n",
      " 0.9747805 0.9747805 0.9747805 0.9747805 0.9747805 0.9747805 0.9747805\n",
      " 0.9747805 0.9747805 0.9747805 0.9747805 0.9747805 0.9747805 0.9747805\n",
      " 0.9747805 0.9747805 0.9747805 0.9747805 0.9747805 0.9747805 0.9747805\n",
      " 0.9747805 0.9747805 0.9747805 0.9747805 0.9747805 0.9747805 0.9747805\n",
      " 0.9747805 0.9747805 0.9747805 0.9747805 0.9747805 0.9747805 0.9747805\n",
      " 0.9747805 0.9747805 0.9747805 0.9747805 0.9747805 0.9747805 0.9747805\n",
      " 0.9747805 0.9747805 0.9747805 0.9747805 0.9747805 0.9747805 0.9747805\n",
      " 0.9747805 0.9747805 0.9747805]\n",
      "[2560008 2552776 2549253 2491353 2312649 2236128 2205953 2075213 1948920\n",
      " 1913745 1885974 1746704 1740766 1675143 1603996 1381144 1287599 1277262\n",
      " 1214384 1079166  955925  937724  753302  742785  581348  519704  355941\n",
      "   19009 2414741  996293 2379079  631428 2293543 1460360  338507 2353136\n",
      " 2708384 2689796 2687232 2686903 2685375 2684983 2672001 2636077 2594404\n",
      " 2594242 2593396 2591917 2566620 2563362 2555555 2530396 2520564 2519963\n",
      " 2475779 2466261 2455289 2445674 2443179 2438936 2420614 2415417 2404096\n",
      " 2398898 2387801 2363080 2358552 2358138 2342467 2323760 2319126 2299385\n",
      " 2292797 2273919 2256571 2193697 2176720 2150173 2131542 2123998 2115565\n",
      " 2113316 2110830 2092564 1996730 1977300 1963581 1957752 1954286 1949434\n",
      " 1911882 1905508 1895519 1869164 1843979 1843499 1838704 1825867 1819049\n",
      " 1817890 1817445]\n",
      "2560009\n",
      "[0.99999994 0.99301505 0.9923183  0.9922423  0.9915458  0.99098396\n",
      " 0.99098396 0.99096036 0.9908225  0.9908003  0.9908003  0.99067086\n",
      " 0.99067086 0.9903158  0.9903158  0.9902744  0.9899417  0.98984075\n",
      " 0.98984075 0.9898262  0.9896429  0.98963857 0.98963815 0.9895611\n",
      " 0.9893005  0.98927295 0.98923856 0.9892251  0.9892251  0.9891676\n",
      " 0.9890696  0.9890409  0.9890084  0.9890084  0.9890084  0.9890084\n",
      " 0.9890084  0.9890084  0.9890084  0.98898923 0.9889829  0.9889671\n",
      " 0.9889671  0.9889499  0.9889499  0.9889499  0.98892236 0.9889071\n",
      " 0.9888948  0.9887999  0.98878837 0.9887841  0.98875743 0.98872745\n",
      " 0.9886358  0.9886358  0.9886341  0.9886264  0.9886106  0.98857504\n",
      " 0.9885739  0.9885739  0.9885739  0.9885739  0.98857325 0.98857325\n",
      " 0.9885551  0.98848385 0.98848385 0.98841536 0.9883927  0.98835987\n",
      " 0.9883286  0.9883003  0.9883003  0.9882401  0.98823965 0.98823965\n",
      " 0.98821175 0.98820364 0.98812914 0.98810995 0.9881081  0.988106\n",
      " 0.9880965  0.9880906  0.9880906  0.98806286 0.98806286 0.9880461\n",
      " 0.988001   0.9879842  0.9879842  0.98793525 0.9879277  0.9878807\n",
      " 0.9878691  0.9878691  0.9878643  0.9878348  0.9878204 ]\n",
      "[2560009 2331742 1148235 1975712 2645223 2566415 1746171  565729 2113916\n",
      " 2607530 1724492 2064139 1007945  699237  335694  738046 1835294  857059\n",
      "  611299 1851671 1734698 1475528 2010147 1772461 1470673  714432 2508666\n",
      " 1360789  631345 1707354 1009119 1103187 2425259 2200753 2061496 1162047\n",
      "  639126  207351  160754 2661932  508130 2262425  641950 1484972  918789\n",
      "  370822 1144830  295849  337103   82036 1348025 1173416  428543 1398840\n",
      "  814353  494817 2134671 1671108 2605076  339996 2216047 1302847 1069513\n",
      "  425354 2600463 1113910  287714 2000343 1989992 1370594 1149717 1335268\n",
      " 1551564 1874777 1658395 2099184 1507531  492212  134349 1867765 1777155\n",
      " 2523339  518817  905428 2639887 1897490 1067728 2685779 1114263   36802\n",
      " 1736466  776402  735638 2121412 1461353  610895 1490196  539862   34494\n",
      " 1791440 2323149]\n",
      "2560010\n",
      "[1.         1.         1.         1.         1.         1.\n",
      " 1.         1.         1.         1.         1.         1.\n",
      " 1.         1.         1.         1.         1.         1.\n",
      " 1.         1.         1.         1.         1.         1.\n",
      " 1.         1.         1.         1.         1.         1.\n",
      " 1.         1.         1.         1.         1.         1.\n",
      " 1.         1.         1.         1.         1.         1.\n",
      " 0.9929886  0.990493   0.9888021  0.9888021  0.98831916 0.98567533\n",
      " 0.9843885  0.9830831  0.9821303  0.98142076 0.98142076 0.98142076\n",
      " 0.98136795 0.98136795 0.98136795 0.979498   0.9788439  0.9785433\n",
      " 0.9785433  0.9785433  0.9785433  0.9785433  0.9785433  0.9785433\n",
      " 0.9785433  0.9785433  0.9785433  0.9785433  0.9785433  0.9785433\n",
      " 0.9785433  0.9785433  0.9785433  0.9785433  0.9785433  0.97803605\n",
      " 0.97803605 0.97803605 0.97803605 0.97803605 0.97803605 0.97754323\n",
      " 0.9759332  0.9756397  0.97542673 0.97542673 0.97542673 0.97542673\n",
      " 0.97542673 0.97542673 0.97542673 0.9750136  0.9747904  0.97429013\n",
      " 0.97429013 0.97429013 0.97429013 0.97429013 0.97129   ]\n",
      "[2698861 2666248 2643463 2583250 2560010 2552073 2510630 2316727 2156083\n",
      " 2135553 1969220 1939789 1904315 1842907 1671157 1567922 1483402 1454483\n",
      " 1410083 1308197 1125815 1120606 1047020 1044522 1036289  886596  790314\n",
      "  774439  747362  722245  635633  570051  555236  414967  242668  219506\n",
      "  212266  179513   74141   71964   10266    8261 2147417 2237384 2434747\n",
      " 1354794 1625758 1038765  125583  520035  579604 2101966 1529850  319170\n",
      " 1917711 1587709 1551328   29651 1747355 2264605 2129711 2062066 2019097\n",
      " 2016071 1784544 1341814 1252982 1242007  998792  988450  837246  707733\n",
      "  694075  510773  239593  126690   24345 2445562 1961336 1901497 1397390\n",
      "  983390  803443 1361635  307053 1586441 2416678 2289735 2128362 1775001\n",
      " 1269862 1065958  114785 2677576 2659613 2304253 2291271 2073612 1842068\n",
      " 1063954 2099557]\n"
     ]
    }
   ],
   "source": [
    "# i2i_pathes = list(map(lambda x: path_join(shards_root, x), os.listdir(shards_root)))\n",
    "# print(i2i_pathes)\n",
    "\n",
    "result = pd.read_parquet(\"dumps/production/i2i/name_area/shards/shard_2560000_2712385\")\n",
    "\n",
    "for j, row in result.iterrows():\n",
    "    print(row[\"idx\"])\n",
    "    print(row[\"distances\"])\n",
    "    print(row[\"neighbour_idxs\"])\n",
    "\n",
    "    if j >= 10:\n",
    "        break"
   ]
  },
  {
   "cell_type": "code",
   "execution_count": 21,
   "id": "19c12cac-5293-4456-9a0d-93d4fec34fef",
   "metadata": {},
   "outputs": [
    {
     "data": {
      "text/html": [
       "<div>\n",
       "<style scoped>\n",
       "    .dataframe tbody tr th:only-of-type {\n",
       "        vertical-align: middle;\n",
       "    }\n",
       "\n",
       "    .dataframe tbody tr th {\n",
       "        vertical-align: top;\n",
       "    }\n",
       "\n",
       "    .dataframe thead th {\n",
       "        text-align: right;\n",
       "    }\n",
       "</style>\n",
       "<table border=\"1\" class=\"dataframe\">\n",
       "  <thead>\n",
       "    <tr style=\"text-align: right;\">\n",
       "      <th></th>\n",
       "      <th>idx</th>\n",
       "      <th>distances</th>\n",
       "      <th>neighbour_idxs</th>\n",
       "    </tr>\n",
       "  </thead>\n",
       "  <tbody>\n",
       "    <tr>\n",
       "      <th>0</th>\n",
       "      <td>2560000</td>\n",
       "      <td>[0.99999994, 0.99999994, 0.99999994, 0.9999999...</td>\n",
       "      <td>[2706803, 2560000, 2520887, 2496353, 2311168, ...</td>\n",
       "    </tr>\n",
       "    <tr>\n",
       "      <th>1</th>\n",
       "      <td>2560001</td>\n",
       "      <td>[0.9999999, 0.99506056, 0.99506056, 0.99506056...</td>\n",
       "      <td>[2560001, 2447659, 1510305, 750207, 780917, 20...</td>\n",
       "    </tr>\n",
       "    <tr>\n",
       "      <th>2</th>\n",
       "      <td>2560002</td>\n",
       "      <td>[0.9999999, 0.9999999, 0.9999999, 0.9999999, 0...</td>\n",
       "      <td>[2560002, 1778998, 1254286, 812459, 530273, 28...</td>\n",
       "    </tr>\n",
       "    <tr>\n",
       "      <th>3</th>\n",
       "      <td>2560003</td>\n",
       "      <td>[1.0, 0.9588423, 0.9536178, 0.9528687, 0.95286...</td>\n",
       "      <td>[2560003, 848589, 1848735, 2652458, 2516340, 2...</td>\n",
       "    </tr>\n",
       "    <tr>\n",
       "      <th>4</th>\n",
       "      <td>2560004</td>\n",
       "      <td>[1.0, 0.9619129, 0.9560746, 0.95606756, 0.9557...</td>\n",
       "      <td>[2560004, 1588837, 2678024, 1835346, 1538212, ...</td>\n",
       "    </tr>\n",
       "  </tbody>\n",
       "</table>\n",
       "</div>"
      ],
      "text/plain": [
       "       idx                                          distances  \\\n",
       "0  2560000  [0.99999994, 0.99999994, 0.99999994, 0.9999999...   \n",
       "1  2560001  [0.9999999, 0.99506056, 0.99506056, 0.99506056...   \n",
       "2  2560002  [0.9999999, 0.9999999, 0.9999999, 0.9999999, 0...   \n",
       "3  2560003  [1.0, 0.9588423, 0.9536178, 0.9528687, 0.95286...   \n",
       "4  2560004  [1.0, 0.9619129, 0.9560746, 0.95606756, 0.9557...   \n",
       "\n",
       "                                      neighbour_idxs  \n",
       "0  [2706803, 2560000, 2520887, 2496353, 2311168, ...  \n",
       "1  [2560001, 2447659, 1510305, 750207, 780917, 20...  \n",
       "2  [2560002, 1778998, 1254286, 812459, 530273, 28...  \n",
       "3  [2560003, 848589, 1848735, 2652458, 2516340, 2...  \n",
       "4  [2560004, 1588837, 2678024, 1835346, 1538212, ...  "
      ]
     },
     "execution_count": 21,
     "metadata": {},
     "output_type": "execute_result"
    }
   ],
   "source": [
    "pd.read_parquet(\"dumps/production/i2i/name_area/shards/shard_2560000_2712385\").head(5)"
   ]
  },
  {
   "cell_type": "code",
   "execution_count": 22,
   "id": "e4e27c9d-c90d-4165-a105-8c27c09eb39f",
   "metadata": {},
   "outputs": [
    {
     "data": {
      "text/plain": [
       "['dumps/production/i2i/name_area/shards/shard_768000_1024000',\n",
       " 'dumps/production/i2i/name_area/shards/shard_2304000_2560000',\n",
       " 'dumps/production/i2i/name_area/shards/shard_1792000_2048000',\n",
       " 'dumps/production/i2i/name_area/shards/shard_0_256000',\n",
       " 'dumps/production/i2i/name_area/shards/shard_512000_768000',\n",
       " 'dumps/production/i2i/name_area/shards/shard_2560000_2712385',\n",
       " 'dumps/production/i2i/name_area/shards/shard_1024000_1280000',\n",
       " 'dumps/production/i2i/name_area/shards/shard_1536000_1792000',\n",
       " 'dumps/production/i2i/name_area/shards/shard_1280000_1536000',\n",
       " 'dumps/production/i2i/name_area/shards/shard_2048000_2304000',\n",
       " 'dumps/production/i2i/name_area/shards/shard_256000_512000']"
      ]
     },
     "execution_count": 22,
     "metadata": {},
     "output_type": "execute_result"
    }
   ],
   "source": [
    "shards_pathes = list(map(lambda x: path_join(shards_root, x), os.listdir(shards_root)))\n",
    "shards_pathes"
   ]
  },
  {
   "cell_type": "code",
   "execution_count": 24,
   "id": "b1f80e88-963c-4494-82fd-b1b9a956a2a3",
   "metadata": {},
   "outputs": [
    {
     "name": "stdout",
     "output_type": "stream",
     "text": [
      "  vacancy_id                                               name\n",
      "0   v_862116          Чеченская республика. Смотритель музейный\n",
      "1   v_288642  Самарская область. Ведущий менеджер по работе ...\n",
      "2  v_1840054   Санкт-Петербург. Бухгалтер (по расчету зарплаты)\n"
     ]
    },
    {
     "data": {
      "text/plain": [
       "'v_544753'"
      ]
     },
     "execution_count": 24,
     "metadata": {},
     "output_type": "execute_result"
    }
   ],
   "source": [
    "vacancies = pd.read_parquet(vacancies_tmp_path)\n",
    "\n",
    "print(vacancies.head(3))\n",
    "\n",
    "vacancy_ids = vacancies[\"vacancy_id\"].to_list()\n",
    "idx_to_vacancy_id = {it[0]: it[1] for it in enumerate(vacancy_ids)}\n",
    "idx_to_vacancy_id[100]"
   ]
  },
  {
   "cell_type": "code",
   "execution_count": 26,
   "id": "1e80b231-171b-414d-bc95-fe7e54d6acc5",
   "metadata": {},
   "outputs": [],
   "source": [
    "output_i2i_df_path = path_join(embedding_root, \"i2i.parquet\")"
   ]
  },
  {
   "cell_type": "code",
   "execution_count": 33,
   "id": "7158e9bf-ad05-43c5-92e2-ccf72c023d72",
   "metadata": {},
   "outputs": [
    {
     "name": "stderr",
     "output_type": "stream",
     "text": [
      "100%|████████████████████████████████████████████████████████████████████████████████████████████████████████████████████████████████████████████████████████████████████████████████████| 256000/256000 [01:02<00:00, 4067.92it/s]\n",
      "100%|████████████████████████████████████████████████████████████████████████████████████████████████████████████████████████████████████████████████████████████████████████████████████| 256000/256000 [01:05<00:00, 3917.34it/s]\n",
      "100%|████████████████████████████████████████████████████████████████████████████████████████████████████████████████████████████████████████████████████████████████████████████████████| 256000/256000 [01:03<00:00, 4017.27it/s]\n",
      "100%|████████████████████████████████████████████████████████████████████████████████████████████████████████████████████████████████████████████████████████████████████████████████████| 256000/256000 [01:31<00:00, 2799.84it/s]\n",
      "100%|████████████████████████████████████████████████████████████████████████████████████████████████████████████████████████████████████████████████████████████████████████████████████| 256000/256000 [01:04<00:00, 3981.05it/s]\n",
      "100%|████████████████████████████████████████████████████████████████████████████████████████████████████████████████████████████████████████████████████████████████████████████████████| 152385/152385 [00:37<00:00, 4025.91it/s]\n",
      "100%|████████████████████████████████████████████████████████████████████████████████████████████████████████████████████████████████████████████████████████████████████████████████████| 256000/256000 [01:03<00:00, 4054.13it/s]\n",
      "100%|████████████████████████████████████████████████████████████████████████████████████████████████████████████████████████████████████████████████████████████████████████████████████| 256000/256000 [01:03<00:00, 4010.22it/s]\n",
      " 38%|████████████████████████████████████████████████████████████████████▉                                                                                                                | 97585/256000 [00:55<00:39, 3971.10it/s]IOStream.flush timed out\n",
      "100%|████████████████████████████████████████████████████████████████████████████████████████████████████████████████████████████████████████████████████████████████████████████████████| 256000/256000 [01:35<00:00, 2682.13it/s]\n",
      "100%|████████████████████████████████████████████████████████████████████████████████████████████████████████████████████████████████████████████████████████████████████████████████████| 256000/256000 [01:03<00:00, 4062.87it/s]\n",
      "100%|████████████████████████████████████████████████████████████████████████████████████████████████████████████████████████████████████████████████████████████████████████████████████| 256000/256000 [01:05<00:00, 3884.08it/s]\n"
     ]
    },
    {
     "data": {
      "text/html": [
       "<div>\n",
       "<style scoped>\n",
       "    .dataframe tbody tr th:only-of-type {\n",
       "        vertical-align: middle;\n",
       "    }\n",
       "\n",
       "    .dataframe tbody tr th {\n",
       "        vertical-align: top;\n",
       "    }\n",
       "\n",
       "    .dataframe thead th {\n",
       "        text-align: right;\n",
       "    }\n",
       "</style>\n",
       "<table border=\"1\" class=\"dataframe\">\n",
       "  <thead>\n",
       "    <tr style=\"text-align: right;\">\n",
       "      <th></th>\n",
       "      <th>vacancy_id</th>\n",
       "      <th>neighbours</th>\n",
       "    </tr>\n",
       "  </thead>\n",
       "  <tbody>\n",
       "    <tr>\n",
       "      <th>0</th>\n",
       "      <td>v_210485</td>\n",
       "      <td>[v_1579639, v_2438371, v_463998, v_1655196, v_...</td>\n",
       "    </tr>\n",
       "    <tr>\n",
       "      <th>1</th>\n",
       "      <td>v_1414033</td>\n",
       "      <td>[v_1436818, v_1706535, v_1183479, v_2145514, v...</td>\n",
       "    </tr>\n",
       "    <tr>\n",
       "      <th>2</th>\n",
       "      <td>v_447443</td>\n",
       "      <td>[v_2589185, v_1843224, v_1461488, v_1817544, v...</td>\n",
       "    </tr>\n",
       "    <tr>\n",
       "      <th>3</th>\n",
       "      <td>v_2419140</td>\n",
       "      <td>[]</td>\n",
       "    </tr>\n",
       "    <tr>\n",
       "      <th>4</th>\n",
       "      <td>v_1157009</td>\n",
       "      <td>[v_918944, v_306770, v_685415, v_758707, v_115...</td>\n",
       "    </tr>\n",
       "    <tr>\n",
       "      <th>5</th>\n",
       "      <td>v_2257180</td>\n",
       "      <td>[v_811259, v_87818, v_1713003, v_1637499, v_25...</td>\n",
       "    </tr>\n",
       "    <tr>\n",
       "      <th>6</th>\n",
       "      <td>v_763762</td>\n",
       "      <td>[v_1514206, v_1231479, v_668006, v_409922, v_1...</td>\n",
       "    </tr>\n",
       "    <tr>\n",
       "      <th>7</th>\n",
       "      <td>v_1919641</td>\n",
       "      <td>[v_817490, v_2019692, v_550401, v_2285702, v_7...</td>\n",
       "    </tr>\n",
       "    <tr>\n",
       "      <th>8</th>\n",
       "      <td>v_224700</td>\n",
       "      <td>[v_1617218, v_892057, v_3683, v_334270, v_2563...</td>\n",
       "    </tr>\n",
       "    <tr>\n",
       "      <th>9</th>\n",
       "      <td>v_1101679</td>\n",
       "      <td>[v_1221089, v_777412, v_1238831, v_470564, v_3...</td>\n",
       "    </tr>\n",
       "  </tbody>\n",
       "</table>\n",
       "</div>"
      ],
      "text/plain": [
       "  vacancy_id                                         neighbours\n",
       "0   v_210485  [v_1579639, v_2438371, v_463998, v_1655196, v_...\n",
       "1  v_1414033  [v_1436818, v_1706535, v_1183479, v_2145514, v...\n",
       "2   v_447443  [v_2589185, v_1843224, v_1461488, v_1817544, v...\n",
       "3  v_2419140                                                 []\n",
       "4  v_1157009  [v_918944, v_306770, v_685415, v_758707, v_115...\n",
       "5  v_2257180  [v_811259, v_87818, v_1713003, v_1637499, v_25...\n",
       "6   v_763762  [v_1514206, v_1231479, v_668006, v_409922, v_1...\n",
       "7  v_1919641  [v_817490, v_2019692, v_550401, v_2285702, v_7...\n",
       "8   v_224700  [v_1617218, v_892057, v_3683, v_334270, v_2563...\n",
       "9  v_1101679  [v_1221089, v_777412, v_1238831, v_470564, v_3..."
      ]
     },
     "execution_count": 33,
     "metadata": {},
     "output_type": "execute_result"
    }
   ],
   "source": [
    "result_vacancy_ids = []\n",
    "result_neighbours  = []\n",
    "\n",
    "for shard_path in shards_pathes:\n",
    "    i2i_shard = pd.read_parquet(shard_path)\n",
    "\n",
    "    for row_index, row in tqdm(i2i_shard.iterrows(), total=i2i_shard.shape[0]):\n",
    "        vacancy_id = idx_to_vacancy_id[row[\"idx\"]]\n",
    "        neighbours = map(lambda x: x[0], filter(lambda x: x[1] >= 0.9, zip(row[\"neighbour_idxs\"], row[\"distances\"])))\n",
    "        neighbours = map(lambda i: idx_to_vacancy_id[i], neighbours)\n",
    "        neighbours = list(filter(lambda neighbour: neighbour != vacancy_id, neighbours))[:100]\n",
    "\n",
    "        result_vacancy_ids.append(vacancy_id)\n",
    "        result_neighbours.append(neighbours)\n",
    "\n",
    "result_df = pd.DataFrame.from_dict({\n",
    "    \"vacancy_id\": result_vacancy_ids,\n",
    "    \"neighbours\": result_neighbours\n",
    "})\n",
    "\n",
    "result_df.to_parquet(output_i2i_df_path)\n",
    "result_df.head(10)"
   ]
  },
  {
   "cell_type": "code",
   "execution_count": 39,
   "id": "c5d79424-7a1c-40c4-8026-bb7b3c116502",
   "metadata": {},
   "outputs": [
    {
     "data": {
      "text/plain": [
       "'dumps/production/i2i/name_area/i2i.parquet'"
      ]
     },
     "execution_count": 39,
     "metadata": {},
     "output_type": "execute_result"
    }
   ],
   "source": [
    "output_i2i_df_path"
   ]
  },
  {
   "cell_type": "code",
   "execution_count": 36,
   "id": "460a6999-bd63-4c45-8e24-a0bf42eb8267",
   "metadata": {},
   "outputs": [],
   "source": [
    "# result_df.sample(n=50000).to_parquet(output_i2i_df_path)"
   ]
  },
  {
   "cell_type": "code",
   "execution_count": 34,
   "id": "4b50f1e7-2a94-4ace-a6a4-4e1240e39c1a",
   "metadata": {},
   "outputs": [
    {
     "data": {
      "text/plain": [
       "2712385"
      ]
     },
     "execution_count": 34,
     "metadata": {},
     "output_type": "execute_result"
    }
   ],
   "source": [
    "result_df.shape[0]"
   ]
  },
  {
   "cell_type": "code",
   "execution_count": 41,
   "id": "bf197638-b246-4be3-8bee-56b79a0c75dc",
   "metadata": {},
   "outputs": [
    {
     "data": {
      "text/plain": [
       "100"
      ]
     },
     "execution_count": 41,
     "metadata": {},
     "output_type": "execute_result"
    }
   ],
   "source": [
    "result_df[\"neighbours\"].map(len).max()"
   ]
  },
  {
   "cell_type": "code",
   "execution_count": 35,
   "id": "81041459-37c1-4793-bc5a-875a699db3d3",
   "metadata": {},
   "outputs": [
    {
     "data": {
      "text/plain": [
       "'Московская область. Заведующий аптекой/Директор аптеки'"
      ]
     },
     "execution_count": 35,
     "metadata": {},
     "output_type": "execute_result"
    }
   ],
   "source": [
    "names = vacancies[\"name\"].to_list()\n",
    "idx_to_vacancy_id = {it[0]: it[1] for it in zip(vacancy_ids, names)}\n",
    "idx_to_vacancy_id[\"v_301038\"]\n",
    "\n",
    "# 'Заведующий аптекой/Директор аптеки'"
   ]
  },
  {
   "cell_type": "code",
   "execution_count": 38,
   "id": "79fe88af-0145-436f-bd36-50ace59af6b4",
   "metadata": {},
   "outputs": [
    {
     "name": "stdout",
     "output_type": "stream",
     "text": [
      "-=-=-=-=-=-=-==-=-=\n",
      "Красноярский край. Водитель автобуса\n",
      "   Красноярский край. Водитель автобуса\n",
      "   Красноярский край. Водитель автобуса\n",
      "   Красноярский край. Водитель автобуса\n",
      "   Красноярский край. Водитель автобуса\n",
      "-=-=-=-=-=-=-==-=-=\n",
      "Пермский край. Курьер, подработка\n",
      "   Пермский край. Курьер, подработка\n",
      "   Пермский край. Курьер, подработка\n",
      "   Пермский край. Курьер, подработка\n",
      "   Пермский край. Курьер, на подработку\n",
      "-=-=-=-=-=-=-==-=-=\n",
      "Томская область. Торговый агент\n",
      "   Томская область. Торговый агент\n",
      "   Томская область. Торговый агент\n",
      "   Томская область. Торговый агент на комбинированных маршрутах\n",
      "   Томская область. Торговый представитель\n",
      "-=-=-=-=-=-=-==-=-=\n",
      "Рязанская область. Инженер технической поддержки пользователей со знанием английского языка\n",
      "-=-=-=-=-=-=-==-=-=\n",
      "Москва. Кассир (Москва, Осенний, 12)\n",
      "   Москва. Кассир (Москва, Декабристов, 12)\n",
      "   Москва. Пекарь (Москва, Осенний, 12)\n",
      "   Москва. Пекарь (Москва, Осенний, 12)\n",
      "   Москва. Кассир (Москва, Островитянова, 7)\n",
      "-=-=-=-=-=-=-==-=-=\n",
      "Москва. Менеджер чатов (удаленно, в Яндекс.Маркет)\n",
      "   Москва. Менеджер чатов (удаленно, в Яндекс.Маркет)\n",
      "   Москва. Менеджер чатов (удаленно, в Яндекс.Маркет)\n",
      "   Москва. Менеджер чатов (удаленно, в Яндекс.Маркет)\n",
      "   Москва. Менеджер чатов (удаленно, в Яндекс.Маркет)\n",
      "-=-=-=-=-=-=-==-=-=\n",
      "Москва. Менеджер проектов\n",
      "   Москва. Менеджер проектов\n",
      "   Москва. Менеджер проектов\n",
      "   Москва. Менеджер проектов\n",
      "   Москва. Менеджер проектов\n",
      "-=-=-=-=-=-=-==-=-=\n",
      "Москва. Бизнес-Ассистент / Личный помощник\n",
      "   Москва. Бизнес-ассистент / личный помощник\n",
      "   Москва. Личный помощник / Бизнес-ассистент\n",
      "   Москва. Личный помощник / Бизнес-ассистент\n",
      "   Москва. Личный помощник / Бизнес-ассистент\n",
      "-=-=-=-=-=-=-==-=-=\n",
      "Москва. Главный инженер проекта (комплексный)/Руководитель проекта\n",
      "   Москва. Главный инженер проекта/комплексный главный инженер проекта\n",
      "   Москва. Главный инженер проекта/комплексный главный инженер проекта\n",
      "   Москва. Главный инженер проекта (комплексный) (Служба технического заказчика)\n",
      "   Москва. Главный инженер проекта (комплексный)\n",
      "-=-=-=-=-=-=-==-=-=\n",
      "Москва. Категорийный менеджер (Категория 18+)\n",
      "   Москва. Категорийный менеджер (Водка, Настойки)\n",
      "   Москва. Категорийный менеджер (категория Бакалея)\n",
      "   Москва. Категорийный менеджер (Удаленно)\n",
      "   Москва. Категорийный менеджер (Удаленно)\n",
      "-=-=-=-=-=-=-==-=-=\n",
      "Красноярский край. Специалист по ремонту промоборудования / слесарь-ремонтник\n",
      "   Красноярский край. Сортировщица/сортировщик заказов\n",
      "   Красноярский край. Сортировщица/сортировщик заказов\n",
      "   Красноярский край. Сортировщица/сортировщик заказов\n",
      "   Красноярский край. Сортировщица/сортировщик заказов\n"
     ]
    }
   ],
   "source": [
    "for row_idx, row in result_df.iterrows():\n",
    "    print(\"-=-=-=-=-=-=-==-=-=\")\n",
    "    print(idx_to_vacancy_id[row[\"vacancy_id\"]])\n",
    "\n",
    "    for neighbour_idx, neighbour in enumerate(row[\"neighbours\"]):\n",
    "\n",
    "        print(\"  \", idx_to_vacancy_id[neighbour])\n",
    "\n",
    "        if neighbour_idx >= 3:\n",
    "            break\n",
    "\n",
    "    if row_idx >= 10:\n",
    "        break"
   ]
  },
  {
   "cell_type": "code",
   "execution_count": 51,
   "id": "6da551ae-ff59-4ec4-9ecf-fe784271310a",
   "metadata": {},
   "outputs": [],
   "source": [
    "result_df = pd.read_parquet(output_i2i_df_path)"
   ]
  }
 ],
 "metadata": {
  "kernelspec": {
   "display_name": "Python 3 (ipykernel)",
   "language": "python",
   "name": "python3"
  },
  "language_info": {
   "codemirror_mode": {
    "name": "ipython",
    "version": 3
   },
   "file_extension": ".py",
   "mimetype": "text/x-python",
   "name": "python",
   "nbconvert_exporter": "python",
   "pygments_lexer": "ipython3",
   "version": "3.8.18"
  }
 },
 "nbformat": 4,
 "nbformat_minor": 5
}
