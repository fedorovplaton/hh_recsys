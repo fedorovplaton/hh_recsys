{
 "cells": [
  {
   "cell_type": "code",
   "execution_count": 1,
   "id": "83744bee-b154-4fd4-b011-c73a0ae40a11",
   "metadata": {},
   "outputs": [],
   "source": [
    "from __future__ import annotations\n",
    "\n",
    "from typing import List\n",
    "\n",
    "from itertools import cycle, chain\n",
    "from itertools import islice\n",
    "\n",
    "import polars as pl\n",
    "import pandas as pd\n",
    "import numpy as np\n",
    "import os\n",
    "from os.path import join as path_join\n",
    "from tqdm import tqdm\n",
    "\n",
    "from collections import Counter"
   ]
  },
  {
   "cell_type": "code",
   "execution_count": 2,
   "id": "ce2530b4-f422-4df4-b620-26afb9253817",
   "metadata": {},
   "outputs": [],
   "source": [
    "train_data_path = \"../data/processed/train.parquet\"\n",
    "test_data_path = \"../data/processed/test_inference.parquet\"\n",
    "vacancies_path = \"../data/raw/hh_recsys_vacancies.pq\"\n",
    "test_vacancies_path = \"../data/processed/test_vacancies.parquet\"\n",
    "user_history_data_path = \"dumps/user_history/history_data.parquet\""
   ]
  },
  {
   "cell_type": "code",
   "execution_count": 3,
   "id": "d1d61c32-552e-48e7-ba25-6b9dac36e5e2",
   "metadata": {},
   "outputs": [],
   "source": [
    "train = pd.read_parquet(train_data_path)\n",
    "test  = pd.read_parquet(test_data_path)\n",
    "user_history_data = pd.read_parquet(user_history_data_path)"
   ]
  },
  {
   "cell_type": "code",
   "execution_count": 4,
   "id": "3b8a1bd5-8143-41cd-b1f6-610fc5addad1",
   "metadata": {},
   "outputs": [
    {
     "data": {
      "text/plain": [
       "1199909"
      ]
     },
     "execution_count": 4,
     "metadata": {},
     "output_type": "execute_result"
    }
   ],
   "source": [
    "test_vacancies = test[\"target_vacancy_id\"].to_list()\n",
    "test_vacancies += list(chain(*test[\"vacancy_id\"].values))\n",
    "test_vacancies += list(chain(*train[\"vacancy_id\"].values))\n",
    "test_vacancies = pd.Series(list(set(test_vacancies)))\n",
    "\n",
    "len(test_vacancies)"
   ]
  },
  {
   "cell_type": "code",
   "execution_count": 5,
   "id": "51c8ae85-d0a5-43cc-8db3-da0e655b0936",
   "metadata": {},
   "outputs": [],
   "source": [
    "# vacancies = pl.read_parquet(vacancies_path).to_pandas()"
   ]
  },
  {
   "cell_type": "code",
   "execution_count": 6,
   "id": "25a533dc-b579-4f84-8e53-a48b96bd550a",
   "metadata": {},
   "outputs": [],
   "source": [
    "# vacancies[vacancies[\"vacancy_id\"] == \"v_2691293\"]"
   ]
  },
  {
   "cell_type": "code",
   "execution_count": 7,
   "id": "204700c9-5ed5-4151-b27b-dd68c9af59cc",
   "metadata": {},
   "outputs": [],
   "source": [
    "# vacancies.columns "
   ]
  },
  {
   "cell_type": "code",
   "execution_count": 8,
   "id": "e35ac825-48ec-46d4-a624-8384ae80c524",
   "metadata": {},
   "outputs": [],
   "source": [
    "# vacancies = vacancies.merge(\n",
    "#     test_vacancies.rename('vacancy_id'),\n",
    "#     \"inner\",\n",
    "#     \"vacancy_id\")"
   ]
  },
  {
   "cell_type": "code",
   "execution_count": 9,
   "id": "611747c9-73de-4dc3-9b0f-c70e5e624887",
   "metadata": {},
   "outputs": [],
   "source": [
    "# vacancies.to_parquet(test_vacancies_path)"
   ]
  },
  {
   "cell_type": "code",
   "execution_count": 10,
   "id": "21ab33bf-71e4-46f3-8f98-a120a19c3b90",
   "metadata": {},
   "outputs": [],
   "source": [
    "test_vacancies = pd.read_parquet(test_vacancies_path)"
   ]
  },
  {
   "cell_type": "code",
   "execution_count": 11,
   "id": "8148a8c8-acf3-4b36-bb1d-225bbea28ac2",
   "metadata": {},
   "outputs": [],
   "source": [
    "test = test.merge(user_history_data, \"left\", \"user_id\")"
   ]
  },
  {
   "cell_type": "code",
   "execution_count": 12,
   "id": "196c5620-a96c-4c34-8ed3-794045cdb8ac",
   "metadata": {},
   "outputs": [
    {
     "data": {
      "text/html": [
       "<div>\n",
       "<style scoped>\n",
       "    .dataframe tbody tr th:only-of-type {\n",
       "        vertical-align: middle;\n",
       "    }\n",
       "\n",
       "    .dataframe tbody tr th {\n",
       "        vertical-align: top;\n",
       "    }\n",
       "\n",
       "    .dataframe thead th {\n",
       "        text-align: right;\n",
       "    }\n",
       "</style>\n",
       "<table border=\"1\" class=\"dataframe\">\n",
       "  <thead>\n",
       "    <tr style=\"text-align: right;\">\n",
       "      <th></th>\n",
       "      <th>user_id</th>\n",
       "      <th>session_id</th>\n",
       "      <th>target_session_id</th>\n",
       "      <th>vacancy_id</th>\n",
       "      <th>action_type</th>\n",
       "      <th>action_dt</th>\n",
       "      <th>target_vacancy_id</th>\n",
       "      <th>items</th>\n",
       "      <th>item_actions</th>\n",
       "    </tr>\n",
       "  </thead>\n",
       "  <tbody>\n",
       "    <tr>\n",
       "      <th>0</th>\n",
       "      <td>u_1000060</td>\n",
       "      <td>s_19856666</td>\n",
       "      <td>s_6481076</td>\n",
       "      <td>[v_1962314]</td>\n",
       "      <td>[2]</td>\n",
       "      <td>[2023-11-10T14:21:18.628000000]</td>\n",
       "      <td>v_76636</td>\n",
       "      <td>[[v_1500295, v_1500295], [v_1500295, v_524850]...</td>\n",
       "      <td>[[2, 1], [2, 2], [2], [2, 2], [2], [2, 2, 2], ...</td>\n",
       "    </tr>\n",
       "  </tbody>\n",
       "</table>\n",
       "</div>"
      ],
      "text/plain": [
       "     user_id  session_id target_session_id   vacancy_id action_type  \\\n",
       "0  u_1000060  s_19856666         s_6481076  [v_1962314]         [2]   \n",
       "\n",
       "                         action_dt target_vacancy_id  \\\n",
       "0  [2023-11-10T14:21:18.628000000]           v_76636   \n",
       "\n",
       "                                               items  \\\n",
       "0  [[v_1500295, v_1500295], [v_1500295, v_524850]...   \n",
       "\n",
       "                                        item_actions  \n",
       "0  [[2, 1], [2, 2], [2], [2, 2], [2], [2, 2, 2], ...  "
      ]
     },
     "execution_count": 12,
     "metadata": {},
     "output_type": "execute_result"
    }
   ],
   "source": [
    "test.head(1)"
   ]
  },
  {
   "cell_type": "code",
   "execution_count": 13,
   "id": "d0f5b0cd-6abb-44ae-9b96-b5dc1a5fc5d9",
   "metadata": {},
   "outputs": [],
   "source": [
    "test_vacancies = test_vacancies.set_index(\"vacancy_id\").to_dict()"
   ]
  },
  {
   "cell_type": "code",
   "execution_count": 14,
   "id": "22edd208-a8d4-4b51-9e3f-ae09968514bb",
   "metadata": {},
   "outputs": [
    {
     "data": {
      "text/plain": [
       "'Бухгалтер по банковским операциям'"
      ]
     },
     "execution_count": 14,
     "metadata": {},
     "output_type": "execute_result"
    }
   ],
   "source": [
    "test_vacancies[\"name\"][\"v_1446558\"]"
   ]
  },
  {
   "cell_type": "code",
   "execution_count": 15,
   "id": "97b4f0e2-702f-4fe0-80d5-461b08b98493",
   "metadata": {},
   "outputs": [
    {
     "data": {
      "text/plain": [
       "0.7887047347749148"
      ]
     },
     "execution_count": 15,
     "metadata": {},
     "output_type": "execute_result"
    }
   ],
   "source": [
    "test[\"items\"].apply(lambda x: int(isinstance(x, np.ndarray))).mean()"
   ]
  },
  {
   "cell_type": "code",
   "execution_count": 16,
   "id": "c2f29434-be7d-42fa-b5fa-0fd121d83b10",
   "metadata": {},
   "outputs": [],
   "source": [
    "def get_action_name(action_type):\n",
    "    if action_type == 1:\n",
    "        return \"🥰 Откликнулся\"\n",
    "    elif action_type == 2:\n",
    "        return \"Просмотрел\"\n",
    "    elif action_type == 3:\n",
    "        return \"Добавил в избранное\"\n",
    "    else:\n",
    "        return \"Что-что сделал?\"\n",
    "\n",
    "def pprint_vacancy(vacancy_id):\n",
    "    if vacancy_id not in test_vacancies[\"name\"]:\n",
    "        print(\"        - [Такой вакансии не было в тест]\")\n",
    "        return\n",
    "    \n",
    "    print(\"        -\", test_vacancies[\"name\"][vacancy_id])\n",
    "\n",
    "    if test_vacancies[\"company.id\"][vacancy_id] is not None:\n",
    "        print(\"        -\", \"Id компании\", test_vacancies[\"company.id\"][vacancy_id])\n",
    "\n",
    "    if test_vacancies[\"keySkills.keySkill\"][vacancy_id] is not None:\n",
    "        print(\"        -\", \", \".join(test_vacancies[\"keySkills.keySkill\"][vacancy_id]))\n",
    "\n",
    "    if test_vacancies[\"compensation.from\"][vacancy_id] is not None and not np.isnan(test_vacancies[\"compensation.from\"][vacancy_id]):\n",
    "        print(\"        -\", \"От\", test_vacancies[\"compensation.from\"][vacancy_id], test_vacancies[\"compensation.currencyCode\"][vacancy_id])\n",
    "\n",
    "    if test_vacancies[\"compensation.to\"][vacancy_id] is not None and not np.isnan(test_vacancies[\"compensation.to\"][vacancy_id]):\n",
    "        print(\"        -\", \"До\", test_vacancies[\"compensation.to\"][vacancy_id], test_vacancies[\"compensation.currencyCode\"][vacancy_id])\n",
    "\n",
    "    if test_vacancies[\"area.id\"][vacancy_id] is not None:\n",
    "        print(\"        -\", \"Id области\", test_vacancies[\"area.id\"][vacancy_id])\n",
    "\n",
    "    if test_vacancies[\"area.regionId\"][vacancy_id] is not None:\n",
    "        print(\"        -\", \"Id региона\", test_vacancies[\"area.regionId\"][vacancy_id])\n",
    "\n",
    "    if test_vacancies[\"employment\"][vacancy_id] is not None:\n",
    "        print(\"        -\", \"Устройство\", test_vacancies[\"employment\"][vacancy_id])\n",
    "\n",
    "    if test_vacancies[\"workSchedule\"][vacancy_id] is not None:\n",
    "        print(\"        -\", \"График работы:\", test_vacancies[\"workSchedule\"][vacancy_id])\n",
    "\n",
    "    if test_vacancies[\"workExperience\"][vacancy_id] is not None:\n",
    "        print(\"        -\", \"Опыт\", test_vacancies[\"workExperience\"][vacancy_id])"
   ]
  },
  {
   "cell_type": "code",
   "execution_count": 17,
   "id": "9e4a739d-52a5-4569-a3e4-127d2377bab2",
   "metadata": {},
   "outputs": [],
   "source": [
    "# for idx, row in test_sample.iterrows():\n",
    "#     print(\"====================================================================================================\")\n",
    "#     print(\"====================================================================================================\")\n",
    "\n",
    "#     print(\"Юзер:\", row[\"user_id\"])\n",
    "#     print(\"----\")\n",
    "#     print(\"    - Вакансии в прошлых сессия:\")\n",
    "\n",
    "#     if isinstance(row[\"items\"], np.ndarray):\n",
    "#         for session in zip(row[\"items\"], row[\"item_actions\"]):\n",
    "#             for vacancy_id, action_type in zip(session[0], session[1]):\n",
    "#                 print(get_action_name(action_type), vacancy_id)\n",
    "#                 pprint_vacancy(vacancy_id)\n",
    "#     else:\n",
    "#         print(\"        - Их не было\")\n",
    "#     print(\"----\")  \n",
    "#     print(\"    - Вакансии в тестовой сессии:\")\n",
    "#     for dt, vacancy_id, action_type in zip(row[\"action_dt\"], row[\"vacancy_id\"], row[\"action_type\"]):\n",
    "#         print(get_action_name(action_type), vacancy_id)\n",
    "#         pprint_vacancy(vacancy_id)\n",
    "\n",
    "#     print(\"\")\n",
    "#     print(\"^^^^^^^^^^^^^^^^^^^^^\")\n",
    "#     print(\"В следующей сессии откликнулся на\", row[\"target_vacancy_id\"])\n",
    "#     pprint_vacancy(row[\"target_vacancy_id\"])\n",
    "\n",
    "#     if idx > 10:\n",
    "#         break"
   ]
  },
  {
   "cell_type": "code",
   "execution_count": 18,
   "id": "4ff25f8c-709e-49c1-8bcc-dd199be7c4e4",
   "metadata": {},
   "outputs": [
    {
     "data": {
      "text/plain": [
       "'\\n    Мысли\\n\\n    - Вот если человек глянул какую-то компанию, то какой шанс, что он откликнется на эту компанию именно\\n'"
      ]
     },
     "execution_count": 18,
     "metadata": {},
     "output_type": "execute_result"
    }
   ],
   "source": [
    "\"\"\"\n",
    "    Мысли\n",
    "\n",
    "    - Вот если человек глянул какую-то компанию, то какой шанс, что он откликнется на эту компанию именно\n",
    "\"\"\""
   ]
  },
  {
   "cell_type": "code",
   "execution_count": 19,
   "id": "307dca07-371a-4932-adcd-370fc8d7e2ac",
   "metadata": {
    "scrolled": true
   },
   "outputs": [
    {
     "data": {
      "text/plain": [
       "0.9219215330829988"
      ]
     },
     "execution_count": 19,
     "metadata": {},
     "output_type": "execute_result"
    }
   ],
   "source": [
    "get_company = lambda vacancy_id: test_vacancies[\"company.id\"][vacancy_id]\n",
    "get_area    = lambda vacancy_id: test_vacancies[\"area.id\"][vacancy_id]\n",
    "get_region  = lambda vacancy_id: test_vacancies[\"area.regionId\"][vacancy_id]\n",
    "get_employment = lambda vacancy_id: test_vacancies[\"employment\"][vacancy_id]\n",
    "get_workSchedule    = lambda vacancy_id: test_vacancies[\"workSchedule\"][vacancy_id]\n",
    "get_workExperience  = lambda vacancy_id: test_vacancies[\"workExperience\"][vacancy_id]\n",
    "\n",
    "# test[\"is_same_company\"] = test[[\"vacancy_id\", \"target_vacancy_id\"]].apply(\n",
    "#     lambda row: int(get_company(row[\"target_vacancy_id\"]) in set(filter(lambda x: x, map(get_company, row[\"vacancy_id\"])))),\n",
    "#     axis=1\n",
    "# )\n",
    "# test[\"is_same_area\"] = test[[\"vacancy_id\", \"target_vacancy_id\"]].apply(\n",
    "#     lambda row: int(get_area(row[\"target_vacancy_id\"]) in set(filter(lambda x: x, map(get_area, row[\"vacancy_id\"])))),\n",
    "#     axis=1\n",
    "# )\n",
    "# test[\"is_same_region\"] = test[[\"vacancy_id\", \"target_vacancy_id\"]].apply(\n",
    "#     lambda row: int(get_region(row[\"target_vacancy_id\"]) in set(filter(lambda x: x, map(get_region, row[\"vacancy_id\"])))),\n",
    "#     axis=1\n",
    "# )\n",
    "# test[\"is_same_employment\"] = test[[\"vacancy_id\", \"target_vacancy_id\"]].apply(\n",
    "#     lambda row: int(get_employment(row[\"target_vacancy_id\"]) in set(filter(lambda x: x, map(get_employment, row[\"vacancy_id\"])))),\n",
    "#     axis=1\n",
    "# )\n",
    "# test[\"is_same_workSchedule\"] = test[[\"vacancy_id\", \"target_vacancy_id\"]].apply(\n",
    "#     lambda row: int(get_workSchedule(row[\"target_vacancy_id\"]) in set(filter(lambda x: x, map(get_workSchedule, row[\"vacancy_id\"])))),\n",
    "#     axis=1\n",
    "# )\n",
    "# test[\"is_same_workExperience\"] = test[[\"vacancy_id\", \"target_vacancy_id\"]].apply(\n",
    "#     lambda row: int(get_workExperience(row[\"target_vacancy_id\"]) in set(filter(lambda x: x, map(get_workExperience, row[\"vacancy_id\"])))),\n",
    "#     axis=1\n",
    "# )\n",
    "\n",
    "# test[\"y_in_x\"] = test[[\"vacancy_id\", \"target_vacancy_id\"]].apply(\n",
    "#     lambda row: int(row[\"target_vacancy_id\"] in set(row[\"vacancy_id\"])),\n",
    "#     axis=1\n",
    "# )\n",
    "\n",
    "def most_freq(arr):\n",
    "    if len(arr) == 0:\n",
    "        return \"\"\n",
    "    return Counter(arr).most_common(1)[0][0]\n",
    "\n",
    "# test[\"is_most_pop_area_from_test\"] = test[[\"vacancy_id\", \"target_vacancy_id\"]].apply(\n",
    "#     lambda row: int(get_area(row[\"target_vacancy_id\"]) == most_freq(list(filter(lambda x: x, map(get_area, row[\"vacancy_id\"]))))),\n",
    "#     axis=1\n",
    "# )\n",
    "# test[\"is_most_pop_region_from_test\"] = test[[\"vacancy_id\", \"target_vacancy_id\"]].apply(\n",
    "#     lambda row: int(get_region(row[\"target_vacancy_id\"]) == most_freq(list(filter(lambda x: x, map(get_region, row[\"vacancy_id\"]))))),\n",
    "#     axis=1\n",
    "# )\n",
    "\n",
    "def print_false_example(vacancy_ids, actions, target_vacancy_id):\n",
    "    if np.random.rand() < 0.01:\n",
    "        print(\"=-=-=-=-=-=-=-=-=\")\n",
    "        for vacancy, action in zip(vacancy_ids, actions):\n",
    "            print(get_action_name(action), vacancy)\n",
    "            pprint_vacancy(vacancy)\n",
    "            print(\"\")\n",
    "        print(\"^^^^^^^^^^^^^^^^^^^^^^^^^^\")\n",
    "        pprint_vacancy(target_vacancy_id)\n",
    "\n",
    "def most_freq_or_remote(vacancy_ids, actions, target_vacancy_id, freq_treshold):\n",
    "    vacancy_responded = list(map(\n",
    "        lambda x: x[0],\n",
    "        filter(\n",
    "            lambda x: x[1] == 1 and get_workSchedule(x[0]) == \"fullDay\",\n",
    "            zip(vacancy_ids, actions)\n",
    "        )\n",
    "    ))\n",
    "\n",
    "    work_schedules = Counter(map(get_workSchedule, vacancy_ids))\n",
    "    work_responded_schedules = Counter(map(get_workSchedule, vacancy_responded))\n",
    "    target_work_schedule = get_workSchedule(target_vacancy_id)\n",
    "\n",
    "    regions = Counter(map(get_region, vacancy_ids))\n",
    "    regions_responded = Counter(map(get_region, vacancy_responded))\n",
    "    target_region = get_region(target_vacancy_id)\n",
    "\n",
    "    \"\"\"\n",
    "        А теперь сделаем вакансии, которые не remote\n",
    "    \"\"\"\n",
    "    vacancy_ids_not_remote = filter(lambda vacancy: get_workSchedule(vacancy) not in [\"remote\", \"flyInFlyOut\"], vacancy_ids)\n",
    "    vacancy_responded_not_remote = filter(lambda vacancy: get_workSchedule(vacancy) not in [\"remote\", \"flyInFlyOut\"], map(\n",
    "        lambda x: x[0],\n",
    "        filter(\n",
    "            lambda x: x[1] == 1 and get_workSchedule(x[0]) == \"fullDay\",\n",
    "            zip(vacancy_ids, actions)\n",
    "        )\n",
    "    ))\n",
    "    regions_not_remote = Counter(map(get_region, vacancy_ids_not_remote))\n",
    "    regions_responded_not_remote = Counter(map(get_region, vacancy_responded_not_remote))\n",
    "\n",
    "    should_recommend_remote = False\n",
    "    if \"remote\" in work_schedules or \"flyInFlyOut\" in work_schedules:\n",
    "        should_recommend_remote = True\n",
    "        remote = (target_work_schedule == \"remote\") or (target_work_schedule == \"flyInFlyOut\")\n",
    "\n",
    "    # Немного даёт веса\n",
    "    # should_recommend_flex = False\n",
    "    # if \"flexible\" in work_schedules:\n",
    "    #     should_recommend_flex = True\n",
    "    #     flex = target_work_schedule == \"flexible\"\n",
    "    # or (should_recommend_flex and flex) \\\n",
    "\n",
    "    # Все регионы, на офисные вакансии которых откликнулись\n",
    "    # should_recommend_all_office_responded = False\n",
    "    # if len(regions_responded_not_remote) > 0:\n",
    "    #     should_recommend_all_office_responded = True\n",
    "    #     all_office_responded = target_region in regions_responded_not_remote\n",
    "\n",
    "    # Все офисные вакансии, на которые откликнулись\n",
    "    should_recommend_office_responded = False\n",
    "    if len(regions_responded_not_remote) > 0:\n",
    "        should_recommend_office_responded = True\n",
    "        office_responded = target_region == regions_responded_not_remote.most_common(1)[0][0]\n",
    "\n",
    "    # Все офисные вакансии\n",
    "    should_recommend_office = False\n",
    "    if len(regions_not_remote) > 0:\n",
    "        should_recommend_office = True\n",
    "        office = target_region == regions_not_remote.most_common(1)[0][0]\n",
    "\n",
    "    # Нужно ли рекомендовать москву?\n",
    "    # if target_region == \"ar_41\":\n",
    "    # should_recommend_moscow = False\n",
    "    # if \"ar_41\" in regions:\n",
    "    #     should_recommend_moscow = True\n",
    "    #     moscow = target_region == \"ar_41\"\n",
    "    # or (should_recommend_moscow and moscow) \\\n",
    "\n",
    "    #########\n",
    "    # DEBUG #\n",
    "    #########\n",
    "    ###############################################################################\n",
    "    # if should_recommend_office_responded and not office_responded and len(vacancy_ids) < 15:\n",
    "    #     print_false_example(vacancy_ids, actions, target_vacancy_id)\n",
    "    ###############################################################################\n",
    "\n",
    "    return (should_recommend_remote and remote) \\\n",
    "        or (should_recommend_office_responded and office_responded) \\\n",
    "        or (should_recommend_office and office)\n",
    "\n",
    "test[\"is_custom_area_remote_60\"] = test[[\"vacancy_id\", \"action_type\", \"target_vacancy_id\", \"items\", \"item_actions\"]].apply(\n",
    "    lambda row: int(\n",
    "        most_freq_or_remote(\n",
    "            list(row[\"vacancy_id\"]) + (list(chain(*row[\"items\"])) if isinstance(row[\"items\"], np.ndarray) else []),\n",
    "            list(row[\"action_type\"]) + (list(chain(*row[\"item_actions\"])) if isinstance(row[\"items\"], np.ndarray) else []),\n",
    "            row[\"target_vacancy_id\"],\n",
    "            30\n",
    "        )),\n",
    "    axis=1\n",
    ")\n",
    "\n",
    "test[\"is_custom_area_remote_60\"].mean()"
   ]
  },
  {
   "cell_type": "code",
   "execution_count": 20,
   "id": "d7527420-b26b-459c-9ec7-354625da2069",
   "metadata": {},
   "outputs": [
    {
     "data": {
      "text/plain": [
       "Index(['user_id', 'session_id', 'target_session_id', 'vacancy_id',\n",
       "       'action_type', 'action_dt', 'target_vacancy_id', 'items',\n",
       "       'item_actions', 'is_custom_area_remote_60'],\n",
       "      dtype='object')"
      ]
     },
     "execution_count": 20,
     "metadata": {},
     "output_type": "execute_result"
    }
   ],
   "source": [
    "test.columns"
   ]
  },
  {
   "cell_type": "code",
   "execution_count": 21,
   "id": "e5bb8d58-ef53-41df-a342-b64f5fec5eea",
   "metadata": {},
   "outputs": [],
   "source": [
    "anal = test.copy()\n",
    "\n",
    "def merge_history(current, historical):\n",
    "    if isinstance(historical, np.ndarray) or isinstance(historical, list):\n",
    "        current = list(chain(*historical)) + list(current)\n",
    "    return current\n",
    "\n",
    "get_region = lambda vacancy_id: test_vacancies[\"area.regionId\"][vacancy_id] \\\n",
    "    if vacancy_id in test_vacancies[\"area.regionId\"] else None\n",
    "get_workSchedule = lambda vacancy_id: test_vacancies[\"workSchedule\"][vacancy_id] \\\n",
    "    if vacancy_id in test_vacancies[\"workSchedule\"] else None\n",
    "\n",
    "is_remote = lambda vacancy_id: get_workSchedule(vacancy_id) in [\"remote\", \"flyInFlyOut\"]\n",
    "\n",
    "anal[\"history\"] = anal[[\"vacancy_id\", \"items\"]]\\\n",
    "    .apply(lambda row: merge_history(row[\"vacancy_id\"], row[\"items\"]), axis=1)\n",
    "anal[\"history_actions\"] = anal[[\"action_type\", \"item_actions\"]]\\\n",
    "    .apply(lambda row: merge_history(row[\"action_type\"], row[\"item_actions\"]), axis=1)"
   ]
  },
  {
   "cell_type": "code",
   "execution_count": 22,
   "id": "49e12706-4b62-49f0-8b1a-7d8215626ba6",
   "metadata": {},
   "outputs": [],
   "source": [
    "def has_remote_in_history(history):\n",
    "    return any(map(is_remote, history))\n",
    "\n",
    "def has_remote_responded_in_history(history, history_actions):\n",
    "    history = map(lambda x: x[0], filter(lambda x: x[1] == 1, zip(history, history_actions)))\n",
    "    return has_remote_in_history(history)\n",
    "\n",
    "def get_most_freq_responded_region(history, history_actions):\n",
    "    history = map(lambda x: x[0], filter(lambda x: x[1] == 1, zip(history, history_actions)))\n",
    "    counts = Counter(map(get_region, history))\n",
    "    return counts.most_common(1)[0][0] if len(counts) > 0 else \"\"\n",
    "\n",
    "def get_most_freq_region(history, history_actions):\n",
    "    counts = Counter(map(get_region, history))\n",
    "    return counts.most_common(1)[0][0] if len(counts) > 0 else \"\"\n",
    "\n",
    "anal[\"has_remote_in_history\"] = anal[\"history\"].apply(has_remote_in_history)\n",
    "anal[\"has_remote_responded_in_history\"] = anal[[\"history\", \"history_actions\"]]\\\n",
    "    .apply(lambda row: has_remote_responded_in_history(row[\"history\"], row[\"history_actions\"]), axis=1)\n",
    "anal[\"is_target_remote\"] = anal[\"target_vacancy_id\"].apply(is_remote)\n",
    "\n",
    "anal[\"is_target_region_in_history_regions\"] = anal[[\"history\", \"target_vacancy_id\"]].apply(\n",
    "    lambda row: get_region(row[\"target_vacancy_id\"]) in set(map(get_region, row[\"history\"])), axis=1\n",
    ")\n",
    "\n",
    "anal[\"target_region\"] = anal[\"target_vacancy_id\"].apply(lambda x: get_region(x) if get_region is not None else \"\")\n",
    "\n",
    "anal[\"most_freq_region\"] = anal[[\"history\", \"history_actions\"]]\\\n",
    "    .apply(lambda row: get_most_freq_region(row[\"history\"], row[\"history_actions\"]), axis=1)\n",
    "anal[\"most_freq_responded_region\"] = anal[[\"history\", \"history_actions\"]]\\\n",
    "    .apply(lambda row: get_most_freq_responded_region(row[\"history\"], row[\"history_actions\"]), axis=1)"
   ]
  },
  {
   "cell_type": "code",
   "execution_count": 31,
   "id": "e507c8f9-60cc-48c4-b2e5-2463ef338535",
   "metadata": {},
   "outputs": [
    {
     "data": {
      "text/plain": [
       "0.8986361085933791"
      ]
     },
     "execution_count": 31,
     "metadata": {},
     "output_type": "execute_result"
    }
   ],
   "source": [
    "remote_conversion = anal[anal[\"has_remote_in_history\"] == True][\"is_target_remote\"].mean()\n",
    "remote_responded_conversion = anal[anal[\"has_remote_responded_in_history\"] == True][\"is_target_remote\"].mean()\n",
    "not_remote_remote_conversion = anal[anal[\"has_remote_in_history\"] == False][\"is_target_remote\"].mean()\n",
    "is_target_region_in_history_regions = anal[\"is_target_region_in_history_regions\"].mean()\n",
    "\n",
    "is_most_freq_region = (anal[anal[\"most_freq_region\"] != \"\"][\"most_freq_region\"] ==\\\n",
    "                       anal[anal[\"most_freq_region\"] != \"\"][\"target_region\"]).mean()\n",
    "\n",
    "is_most_freq_responded_region = (anal[anal[\"most_freq_responded_region\"] != \"\"][\"most_freq_responded_region\"] ==\\\n",
    "                                 anal[anal[\"most_freq_responded_region\"] != \"\"][\"target_region\"]).mean()\n",
    "\n",
    "is_equel_most_regions = (anal[anal[\"most_freq_responded_region\"] != \"\"][\"most_freq_region\"] ==\\\n",
    "                         anal[anal[\"most_freq_responded_region\"] != \"\"][\"most_freq_responded_region\"]).mean()\n",
    "\n",
    "total_guess = anal[(anal[\"is_target_remote\"] == True) & (anal[\"has_remote_in_history\"] == True)].shape[0]\n",
    "\n",
    "tmp = anal[(anal[\"is_target_remote\"] == False) & (anal[\"most_freq_region\"] != \"\")]\n",
    "total_guess += (tmp[\"most_freq_region\"] == tmp[\"target_region\"]).sum()\n",
    "\n",
    "total_guess / anal.shape[0]"
   ]
  },
  {
   "cell_type": "code",
   "execution_count": 24,
   "id": "355ca4b5-86ca-4dc5-943e-940b65865e57",
   "metadata": {},
   "outputs": [
    {
     "name": "stdout",
     "output_type": "stream",
     "text": [
      "Если у человека был remote в истории, то вероятность того, что таргет remote 0.4184280730556126\n",
      "Если у человека был remote в откликах в истории, то вероятность того, что таргет remote 0.5288314078315101\n",
      "Если у человека не было remote в истории, то вероятность того, что таргет remote 0.07557045882064284\n",
      "Регион таргета совпадает с одним из регионов в истории 0.9088868747032673\n",
      "Регион таргета совпадает с самым популярным регионом из истории 0.7713539643489145\n",
      "Регион таргета совпадает с самым популярным регионом из истории откликов 0.7553457688808007\n",
      "Самый популярные регион из откликов совпадает с самым популярным регионом 0.8999658780709736\n"
     ]
    }
   ],
   "source": [
    "print(\"Если у человека был remote в истории, то вероятность того, что таргет remote\", remote_conversion)\n",
    "print(\"Если у человека был remote в откликах в истории, то вероятность того, что таргет remote\", remote_responded_conversion)\n",
    "print(\"Если у человека не было remote в истории, то вероятность того, что таргет remote\", not_remote_remote_conversion)\n",
    "print(\"Регион таргета совпадает с одним из регионов в истории\", is_target_region_in_history_regions)\n",
    "print(\"Регион таргета совпадает с самым популярным регионом из истории\", is_most_freq_region)\n",
    "print(\"Регион таргета совпадает с самым популярным регионом из истории откликов\", is_most_freq_responded_region)\n",
    "print(\"Самый популярные регион из откликов совпадает с самым популярным регионом\", is_equel_most_regions)"
   ]
  },
  {
   "cell_type": "code",
   "execution_count": 25,
   "id": "815bfbbf-431c-4281-b3eb-98fe22020d77",
   "metadata": {},
   "outputs": [
    {
     "data": {
      "text/plain": [
       "0.3279597738357288"
      ]
     },
     "execution_count": 25,
     "metadata": {},
     "output_type": "execute_result"
    }
   ],
   "source": [
    "anal[\"is_target_remote\"].mean()"
   ]
  },
  {
   "cell_type": "code",
   "execution_count": 26,
   "id": "e7a315b0-b06e-4e12-8630-35ce10fc2e8f",
   "metadata": {},
   "outputs": [
    {
     "data": {
      "text/plain": [
       "()"
      ]
     },
     "execution_count": 26,
     "metadata": {},
     "output_type": "execute_result"
    }
   ],
   "source": [
    "\"\"\"\n",
    "    1) Remote надо всегда предлагать? +0.006%\n",
    "    2) Flex надо всегда предлагать? +0.003%\n",
    "    3) Все регионы на вакансии которых откликнулся по fullDay +0.008%\n",
    "    5) Рекомендовать москву +0.02%\n",
    "\"\"\""
   ]
  },
  {
   "cell_type": "code",
   "execution_count": 41,
   "id": "88a4a290-b44b-43fb-aee4-3854de2f8a57",
   "metadata": {},
   "outputs": [
    {
     "data": {
      "text/plain": [
       "(2540552, array([-0.0199932 ,  0.05978687, -0.06663361], dtype=float32))"
      ]
     },
     "execution_count": 41,
     "metadata": {},
     "output_type": "execute_result"
    }
   ],
   "source": [
    "import pickle\n",
    "\n",
    "vacancies_names = pd.read_parquet(\"dumps/production/i2i/tmp_vacancies\")[\"vacancy_id\"]\n",
    "vacancy_to_idx = {a[1]: a[0] for a in enumerate(vacancies_names)}\n",
    "embeddings = pickle.load(open(\"dumps/production/i2i/tmp_vacancies_embeddings\", 'rb'))\n",
    "embeddings = embeddings / np.linalg.norm(embeddings, axis = 1, keepdims=True)\n",
    "embeddings = np.float32(embeddings)\n",
    "\n",
    "vacancy_to_idx[\"v_1817099\"], embeddings[vacancy_to_idx[\"v_1817099\"]][:3]"
   ]
  },
  {
   "cell_type": "code",
   "execution_count": 58,
   "id": "72875a8c-2dff-4ada-bf93-6859bf539141",
   "metadata": {},
   "outputs": [
    {
     "data": {
      "text/plain": [
       "1.0"
      ]
     },
     "execution_count": 58,
     "metadata": {},
     "output_type": "execute_result"
    }
   ],
   "source": [
    "def cos(u, v):\n",
    "    return np.dot(u, v) / (np.linalg.norm(u) * np.linalg.norm(v))\n",
    "\n",
    "def dot(u, v):\n",
    "    return np.dot(u, v)\n",
    "\n",
    "cos(embeddings[np.array([0, 2])].sum(axis=0) / 2, embeddings[np.array([0, 2])].sum(axis=0) / 2)"
   ]
  },
  {
   "cell_type": "code",
   "execution_count": 70,
   "id": "354647e3-cd7d-4977-b9fb-2b25f24670f8",
   "metadata": {},
   "outputs": [
    {
     "data": {
      "text/plain": [
       "count    46338.000000\n",
       "mean         0.740390\n",
       "std          0.169083\n",
       "min         -0.047915\n",
       "25%          0.637574\n",
       "50%          0.767928\n",
       "75%          0.870499\n",
       "max          1.000000\n",
       "Name: cos, dtype: float64"
      ]
     },
     "execution_count": 70,
     "metadata": {},
     "output_type": "execute_result"
    }
   ],
   "source": [
    "def foo(vacancy_id, action_type, items, item_actions, target):\n",
    "    if isinstance(items, np.ndarray) or isinstance(items, list):\n",
    "        vacancy_id = list(chain(*items)) + list(vacancy_id)\n",
    "        action_type = list(chain(*item_actions)) + list(action_type)\n",
    "\n",
    "    vacancy_id = vacancy_id[::-1]\n",
    "    action_type = action_type[::-1]\n",
    "\n",
    "    idxs = np.array(list(map(lambda vac: vacancy_to_idx[vac], vacancy_id)))\n",
    "    \n",
    "    user_embedding = embeddings[idxs[:30]].sum(axis=0)\n",
    "\n",
    "    target_embedding = embeddings[vacancy_to_idx[target]]\n",
    "\n",
    "    return cos(user_embedding, target_embedding)\n",
    "\n",
    "data = test.copy()\n",
    "data[\"cos\"] = data[[\"vacancy_id\", \"action_type\", \"items\", \"item_actions\", \"target_vacancy_id\"]].apply(\n",
    "    lambda row: foo(row[\"vacancy_id\"], row[\"action_type\"], row[\"items\"], row[\"item_actions\"], row[\"target_vacancy_id\"]), axis = 1\n",
    ")\n",
    "data[\"cos\"].describe()"
   ]
  },
  {
   "cell_type": "code",
   "execution_count": null,
   "id": "ab6007b4-3828-4067-8c9e-d7f27917500c",
   "metadata": {},
   "outputs": [],
   "source": []
  },
  {
   "cell_type": "code",
   "execution_count": null,
   "id": "f13c8e62-dbb7-48cf-9857-104d74b57e02",
   "metadata": {},
   "outputs": [],
   "source": [
    "def roundrobin(*iterables):\n",
    "    pending = len(iterables)\n",
    "    nexts = cycle(iter(it).__next__ for it in iterables)\n",
    "    while pending:\n",
    "        try:\n",
    "            for next in nexts:\n",
    "                yield next()\n",
    "        except StopIteration:\n",
    "            pending -= 1\n",
    "            nexts = cycle(islice(nexts, pending))\n",
    "\n",
    "def get_recos(n, *iterables):\n",
    "    output = []\n",
    "    for idx, vacancy_id in enumerate(roundrobin(*iterables)):\n",
    "        output.append(vacancy_id)\n",
    "\n",
    "        if len(output) == n:\n",
    "            break\n",
    "    \n",
    "    return output"
   ]
  }
 ],
 "metadata": {
  "kernelspec": {
   "display_name": "Python 3 (ipykernel)",
   "language": "python",
   "name": "python3"
  },
  "language_info": {
   "codemirror_mode": {
    "name": "ipython",
    "version": 3
   },
   "file_extension": ".py",
   "mimetype": "text/x-python",
   "name": "python",
   "nbconvert_exporter": "python",
   "pygments_lexer": "ipython3",
   "version": "3.8.18"
  }
 },
 "nbformat": 4,
 "nbformat_minor": 5
}
