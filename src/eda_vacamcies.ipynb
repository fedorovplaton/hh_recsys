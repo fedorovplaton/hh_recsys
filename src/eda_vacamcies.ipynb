{
 "cells": [
  {
   "cell_type": "code",
   "execution_count": 21,
   "id": "4000cf55-2601-480c-8633-68b9afc86aed",
   "metadata": {},
   "outputs": [],
   "source": [
    "import pandas as pd\n",
    "import polars as pl\n",
    "from itertools import chain\n",
    "from collections import Counter\n",
    "\n",
    "path = \"../data/raw/hh_recsys_vacancies.pq\"\n",
    "path_sample = \"../data/raw/hh_recsys_vacancies_50k.pq\""
   ]
  },
  {
   "cell_type": "code",
   "execution_count": 2,
   "id": "ffb04191-1917-465f-b5ce-65e517465b3b",
   "metadata": {},
   "outputs": [],
   "source": [
    "# df = pl.read_parquet(path).to_pandas()\n",
    "# df = df.sample(n=50000)\n",
    "# df.to_parquet(path_sample)"
   ]
  },
  {
   "cell_type": "code",
   "execution_count": 3,
   "id": "c0fd7a89-f75a-4fec-99d6-d840042873fc",
   "metadata": {},
   "outputs": [],
   "source": [
    "df = pd.read_parquet(path_sample)"
   ]
  },
  {
   "cell_type": "code",
   "execution_count": 4,
   "id": "6cbb1c9b-6336-4989-896b-13c545958014",
   "metadata": {},
   "outputs": [
    {
     "data": {
      "text/plain": [
       "Index(['vacancy_id', 'name', 'company.id', 'description', 'keySkills.keySkill',\n",
       "       'compensation.from', 'compensation.to', 'compensation.currencyCode',\n",
       "       'area.id', 'area.regionId', 'employment', 'workSchedule',\n",
       "       'workExperience'],\n",
       "      dtype='object')"
      ]
     },
     "execution_count": 4,
     "metadata": {},
     "output_type": "execute_result"
    }
   ],
   "source": [
    "df.columns"
   ]
  },
  {
   "cell_type": "code",
   "execution_count": 5,
   "id": "7424c3ad-8c17-4221-b704-5b304115cb0b",
   "metadata": {},
   "outputs": [
    {
     "data": {
      "text/html": [
       "<div>\n",
       "<style scoped>\n",
       "    .dataframe tbody tr th:only-of-type {\n",
       "        vertical-align: middle;\n",
       "    }\n",
       "\n",
       "    .dataframe tbody tr th {\n",
       "        vertical-align: top;\n",
       "    }\n",
       "\n",
       "    .dataframe thead th {\n",
       "        text-align: right;\n",
       "    }\n",
       "</style>\n",
       "<table border=\"1\" class=\"dataframe\">\n",
       "  <thead>\n",
       "    <tr style=\"text-align: right;\">\n",
       "      <th></th>\n",
       "      <th>vacancy_id</th>\n",
       "      <th>name</th>\n",
       "      <th>company.id</th>\n",
       "      <th>description</th>\n",
       "      <th>keySkills.keySkill</th>\n",
       "      <th>compensation.from</th>\n",
       "      <th>compensation.to</th>\n",
       "      <th>compensation.currencyCode</th>\n",
       "      <th>area.id</th>\n",
       "      <th>area.regionId</th>\n",
       "      <th>employment</th>\n",
       "      <th>workSchedule</th>\n",
       "      <th>workExperience</th>\n",
       "    </tr>\n",
       "  </thead>\n",
       "  <tbody>\n",
       "    <tr>\n",
       "      <th>1969794</th>\n",
       "      <td>v_2497305</td>\n",
       "      <td>Музыкальный руководитель</td>\n",
       "      <td>c_22687</td>\n",
       "      <td>&lt;p&gt;&lt;strong&gt;В частную школу Alta School ищем пе...</td>\n",
       "      <td>[Возрастная психология, Общая психология, Орга...</td>\n",
       "      <td>50000.0</td>\n",
       "      <td>50000.0</td>\n",
       "      <td>RUR</td>\n",
       "      <td>a_5398</td>\n",
       "      <td>ar_71</td>\n",
       "      <td>full</td>\n",
       "      <td>fullDay</td>\n",
       "      <td>between1And3</td>\n",
       "    </tr>\n",
       "    <tr>\n",
       "      <th>2134207</th>\n",
       "      <td>v_907633</td>\n",
       "      <td>Специалист по тестированию</td>\n",
       "      <td>c_33932</td>\n",
       "      <td>&lt;p&gt;&lt;strong&gt;Работа.ру&lt;/strong&gt; — один из главны...</td>\n",
       "      <td>[SQL, Проведение тестирований, Postman, Ручное...</td>\n",
       "      <td>NaN</td>\n",
       "      <td>NaN</td>\n",
       "      <td>None</td>\n",
       "      <td>a_1756</td>\n",
       "      <td>ar_41</td>\n",
       "      <td>full</td>\n",
       "      <td>remote</td>\n",
       "      <td>between1And3</td>\n",
       "    </tr>\n",
       "    <tr>\n",
       "      <th>2161741</th>\n",
       "      <td>v_1580610</td>\n",
       "      <td>Продавец-Грузчик в супермаркет Ярче (Притомски...</td>\n",
       "      <td>c_274531</td>\n",
       "      <td>&lt;p&gt;&lt;strong&gt;«Ярче!»&lt;/strong&gt; – федеральная сеть...</td>\n",
       "      <td>None</td>\n",
       "      <td>45000.0</td>\n",
       "      <td>NaN</td>\n",
       "      <td>RUR</td>\n",
       "      <td>a_4280</td>\n",
       "      <td>ar_11</td>\n",
       "      <td>full</td>\n",
       "      <td>shift</td>\n",
       "      <td>noExperience</td>\n",
       "    </tr>\n",
       "  </tbody>\n",
       "</table>\n",
       "</div>"
      ],
      "text/plain": [
       "        vacancy_id                                               name  \\\n",
       "1969794  v_2497305                           Музыкальный руководитель   \n",
       "2134207   v_907633                         Специалист по тестированию   \n",
       "2161741  v_1580610  Продавец-Грузчик в супермаркет Ярче (Притомски...   \n",
       "\n",
       "        company.id                                        description  \\\n",
       "1969794    c_22687  <p><strong>В частную школу Alta School ищем пе...   \n",
       "2134207    c_33932  <p><strong>Работа.ру</strong> — один из главны...   \n",
       "2161741   c_274531  <p><strong>«Ярче!»</strong> – федеральная сеть...   \n",
       "\n",
       "                                        keySkills.keySkill  compensation.from  \\\n",
       "1969794  [Возрастная психология, Общая психология, Орга...            50000.0   \n",
       "2134207  [SQL, Проведение тестирований, Postman, Ручное...                NaN   \n",
       "2161741                                               None            45000.0   \n",
       "\n",
       "         compensation.to compensation.currencyCode area.id area.regionId  \\\n",
       "1969794          50000.0                       RUR  a_5398         ar_71   \n",
       "2134207              NaN                      None  a_1756         ar_41   \n",
       "2161741              NaN                       RUR  a_4280         ar_11   \n",
       "\n",
       "        employment workSchedule workExperience  \n",
       "1969794       full      fullDay   between1And3  \n",
       "2134207       full       remote   between1And3  \n",
       "2161741       full        shift   noExperience  "
      ]
     },
     "execution_count": 5,
     "metadata": {},
     "output_type": "execute_result"
    }
   ],
   "source": [
    "df.head(3)"
   ]
  },
  {
   "cell_type": "code",
   "execution_count": 6,
   "id": "e95b461b-84cc-4e0b-9837-39abd007a650",
   "metadata": {},
   "outputs": [
    {
     "data": {
      "text/plain": [
       "50000"
      ]
     },
     "execution_count": 6,
     "metadata": {},
     "output_type": "execute_result"
    }
   ],
   "source": [
    "df.shape[0]"
   ]
  },
  {
   "cell_type": "code",
   "execution_count": 10,
   "id": "61f966eb-2303-4064-8bea-6cc9fcce7280",
   "metadata": {},
   "outputs": [
    {
     "name": "stdout",
     "output_type": "stream",
     "text": [
      "name\n",
      "Менеджер по продажам                                                                        383\n",
      "Кладовщик                                                                                   305\n",
      "Продавец-консультант                                                                        240\n",
      "Менеджер по работе с клиентами                                                              238\n",
      "Бухгалтер                                                                                   230\n",
      "                                                                                           ... \n",
      "Специалист по обслуживанию клиентов в чатах                                                   1\n",
      "Руководитель сектора по оптимизации и автоматизации логистических процессов                   1\n",
      "Консультант (Аналитическое управление)                                                        1\n",
      "Кондитер/помощник кондитера                                                                   1\n",
      "Node js программист, Rest API - Telegram в IT-стартап (Удаленно, \"Резиденты Астана Hub\")      1\n",
      "Name: count, Length: 31192, dtype: int64\n",
      "employment\n",
      "full         46362\n",
      "part          3101\n",
      "probation      350\n",
      "project        184\n",
      "volunteer        3\n",
      "Name: count, dtype: int64\n",
      "workSchedule\n",
      "fullDay        33346\n",
      "shift           7017\n",
      "remote          3700\n",
      "flyInFlyOut     3365\n",
      "flexible        2572\n",
      "Name: count, dtype: int64\n",
      "workExperience\n",
      "between1And3    22091\n",
      "noExperience    18473\n",
      "between3And6     8334\n",
      "moreThan6        1102\n",
      "Name: count, dtype: int64\n"
     ]
    }
   ],
   "source": [
    "for col in [\"name\", \"employment\", \"workSchedule\", \"workExperience\"]:\n",
    "    print(df[col].value_counts())"
   ]
  },
  {
   "cell_type": "code",
   "execution_count": 15,
   "id": "b02f93c5-73fd-49d1-b18f-3baecb71931a",
   "metadata": {},
   "outputs": [
    {
     "name": "stdout",
     "output_type": "stream",
     "text": [
      "vacancy_id 0\n",
      "name 0\n",
      "company.id 0\n",
      "description 0\n",
      "keySkills.keySkill 22693\n",
      "compensation.from 12125\n",
      "compensation.to 27435\n",
      "compensation.currencyCode 9368\n",
      "area.id 0\n",
      "area.regionId 405\n",
      "employment 0\n",
      "workSchedule 0\n",
      "workExperience 0\n"
     ]
    }
   ],
   "source": [
    "for col in df.columns:\n",
    "    print(col, df[col].isna().sum())"
   ]
  },
  {
   "cell_type": "code",
   "execution_count": 16,
   "id": "1990646f-311f-42c3-ad9b-2775f9e3f4ec",
   "metadata": {},
   "outputs": [
    {
     "data": {
      "text/plain": [
       "1969794    <p><strong>В частную школу Alta School ищем пе...\n",
       "Name: description, dtype: object"
      ]
     },
     "execution_count": 16,
     "metadata": {},
     "output_type": "execute_result"
    }
   ],
   "source": [
    "df[\"description\"].head(1)"
   ]
  },
  {
   "cell_type": "code",
   "execution_count": 24,
   "id": "3f35201b-dca4-4f24-a236-bb0f52ceb31c",
   "metadata": {},
   "outputs": [],
   "source": [
    "skill_counter = Counter(list(map(str.lower, chain(*df[~df[\"keySkills.keySkill\"].isna()][\"keySkills.keySkill\"].values))))"
   ]
  },
  {
   "cell_type": "code",
   "execution_count": 25,
   "id": "c75b30a6-7735-4f2e-9da2-2f8138c82812",
   "metadata": {},
   "outputs": [
    {
     "data": {
      "text/plain": [
       "11057"
      ]
     },
     "execution_count": 25,
     "metadata": {},
     "output_type": "execute_result"
    }
   ],
   "source": [
    "len(skill_counter)"
   ]
  }
 ],
 "metadata": {
  "kernelspec": {
   "display_name": "Python 3 (ipykernel)",
   "language": "python",
   "name": "python3"
  },
  "language_info": {
   "codemirror_mode": {
    "name": "ipython",
    "version": 3
   },
   "file_extension": ".py",
   "mimetype": "text/x-python",
   "name": "python",
   "nbconvert_exporter": "python",
   "pygments_lexer": "ipython3",
   "version": "3.8.18"
  }
 },
 "nbformat": 4,
 "nbformat_minor": 5
}
