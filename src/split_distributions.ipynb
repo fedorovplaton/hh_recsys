{
 "cells": [
  {
   "cell_type": "code",
   "execution_count": 23,
   "id": "377bda03-64b0-42c2-9cb3-23f52ee484e5",
   "metadata": {},
   "outputs": [],
   "source": [
    "import pandas as pd\n",
    "import polars as pl\n",
    "import numpy as np\n",
    "from itertools import chain"
   ]
  },
  {
   "cell_type": "code",
   "execution_count": 3,
   "id": "496d0106-4c82-4568-a487-36b59ea75883",
   "metadata": {},
   "outputs": [],
   "source": [
    "raw_train_path = \"../data/raw/hh_recsys_train_hh.pq\"\n",
    "raw_test_path  = \"../data/raw/hh_recsys_test_hh.pq\"\n",
    "\n",
    "train_path = \"../data/processed/train.parquet\"\n",
    "test_path = \"../data/processed/test_inference.parquet\""
   ]
  },
  {
   "cell_type": "code",
   "execution_count": 6,
   "id": "7884c372-7f48-4fde-aa98-bc8ec937ded6",
   "metadata": {},
   "outputs": [],
   "source": [
    "raw_train = pl.read_parquet(raw_train_path).to_pandas()\n",
    "raw_test = pl.read_parquet(raw_test_path).to_pandas()\n",
    "split_train = pl.read_parquet(train_path).to_pandas()\n",
    "split_test = pl.read_parquet(test_path).to_pandas()"
   ]
  },
  {
   "cell_type": "code",
   "execution_count": 32,
   "id": "c43044de-e2c2-4732-8661-57768119599d",
   "metadata": {},
   "outputs": [
    {
     "data": {
      "text/plain": [
       "Index(['user_id', 'session_id', 'target_session_id', 'vacancy_id',\n",
       "       'action_type', 'action_dt', 'target_vacancy_id', '__index_level_0__'],\n",
       "      dtype='object')"
      ]
     },
     "execution_count": 32,
     "metadata": {},
     "output_type": "execute_result"
    }
   ],
   "source": [
    "split_test.columns"
   ]
  },
  {
   "cell_type": "code",
   "execution_count": 29,
   "id": "331e91fc-5b1c-4e5f-8be8-0e1f8ab1260d",
   "metadata": {},
   "outputs": [],
   "source": [
    "def compare_train_and_test(train, test):\n",
    "    print(\"Строк в train:\", train.shape[0])\n",
    "    print(\"Строк в test:\", test.shape[0])\n",
    "    print(\"В тесте\", int(test.shape[0] / train.shape[0] * 100), \"%\")\n",
    "\n",
    "    print(\"Кол-во юзеров в train:\", len(train[\"user_id\"].unique()))\n",
    "    print(\"Кол-во юзеров в test:\", len(test[\"user_id\"].unique()))\n",
    "    print(\"В тесте\", int(len(test[\"user_id\"].unique()) / len(train[\"user_id\"].unique()) * 100), \"%\")\n",
    "\n",
    "    print(\"В тесте юзеров были в train\",\n",
    "          int(\n",
    "              len(\n",
    "                  set(test[\"user_id\"].unique())\n",
    "                  .intersection(\n",
    "                      set(train[\"user_id\"].unique()))\n",
    "              ) / \n",
    "              len(test[\"user_id\"].unique()) \n",
    "              * 100)\n",
    "         , \"%\")\n",
    "\n",
    "    print(\"Кол-во ваканский в train:\", len(set(chain(*train[\"vacancy_id\"].values))))\n",
    "    print(\"Кол-во ваканский в test:\", len(set(chain(*test[\"vacancy_id\"].values))))\n",
    "    print(\"В тесте\", int(len(set(chain(*test[\"vacancy_id\"].values))) / len(set(chain(*train[\"vacancy_id\"].values))) * 100), \"%\")\n",
    "\n",
    "    print(\"В тесте вакансий были в train\",\n",
    "          int(\n",
    "              len(\n",
    "                  set(chain(*test[\"vacancy_id\"].values))\n",
    "                  .intersection(\n",
    "                      set(chain(*train[\"vacancy_id\"].values)))\n",
    "              ) / \n",
    "              len(set(chain(*test[\"vacancy_id\"].values)))\n",
    "              * 100)\n",
    "         , \"%\")\n",
    "\n",
    "    if \"target_vacancy_id\" in test.columns:\n",
    "        targets = set(test[\"target_vacancy_id\"].unique())\n",
    "\n",
    "        print(\"Таргетов в test:\", len(targets))\n",
    "\n",
    "        print(\"В тесте таргетов были в train\",\n",
    "              int(\n",
    "                  len(\n",
    "                      targets\n",
    "                      .intersection(\n",
    "                          set(chain(*train[\"vacancy_id\"].values)))\n",
    "                  ) / \n",
    "                  len(targets)\n",
    "                  * 100)\n",
    "             , \"%\")"
   ]
  },
  {
   "cell_type": "code",
   "execution_count": 30,
   "id": "d05813d2-20d2-440c-9bb7-7d8d48d81039",
   "metadata": {},
   "outputs": [
    {
     "name": "stdout",
     "output_type": "stream",
     "text": [
      "Строк в train: 3463064\n",
      "Строк в test: 83189\n",
      "В тесте 2 %\n",
      "Кол-во юзеров в train: 882409\n",
      "Кол-во юзеров в test: 83189\n",
      "В тесте 9 %\n",
      "В тесте юзеров были в train 76 %\n",
      "Кол-во ваканский в train: 1458353\n",
      "Кол-во ваканский в test: 230688\n",
      "В тесте 15 %\n",
      "В тесте вакансий были в train 74 %\n"
     ]
    }
   ],
   "source": [
    "compare_train_and_test(raw_train, raw_test)"
   ]
  },
  {
   "cell_type": "code",
   "execution_count": 31,
   "id": "821660ff-a8ab-490d-ba6c-484641f986e1",
   "metadata": {},
   "outputs": [
    {
     "name": "stdout",
     "output_type": "stream",
     "text": [
      "Строк в train: 2237576\n",
      "Строк в test: 46338\n",
      "В тесте 2 %\n",
      "Кол-во юзеров в train: 694577\n",
      "Кол-во юзеров в test: 46338\n",
      "В тесте 6 %\n",
      "В тесте юзеров были в train 78 %\n",
      "Кол-во ваканский в train: 1165845\n",
      "Кол-во ваканский в test: 165513\n",
      "В тесте 14 %\n",
      "В тесте вакансий были в train 82 %\n"
     ]
    }
   ],
   "source": [
    "compare_train_and_test(split_train, split_test)"
   ]
  }
 ],
 "metadata": {
  "kernelspec": {
   "display_name": "Python 3 (ipykernel)",
   "language": "python",
   "name": "python3"
  },
  "language_info": {
   "codemirror_mode": {
    "name": "ipython",
    "version": 3
   },
   "file_extension": ".py",
   "mimetype": "text/x-python",
   "name": "python",
   "nbconvert_exporter": "python",
   "pygments_lexer": "ipython3",
   "version": "3.8.18"
  }
 },
 "nbformat": 4,
 "nbformat_minor": 5
}
