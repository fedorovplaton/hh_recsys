{
 "cells": [
  {
   "cell_type": "code",
   "execution_count": 1,
   "id": "e836ac10-fff2-45e6-bebc-fa65972bd74a",
   "metadata": {},
   "outputs": [],
   "source": [
    "import pandas as pd\n",
    "import polars as pl\n",
    "import numpy as np"
   ]
  },
  {
   "cell_type": "code",
   "execution_count": 2,
   "id": "aa60c813-cd16-4f76-8940-8b7ffae7556c",
   "metadata": {},
   "outputs": [],
   "source": [
    "path = \"../data/raw/hh_recsys_train_hh.pq\"\n",
    "\n",
    "train_path = \"../data/processed/train.parquet\"\n",
    "test_inference_path = \"../data/processed/test_inference.parquet\"\n",
    "val_inference_path = \"../data/processed/val_inference.parquet\""
   ]
  },
  {
   "cell_type": "code",
   "execution_count": 3,
   "id": "926abaf9-20a5-486e-9706-8fb614c0b7f6",
   "metadata": {},
   "outputs": [],
   "source": [
    "df = pl.read_parquet(path).to_pandas()"
   ]
  },
  {
   "cell_type": "code",
   "execution_count": 4,
   "id": "4ec0bca4-a5d8-42ff-8a72-c2e606de8e3a",
   "metadata": {},
   "outputs": [
    {
     "data": {
      "text/plain": [
       "Index(['user_id', 'session_id', 'vacancy_id', 'action_type', 'action_dt'], dtype='object')"
      ]
     },
     "execution_count": 4,
     "metadata": {},
     "output_type": "execute_result"
    }
   ],
   "source": [
    "df.columns"
   ]
  },
  {
   "cell_type": "code",
   "execution_count": 5,
   "id": "408c939b-d4b2-4526-b74e-37e7528e2990",
   "metadata": {},
   "outputs": [
    {
     "data": {
      "text/html": [
       "<div>\n",
       "<style scoped>\n",
       "    .dataframe tbody tr th:only-of-type {\n",
       "        vertical-align: middle;\n",
       "    }\n",
       "\n",
       "    .dataframe tbody tr th {\n",
       "        vertical-align: top;\n",
       "    }\n",
       "\n",
       "    .dataframe thead th {\n",
       "        text-align: right;\n",
       "    }\n",
       "</style>\n",
       "<table border=\"1\" class=\"dataframe\">\n",
       "  <thead>\n",
       "    <tr style=\"text-align: right;\">\n",
       "      <th></th>\n",
       "      <th>user_id</th>\n",
       "      <th>session_id</th>\n",
       "      <th>vacancy_id</th>\n",
       "      <th>action_type</th>\n",
       "      <th>action_dt</th>\n",
       "    </tr>\n",
       "  </thead>\n",
       "  <tbody>\n",
       "    <tr>\n",
       "      <th>0</th>\n",
       "      <td>u_332060</td>\n",
       "      <td>s_28301374</td>\n",
       "      <td>[v_2571684, v_488179, v_2389179, v_1393783, v_...</td>\n",
       "      <td>[2, 2, 2, 2, 2, 2, 1, 1, 2, 1, 2, 1, 2, 2, 2, ...</td>\n",
       "      <td>[2023-11-01T00:40:58.105000000, 2023-11-01T00:...</td>\n",
       "    </tr>\n",
       "    <tr>\n",
       "      <th>1</th>\n",
       "      <td>u_1057881</td>\n",
       "      <td>s_33868982</td>\n",
       "      <td>[v_665861]</td>\n",
       "      <td>[2]</td>\n",
       "      <td>[2023-11-01T00:23:51.452000000]</td>\n",
       "    </tr>\n",
       "    <tr>\n",
       "      <th>2</th>\n",
       "      <td>u_1036784</td>\n",
       "      <td>s_32474802</td>\n",
       "      <td>[v_2594840]</td>\n",
       "      <td>[2]</td>\n",
       "      <td>[2023-11-01T00:52:34.023000000]</td>\n",
       "    </tr>\n",
       "  </tbody>\n",
       "</table>\n",
       "</div>"
      ],
      "text/plain": [
       "     user_id  session_id                                         vacancy_id  \\\n",
       "0   u_332060  s_28301374  [v_2571684, v_488179, v_2389179, v_1393783, v_...   \n",
       "1  u_1057881  s_33868982                                         [v_665861]   \n",
       "2  u_1036784  s_32474802                                        [v_2594840]   \n",
       "\n",
       "                                         action_type  \\\n",
       "0  [2, 2, 2, 2, 2, 2, 1, 1, 2, 1, 2, 1, 2, 2, 2, ...   \n",
       "1                                                [2]   \n",
       "2                                                [2]   \n",
       "\n",
       "                                           action_dt  \n",
       "0  [2023-11-01T00:40:58.105000000, 2023-11-01T00:...  \n",
       "1                    [2023-11-01T00:23:51.452000000]  \n",
       "2                    [2023-11-01T00:52:34.023000000]  "
      ]
     },
     "execution_count": 5,
     "metadata": {},
     "output_type": "execute_result"
    }
   ],
   "source": [
    "df.head(3)"
   ]
  },
  {
   "cell_type": "code",
   "execution_count": 6,
   "id": "3cba14f8-1394-4343-8749-9fd005179ec7",
   "metadata": {},
   "outputs": [
    {
     "data": {
      "text/plain": [
       "2580655"
      ]
     },
     "execution_count": 6,
     "metadata": {},
     "output_type": "execute_result"
    }
   ],
   "source": [
    "df[\"user_id\"].shape[0] - df[\"user_id\"].drop_duplicates().shape[0]"
   ]
  },
  {
   "cell_type": "code",
   "execution_count": 7,
   "id": "55a9261f-ac62-4e74-b928-0cb9144d6bec",
   "metadata": {},
   "outputs": [
    {
     "data": {
      "text/plain": [
       "882409"
      ]
     },
     "execution_count": 7,
     "metadata": {},
     "output_type": "execute_result"
    }
   ],
   "source": [
    "df[\"user_id\"].drop_duplicates().shape[0]"
   ]
  },
  {
   "cell_type": "code",
   "execution_count": 8,
   "id": "f2fc5351-3d42-41b9-91fc-7ee77f044ea7",
   "metadata": {},
   "outputs": [],
   "source": [
    "def is_session_has_more_then_one_date(action_dt):    \n",
    "    dates = set(map(lambda x: np.datetime64(x, 'D'), action_dt))\n",
    "    return len(dates) > 1"
   ]
  },
  {
   "cell_type": "code",
   "execution_count": 9,
   "id": "19379ee5-31a6-4b08-a20c-35e3fa60dfe7",
   "metadata": {},
   "outputs": [],
   "source": [
    "df[\"is_session_has_more_then_one_date\"] = df[\"action_dt\"].apply(is_session_has_more_then_one_date)"
   ]
  },
  {
   "cell_type": "code",
   "execution_count": 10,
   "id": "1a825b8e-badf-4d5e-b99d-981b334c6eeb",
   "metadata": {},
   "outputs": [
    {
     "data": {
      "text/html": [
       "<div>\n",
       "<style scoped>\n",
       "    .dataframe tbody tr th:only-of-type {\n",
       "        vertical-align: middle;\n",
       "    }\n",
       "\n",
       "    .dataframe tbody tr th {\n",
       "        vertical-align: top;\n",
       "    }\n",
       "\n",
       "    .dataframe thead th {\n",
       "        text-align: right;\n",
       "    }\n",
       "</style>\n",
       "<table border=\"1\" class=\"dataframe\">\n",
       "  <thead>\n",
       "    <tr style=\"text-align: right;\">\n",
       "      <th></th>\n",
       "      <th>user_id</th>\n",
       "      <th>session_id</th>\n",
       "      <th>vacancy_id</th>\n",
       "      <th>action_type</th>\n",
       "      <th>action_dt</th>\n",
       "      <th>is_session_has_more_then_one_date</th>\n",
       "    </tr>\n",
       "  </thead>\n",
       "  <tbody>\n",
       "    <tr>\n",
       "      <th>126</th>\n",
       "      <td>u_623716</td>\n",
       "      <td>s_8070830</td>\n",
       "      <td>[v_945273, v_2467032, v_1627727, v_270293, v_1...</td>\n",
       "      <td>[2, 2, 1, 2, 1, 1, 1, 2, 2, 2, 2, 1, 1, 2, 2, ...</td>\n",
       "      <td>[2023-11-01T21:50:38.056000000, 2023-11-01T21:...</td>\n",
       "      <td>True</td>\n",
       "    </tr>\n",
       "    <tr>\n",
       "      <th>265</th>\n",
       "      <td>u_749629</td>\n",
       "      <td>s_15090787</td>\n",
       "      <td>[v_938131, v_2063968, v_2063968, v_1520585, v_...</td>\n",
       "      <td>[2, 1, 2, 2, 2, 2, 2, 1, 2, 2, 2, 2, 2, 1, 2, ...</td>\n",
       "      <td>[2023-11-02T20:59:10.336000000, 2023-11-02T20:...</td>\n",
       "      <td>True</td>\n",
       "    </tr>\n",
       "  </tbody>\n",
       "</table>\n",
       "</div>"
      ],
      "text/plain": [
       "      user_id  session_id                                         vacancy_id  \\\n",
       "126  u_623716   s_8070830  [v_945273, v_2467032, v_1627727, v_270293, v_1...   \n",
       "265  u_749629  s_15090787  [v_938131, v_2063968, v_2063968, v_1520585, v_...   \n",
       "\n",
       "                                           action_type  \\\n",
       "126  [2, 2, 1, 2, 1, 1, 1, 2, 2, 2, 2, 1, 1, 2, 2, ...   \n",
       "265  [2, 1, 2, 2, 2, 2, 2, 1, 2, 2, 2, 2, 2, 1, 2, ...   \n",
       "\n",
       "                                             action_dt  \\\n",
       "126  [2023-11-01T21:50:38.056000000, 2023-11-01T21:...   \n",
       "265  [2023-11-02T20:59:10.336000000, 2023-11-02T20:...   \n",
       "\n",
       "     is_session_has_more_then_one_date  \n",
       "126                               True  \n",
       "265                               True  "
      ]
     },
     "execution_count": 10,
     "metadata": {},
     "output_type": "execute_result"
    }
   ],
   "source": [
    "df[df[\"is_session_has_more_then_one_date\"] == True].head(2)"
   ]
  },
  {
   "cell_type": "code",
   "execution_count": 11,
   "id": "115e3097-001b-4c1f-bbe5-3921506ebd78",
   "metadata": {},
   "outputs": [
    {
     "data": {
      "text/plain": [
       "(0.4446929077833965, '%', 3463064, 15400)"
      ]
     },
     "execution_count": 11,
     "metadata": {},
     "output_type": "execute_result"
    }
   ],
   "source": [
    "df[df[\"is_session_has_more_then_one_date\"] == True].shape[0] / df.shape[0] * 100, \"%\", df.shape[0], df[df[\"is_session_has_more_then_one_date\"] == True].shape[0]"
   ]
  },
  {
   "cell_type": "code",
   "execution_count": 12,
   "id": "53c38f1c-3e84-4731-8c99-9e3a22a203eb",
   "metadata": {},
   "outputs": [],
   "source": [
    "# Пол процента сессий лежит на пересечении дат. Дропнем их, чтобы разделить на train, val, test"
   ]
  },
  {
   "cell_type": "code",
   "execution_count": 13,
   "id": "c9bd2aa0-4964-492d-98ec-07eaeab35241",
   "metadata": {},
   "outputs": [],
   "source": [
    "df = df[df[\"is_session_has_more_then_one_date\"] == False]"
   ]
  },
  {
   "cell_type": "code",
   "execution_count": 14,
   "id": "1aafa463-c851-4270-83a7-8e7ec0cbc823",
   "metadata": {},
   "outputs": [],
   "source": [
    "df[\"session_day\"] = df[\"action_dt\"].apply(\n",
    "    lambda x: int(str(x[0])[:10][-2:])\n",
    ")"
   ]
  },
  {
   "cell_type": "code",
   "execution_count": 15,
   "id": "630df156-9690-44b9-870a-655fdbf7bdee",
   "metadata": {},
   "outputs": [
    {
     "data": {
      "text/plain": [
       "array([ 1,  2,  3,  4,  5,  6,  7,  8,  9, 10, 11, 12, 13, 14])"
      ]
     },
     "execution_count": 15,
     "metadata": {},
     "output_type": "execute_result"
    }
   ],
   "source": [
    "df[\"session_day\"].unique()"
   ]
  },
  {
   "cell_type": "code",
   "execution_count": 16,
   "id": "372b8ec6-349f-4a83-bac0-b2f6f7e7632c",
   "metadata": {},
   "outputs": [],
   "source": [
    "df_train = df[df[\"session_day\"].isin([1,  2,  3,  4,  5,  6,  7,  8,  9])]\n",
    "df_test_eval = df[df[\"session_day\"].isin([10, 11, 12, 13, 14])]"
   ]
  },
  {
   "cell_type": "code",
   "execution_count": 20,
   "id": "e4c9b1b6-5cdd-4afb-bca9-882653071191",
   "metadata": {},
   "outputs": [],
   "source": [
    "def prepare_dataset_for_inference(data):\n",
    "    data = data.copy()[[\"user_id\", \"session_id\", \"vacancy_id\", \"action_type\", \"action_dt\"]]\n",
    "\n",
    "    def get_session_min_start(action_dt):\n",
    "        return str(action_dt[0])[:19]\n",
    "\n",
    "    data[\"session_min_start\"] = data[\"action_dt\"].apply(get_session_min_start)\n",
    "    data = data.sort_values(by=\"session_min_start\", ascending=True)\n",
    "    data[\"has_reaction\"] = data[\"action_type\"].apply(lambda x: 1 in x)\n",
    "\n",
    "    sessions = data[[\"user_id\", \"session_id\", \"has_reaction\"]]\n",
    "    sessions[\"session_id\"] = sessions[\"session_id\"] + \":\" + sessions[\"has_reaction\"].apply(str)\n",
    "    sessions = sessions[[\"user_id\", \"session_id\"]]\n",
    "    sessions = sessions.groupby(\"user_id\", as_index=False)[\"session_id\"].apply(list)\n",
    "    sessions = sessions[sessions[\"session_id\"].apply(len) >= 2]\n",
    "\n",
    "    def sample_2_sessions(session_ids):\n",
    "        good_target_session_idxs = []\n",
    "    \n",
    "        for idx in range(1, len(session_ids)):\n",
    "            if session_ids[idx].endswith(\"True\"):\n",
    "                good_target_session_idxs.append(idx)\n",
    "    \n",
    "        if not len(good_target_session_idxs):\n",
    "            return []\n",
    "    \n",
    "        good_target_session_num = len(good_target_session_idxs)\n",
    "\n",
    "        target_session_idx = np.random.randint(0, good_target_session_num)\n",
    "        target_session_idx = good_target_session_idxs[target_session_idx]\n",
    "\n",
    "        input_session_idx = target_session_idx - 1\n",
    "    \n",
    "        return [\n",
    "            session_ids[input_session_idx].split(\":\")[0],\n",
    "            session_ids[target_session_idx].split(\":\")[0],\n",
    "        ]\n",
    "    \n",
    "    sessions[\"data\"] = sessions[\"session_id\"].apply(sample_2_sessions)\n",
    "    sessions = sessions[sessions[\"data\"].apply(len) >= 2]\n",
    "\n",
    "    sessions = sessions[[\"user_id\", \"data\"]]\n",
    "    sessions[\"session_id\"] = sessions[\"data\"].apply(lambda x: x[0])\n",
    "    sessions[\"target_session_id\"] = sessions[\"data\"].apply(lambda x: x[1])\n",
    "    sessions = sessions[[\"user_id\", \"session_id\", \"target_session_id\"]]\n",
    "\n",
    "    input_info = data[[\"user_id\", \"session_id\", \"vacancy_id\", \"action_type\", \"action_dt\"]]\n",
    "\n",
    "    def get_first_reaction(row):\n",
    "        actions = map(\n",
    "            lambda x: (x[1], x[2]),\n",
    "            sorted(zip(row[\"action_dt\"], row[\"vacancy_id\"], row[\"action_type\"])))\n",
    "        \n",
    "        for vacancy_id, action_type in actions:\n",
    "            if action_type == 1:\n",
    "                return vacancy_id\n",
    "        return \"unknown\"\n",
    "\n",
    "    label_info = data[[\"user_id\", \"session_id\", \"vacancy_id\", \"action_type\", \"action_dt\"]]\n",
    "    label_info[\"target_vacancy_id\"] = label_info[[\"vacancy_id\", \"action_type\", \"action_dt\"]].apply(get_first_reaction, axis=1)\n",
    "    label_info = label_info[label_info[\"target_vacancy_id\"] != \"unknown\"]\n",
    "    label_info = label_info[[\"user_id\", \"session_id\", \"target_vacancy_id\"]]\n",
    "    label_info = label_info.rename(columns={\"session_id\": \"target_session_id\"})\n",
    "\n",
    "    print(sessions.shape[0])\n",
    "    dataset = pd.merge(sessions, input_info, \"inner\", [\"user_id\", \"session_id\"])\n",
    "    print(dataset.shape[0])\n",
    "    dataset = pd.merge(dataset, label_info, \"inner\", [\"user_id\", \"target_session_id\"])\n",
    "    print(dataset.shape[0])\n",
    "\n",
    "    return dataset"
   ]
  },
  {
   "cell_type": "code",
   "execution_count": 21,
   "id": "b86d4327-51a8-446b-8d9c-39a3104b2cbc",
   "metadata": {},
   "outputs": [
    {
     "name": "stderr",
     "output_type": "stream",
     "text": [
      "/var/folders/dz/7q462fh56rg95y4_6lnqmrvr0000gq/T/ipykernel_36574/3457583768.py:12: SettingWithCopyWarning: \n",
      "A value is trying to be set on a copy of a slice from a DataFrame.\n",
      "Try using .loc[row_indexer,col_indexer] = value instead\n",
      "\n",
      "See the caveats in the documentation: https://pandas.pydata.org/pandas-docs/stable/user_guide/indexing.html#returning-a-view-versus-a-copy\n",
      "  sessions[\"session_id\"] = sessions[\"session_id\"] + \":\" + sessions[\"has_reaction\"].apply(str)\n",
      "/var/folders/dz/7q462fh56rg95y4_6lnqmrvr0000gq/T/ipykernel_36574/3457583768.py:60: SettingWithCopyWarning: \n",
      "A value is trying to be set on a copy of a slice from a DataFrame.\n",
      "Try using .loc[row_indexer,col_indexer] = value instead\n",
      "\n",
      "See the caveats in the documentation: https://pandas.pydata.org/pandas-docs/stable/user_guide/indexing.html#returning-a-view-versus-a-copy\n",
      "  label_info[\"target_vacancy_id\"] = label_info[[\"vacancy_id\", \"action_type\", \"action_dt\"]].apply(get_first_reaction, axis=1)\n"
     ]
    },
    {
     "name": "stdout",
     "output_type": "stream",
     "text": [
      "92806\n",
      "92806\n",
      "92806\n"
     ]
    },
    {
     "data": {
      "text/html": [
       "<div>\n",
       "<style scoped>\n",
       "    .dataframe tbody tr th:only-of-type {\n",
       "        vertical-align: middle;\n",
       "    }\n",
       "\n",
       "    .dataframe tbody tr th {\n",
       "        vertical-align: top;\n",
       "    }\n",
       "\n",
       "    .dataframe thead th {\n",
       "        text-align: right;\n",
       "    }\n",
       "</style>\n",
       "<table border=\"1\" class=\"dataframe\">\n",
       "  <thead>\n",
       "    <tr style=\"text-align: right;\">\n",
       "      <th></th>\n",
       "      <th>user_id</th>\n",
       "      <th>session_id</th>\n",
       "      <th>target_session_id</th>\n",
       "      <th>vacancy_id</th>\n",
       "      <th>action_type</th>\n",
       "      <th>action_dt</th>\n",
       "      <th>target_vacancy_id</th>\n",
       "    </tr>\n",
       "  </thead>\n",
       "  <tbody>\n",
       "    <tr>\n",
       "      <th>0</th>\n",
       "      <td>u_1000006</td>\n",
       "      <td>s_20792345</td>\n",
       "      <td>s_24205016</td>\n",
       "      <td>[v_528266, v_1145710, v_1145710, v_521801, v_9...</td>\n",
       "      <td>[2, 2, 2, 2, 2, 2]</td>\n",
       "      <td>[2023-11-10T17:57:45.200000000, 2023-11-10T17:...</td>\n",
       "      <td>v_2252717</td>\n",
       "    </tr>\n",
       "    <tr>\n",
       "      <th>1</th>\n",
       "      <td>u_1000060</td>\n",
       "      <td>s_19856666</td>\n",
       "      <td>s_6481076</td>\n",
       "      <td>[v_1962314]</td>\n",
       "      <td>[2]</td>\n",
       "      <td>[2023-11-10T14:21:18.628000000]</td>\n",
       "      <td>v_76636</td>\n",
       "    </tr>\n",
       "  </tbody>\n",
       "</table>\n",
       "</div>"
      ],
      "text/plain": [
       "     user_id  session_id target_session_id  \\\n",
       "0  u_1000006  s_20792345        s_24205016   \n",
       "1  u_1000060  s_19856666         s_6481076   \n",
       "\n",
       "                                          vacancy_id         action_type  \\\n",
       "0  [v_528266, v_1145710, v_1145710, v_521801, v_9...  [2, 2, 2, 2, 2, 2]   \n",
       "1                                        [v_1962314]                 [2]   \n",
       "\n",
       "                                           action_dt target_vacancy_id  \n",
       "0  [2023-11-10T17:57:45.200000000, 2023-11-10T17:...         v_2252717  \n",
       "1                    [2023-11-10T14:21:18.628000000]           v_76636  "
      ]
     },
     "execution_count": 21,
     "metadata": {},
     "output_type": "execute_result"
    }
   ],
   "source": [
    "inference_dataset = prepare_dataset_for_inference(df_test_eval)\n",
    "inference_dataset.head(2)"
   ]
  },
  {
   "cell_type": "code",
   "execution_count": 22,
   "id": "d0942f7e-5552-468b-8363-4664a754c22d",
   "metadata": {},
   "outputs": [
    {
     "data": {
      "text/plain": [
       "92806"
      ]
     },
     "execution_count": 22,
     "metadata": {},
     "output_type": "execute_result"
    }
   ],
   "source": [
    "inference_dataset.shape[0]"
   ]
  },
  {
   "cell_type": "code",
   "execution_count": 23,
   "id": "213bbec5-3d34-466e-be3f-08e34f8dcca3",
   "metadata": {},
   "outputs": [],
   "source": [
    "import hashlib\n",
    "\n",
    "def split_by_col(df, col, random_state):\n",
    "    def is_test(value):\n",
    "        return (int(hashlib.md5(value.encode(\"utf-8\")).hexdigest(), 16) + random_state) % 2\n",
    "\n",
    "    df[\"__is_test\"] = df[col].apply(is_test)\n",
    "\n",
    "    test_dataset = df[df[\"__is_test\"] == 1].drop(columns=[\"__is_test\"])\n",
    "    val_dataset = df[df[\"__is_test\"] == 0].drop(columns=[\"__is_test\"])\n",
    "\n",
    "    return test_dataset, val_dataset"
   ]
  },
  {
   "cell_type": "code",
   "execution_count": 24,
   "id": "824b3900-e6b0-4873-bf7c-133ab35570f3",
   "metadata": {},
   "outputs": [
    {
     "data": {
      "text/plain": [
       "(46338, 46468)"
      ]
     },
     "execution_count": 24,
     "metadata": {},
     "output_type": "execute_result"
    }
   ],
   "source": [
    "test_inference_dataset, val_inference_dataset = split_by_col(inference_dataset, \"user_id\", 137137)\n",
    "test_inference_dataset.shape[0], val_inference_dataset.shape[0]"
   ]
  },
  {
   "cell_type": "code",
   "execution_count": 25,
   "id": "9b23fc1e-e076-47be-b43c-d9c6b7de833f",
   "metadata": {},
   "outputs": [],
   "source": [
    "df_train.to_parquet(train_path)\n",
    "test_inference_dataset.to_parquet(test_inference_path)\n",
    "val_inference_dataset.to_parquet(val_inference_path)"
   ]
  },
  {
   "cell_type": "code",
   "execution_count": 26,
   "id": "e11eaa71-b734-41a6-be27-d247ed1fbdaf",
   "metadata": {},
   "outputs": [
    {
     "data": {
      "text/html": [
       "<div>\n",
       "<style scoped>\n",
       "    .dataframe tbody tr th:only-of-type {\n",
       "        vertical-align: middle;\n",
       "    }\n",
       "\n",
       "    .dataframe tbody tr th {\n",
       "        vertical-align: top;\n",
       "    }\n",
       "\n",
       "    .dataframe thead th {\n",
       "        text-align: right;\n",
       "    }\n",
       "</style>\n",
       "<table border=\"1\" class=\"dataframe\">\n",
       "  <thead>\n",
       "    <tr style=\"text-align: right;\">\n",
       "      <th></th>\n",
       "      <th>user_id</th>\n",
       "      <th>session_id</th>\n",
       "      <th>vacancy_id</th>\n",
       "      <th>action_type</th>\n",
       "      <th>action_dt</th>\n",
       "      <th>is_session_has_more_then_one_date</th>\n",
       "      <th>session_day</th>\n",
       "    </tr>\n",
       "  </thead>\n",
       "  <tbody>\n",
       "    <tr>\n",
       "      <th>0</th>\n",
       "      <td>u_332060</td>\n",
       "      <td>s_28301374</td>\n",
       "      <td>[v_2571684, v_488179, v_2389179, v_1393783, v_...</td>\n",
       "      <td>[2, 2, 2, 2, 2, 2, 1, 1, 2, 1, 2, 1, 2, 2, 2, ...</td>\n",
       "      <td>[2023-11-01T00:40:58.105000000, 2023-11-01T00:...</td>\n",
       "      <td>False</td>\n",
       "      <td>1</td>\n",
       "    </tr>\n",
       "    <tr>\n",
       "      <th>1</th>\n",
       "      <td>u_1057881</td>\n",
       "      <td>s_33868982</td>\n",
       "      <td>[v_665861]</td>\n",
       "      <td>[2]</td>\n",
       "      <td>[2023-11-01T00:23:51.452000000]</td>\n",
       "      <td>False</td>\n",
       "      <td>1</td>\n",
       "    </tr>\n",
       "    <tr>\n",
       "      <th>2</th>\n",
       "      <td>u_1036784</td>\n",
       "      <td>s_32474802</td>\n",
       "      <td>[v_2594840]</td>\n",
       "      <td>[2]</td>\n",
       "      <td>[2023-11-01T00:52:34.023000000]</td>\n",
       "      <td>False</td>\n",
       "      <td>1</td>\n",
       "    </tr>\n",
       "    <tr>\n",
       "      <th>3</th>\n",
       "      <td>u_786220</td>\n",
       "      <td>s_14060785</td>\n",
       "      <td>[v_1473781, v_1622905, v_1621959, v_2289180, v...</td>\n",
       "      <td>[1, 2, 2, 2, 2, 2, 2, 2, 2, 2, 2, 3, 2, 3, 2, ...</td>\n",
       "      <td>[2023-11-01T00:58:20.793000000, 2023-11-01T01:...</td>\n",
       "      <td>False</td>\n",
       "      <td>1</td>\n",
       "    </tr>\n",
       "    <tr>\n",
       "      <th>4</th>\n",
       "      <td>u_639152</td>\n",
       "      <td>s_23205986</td>\n",
       "      <td>[v_695738, v_22433, v_1590524, v_502496, v_200...</td>\n",
       "      <td>[2, 1, 2, 2, 2, 2, 2, 2, 2, 2, 2, 2, 1, 1, 2, ...</td>\n",
       "      <td>[2023-11-01T01:14:20.828000000, 2023-11-01T00:...</td>\n",
       "      <td>False</td>\n",
       "      <td>1</td>\n",
       "    </tr>\n",
       "    <tr>\n",
       "      <th>5</th>\n",
       "      <td>u_456512</td>\n",
       "      <td>s_6053713</td>\n",
       "      <td>[v_2267837, v_1724756, v_990702]</td>\n",
       "      <td>[2, 2, 2]</td>\n",
       "      <td>[2023-11-01T01:37:09.157000000, 2023-11-01T01:...</td>\n",
       "      <td>False</td>\n",
       "      <td>1</td>\n",
       "    </tr>\n",
       "    <tr>\n",
       "      <th>6</th>\n",
       "      <td>u_584261</td>\n",
       "      <td>s_11620144</td>\n",
       "      <td>[v_902380, v_1488750, v_574794, v_212567, v_84...</td>\n",
       "      <td>[2, 2, 2, 2, 2]</td>\n",
       "      <td>[2023-11-01T01:09:49.508000000, 2023-11-01T01:...</td>\n",
       "      <td>False</td>\n",
       "      <td>1</td>\n",
       "    </tr>\n",
       "    <tr>\n",
       "      <th>7</th>\n",
       "      <td>u_733524</td>\n",
       "      <td>s_13468241</td>\n",
       "      <td>[v_1460424, v_996518, v_505107, v_2638088, v_2...</td>\n",
       "      <td>[2, 2, 2, 2, 2, 2, 1, 2, 2, 2, 1, 2, 2, 2, 2, ...</td>\n",
       "      <td>[2023-11-01T02:12:43.970000000, 2023-11-01T02:...</td>\n",
       "      <td>False</td>\n",
       "      <td>1</td>\n",
       "    </tr>\n",
       "    <tr>\n",
       "      <th>8</th>\n",
       "      <td>u_1114237</td>\n",
       "      <td>s_23351853</td>\n",
       "      <td>[v_695101, v_154777]</td>\n",
       "      <td>[2, 2]</td>\n",
       "      <td>[2023-11-01T04:18:48.790000000, 2023-11-01T04:...</td>\n",
       "      <td>False</td>\n",
       "      <td>1</td>\n",
       "    </tr>\n",
       "    <tr>\n",
       "      <th>9</th>\n",
       "      <td>u_407319</td>\n",
       "      <td>s_23566251</td>\n",
       "      <td>[v_268677, v_692096, v_1928237, v_2578812, v_1...</td>\n",
       "      <td>[2, 2, 2, 2, 2, 2, 2, 2, 2, 1, 2, 2, 2, 2, 2, 2]</td>\n",
       "      <td>[2023-11-01T04:56:41.605000000, 2023-11-01T04:...</td>\n",
       "      <td>False</td>\n",
       "      <td>1</td>\n",
       "    </tr>\n",
       "  </tbody>\n",
       "</table>\n",
       "</div>"
      ],
      "text/plain": [
       "     user_id  session_id                                         vacancy_id  \\\n",
       "0   u_332060  s_28301374  [v_2571684, v_488179, v_2389179, v_1393783, v_...   \n",
       "1  u_1057881  s_33868982                                         [v_665861]   \n",
       "2  u_1036784  s_32474802                                        [v_2594840]   \n",
       "3   u_786220  s_14060785  [v_1473781, v_1622905, v_1621959, v_2289180, v...   \n",
       "4   u_639152  s_23205986  [v_695738, v_22433, v_1590524, v_502496, v_200...   \n",
       "5   u_456512   s_6053713                   [v_2267837, v_1724756, v_990702]   \n",
       "6   u_584261  s_11620144  [v_902380, v_1488750, v_574794, v_212567, v_84...   \n",
       "7   u_733524  s_13468241  [v_1460424, v_996518, v_505107, v_2638088, v_2...   \n",
       "8  u_1114237  s_23351853                               [v_695101, v_154777]   \n",
       "9   u_407319  s_23566251  [v_268677, v_692096, v_1928237, v_2578812, v_1...   \n",
       "\n",
       "                                         action_type  \\\n",
       "0  [2, 2, 2, 2, 2, 2, 1, 1, 2, 1, 2, 1, 2, 2, 2, ...   \n",
       "1                                                [2]   \n",
       "2                                                [2]   \n",
       "3  [1, 2, 2, 2, 2, 2, 2, 2, 2, 2, 2, 3, 2, 3, 2, ...   \n",
       "4  [2, 1, 2, 2, 2, 2, 2, 2, 2, 2, 2, 2, 1, 1, 2, ...   \n",
       "5                                          [2, 2, 2]   \n",
       "6                                    [2, 2, 2, 2, 2]   \n",
       "7  [2, 2, 2, 2, 2, 2, 1, 2, 2, 2, 1, 2, 2, 2, 2, ...   \n",
       "8                                             [2, 2]   \n",
       "9   [2, 2, 2, 2, 2, 2, 2, 2, 2, 1, 2, 2, 2, 2, 2, 2]   \n",
       "\n",
       "                                           action_dt  \\\n",
       "0  [2023-11-01T00:40:58.105000000, 2023-11-01T00:...   \n",
       "1                    [2023-11-01T00:23:51.452000000]   \n",
       "2                    [2023-11-01T00:52:34.023000000]   \n",
       "3  [2023-11-01T00:58:20.793000000, 2023-11-01T01:...   \n",
       "4  [2023-11-01T01:14:20.828000000, 2023-11-01T00:...   \n",
       "5  [2023-11-01T01:37:09.157000000, 2023-11-01T01:...   \n",
       "6  [2023-11-01T01:09:49.508000000, 2023-11-01T01:...   \n",
       "7  [2023-11-01T02:12:43.970000000, 2023-11-01T02:...   \n",
       "8  [2023-11-01T04:18:48.790000000, 2023-11-01T04:...   \n",
       "9  [2023-11-01T04:56:41.605000000, 2023-11-01T04:...   \n",
       "\n",
       "   is_session_has_more_then_one_date  session_day  \n",
       "0                              False            1  \n",
       "1                              False            1  \n",
       "2                              False            1  \n",
       "3                              False            1  \n",
       "4                              False            1  \n",
       "5                              False            1  \n",
       "6                              False            1  \n",
       "7                              False            1  \n",
       "8                              False            1  \n",
       "9                              False            1  "
      ]
     },
     "execution_count": 26,
     "metadata": {},
     "output_type": "execute_result"
    }
   ],
   "source": [
    "df_train.head(10)"
   ]
  }
 ],
 "metadata": {
  "kernelspec": {
   "display_name": "Python 3 (ipykernel)",
   "language": "python",
   "name": "python3"
  },
  "language_info": {
   "codemirror_mode": {
    "name": "ipython",
    "version": 3
   },
   "file_extension": ".py",
   "mimetype": "text/x-python",
   "name": "python",
   "nbconvert_exporter": "python",
   "pygments_lexer": "ipython3",
   "version": "3.8.18"
  }
 },
 "nbformat": 4,
 "nbformat_minor": 5
}
