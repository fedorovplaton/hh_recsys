{
 "cells": [
  {
   "cell_type": "code",
   "execution_count": 1,
   "id": "e8cb1200-9378-4e46-af21-1b8829b82916",
   "metadata": {},
   "outputs": [],
   "source": [
    "import pandas as pd\n",
    "import polars as pl\n",
    "\n",
    "\n",
    "path = \"../data/raw/hh_recsys_test_hh.pq\""
   ]
  },
  {
   "cell_type": "code",
   "execution_count": 2,
   "id": "fb02dfbd-cf92-4613-a090-3a65ecf66fa7",
   "metadata": {},
   "outputs": [],
   "source": [
    "df = pl.read_parquet(path).to_pandas()"
   ]
  },
  {
   "cell_type": "code",
   "execution_count": 3,
   "id": "98c5199a-d337-4d70-94b0-3c6ffafbb30f",
   "metadata": {},
   "outputs": [
    {
     "data": {
      "text/plain": [
       "Index(['user_id', 'session_id', 'vacancy_id', 'action_type', 'action_dt'], dtype='object')"
      ]
     },
     "execution_count": 3,
     "metadata": {},
     "output_type": "execute_result"
    }
   ],
   "source": [
    "df.columns"
   ]
  },
  {
   "cell_type": "code",
   "execution_count": 4,
   "id": "3ff8e1d7-0d20-4f30-b19a-1caa6925a38c",
   "metadata": {},
   "outputs": [
    {
     "data": {
      "text/html": [
       "<div>\n",
       "<style scoped>\n",
       "    .dataframe tbody tr th:only-of-type {\n",
       "        vertical-align: middle;\n",
       "    }\n",
       "\n",
       "    .dataframe tbody tr th {\n",
       "        vertical-align: top;\n",
       "    }\n",
       "\n",
       "    .dataframe thead th {\n",
       "        text-align: right;\n",
       "    }\n",
       "</style>\n",
       "<table border=\"1\" class=\"dataframe\">\n",
       "  <thead>\n",
       "    <tr style=\"text-align: right;\">\n",
       "      <th></th>\n",
       "      <th>user_id</th>\n",
       "      <th>session_id</th>\n",
       "      <th>vacancy_id</th>\n",
       "      <th>action_type</th>\n",
       "      <th>action_dt</th>\n",
       "    </tr>\n",
       "  </thead>\n",
       "  <tbody>\n",
       "    <tr>\n",
       "      <th>0</th>\n",
       "      <td>u_482520</td>\n",
       "      <td>s_25018731</td>\n",
       "      <td>[v_2597196, v_1223061, v_1223061]</td>\n",
       "      <td>[2, 2, 1]</td>\n",
       "      <td>[2023-11-19T12:03:13.089000000, 2023-11-19T12:...</td>\n",
       "    </tr>\n",
       "    <tr>\n",
       "      <th>1</th>\n",
       "      <td>u_582132</td>\n",
       "      <td>s_481216</td>\n",
       "      <td>[v_470400, v_470400, v_1530783]</td>\n",
       "      <td>[2, 1, 2]</td>\n",
       "      <td>[2023-11-21T15:39:47.981000000, 2023-11-21T15:...</td>\n",
       "    </tr>\n",
       "    <tr>\n",
       "      <th>2</th>\n",
       "      <td>u_212584</td>\n",
       "      <td>s_16918781</td>\n",
       "      <td>[v_1572055, v_1572055, v_1572055, v_953153, v_...</td>\n",
       "      <td>[2, 3, 2, 2, 1, 2, 2, 1, 2, 1, 2, 1]</td>\n",
       "      <td>[2023-11-16T08:41:47.031000000, 2023-11-16T08:...</td>\n",
       "    </tr>\n",
       "    <tr>\n",
       "      <th>3</th>\n",
       "      <td>u_425177</td>\n",
       "      <td>s_17505104</td>\n",
       "      <td>[v_1375331, v_1922852]</td>\n",
       "      <td>[2, 2]</td>\n",
       "      <td>[2023-11-17T12:42:18.513000000, 2023-11-17T12:...</td>\n",
       "    </tr>\n",
       "    <tr>\n",
       "      <th>4</th>\n",
       "      <td>u_700997</td>\n",
       "      <td>s_15528830</td>\n",
       "      <td>[v_2152997, v_2152997, v_1217630]</td>\n",
       "      <td>[2, 1, 2]</td>\n",
       "      <td>[2023-11-16T17:22:53.530000000, 2023-11-16T17:...</td>\n",
       "    </tr>\n",
       "  </tbody>\n",
       "</table>\n",
       "</div>"
      ],
      "text/plain": [
       "    user_id  session_id                                         vacancy_id  \\\n",
       "0  u_482520  s_25018731                  [v_2597196, v_1223061, v_1223061]   \n",
       "1  u_582132    s_481216                    [v_470400, v_470400, v_1530783]   \n",
       "2  u_212584  s_16918781  [v_1572055, v_1572055, v_1572055, v_953153, v_...   \n",
       "3  u_425177  s_17505104                             [v_1375331, v_1922852]   \n",
       "4  u_700997  s_15528830                  [v_2152997, v_2152997, v_1217630]   \n",
       "\n",
       "                            action_type  \\\n",
       "0                             [2, 2, 1]   \n",
       "1                             [2, 1, 2]   \n",
       "2  [2, 3, 2, 2, 1, 2, 2, 1, 2, 1, 2, 1]   \n",
       "3                                [2, 2]   \n",
       "4                             [2, 1, 2]   \n",
       "\n",
       "                                           action_dt  \n",
       "0  [2023-11-19T12:03:13.089000000, 2023-11-19T12:...  \n",
       "1  [2023-11-21T15:39:47.981000000, 2023-11-21T15:...  \n",
       "2  [2023-11-16T08:41:47.031000000, 2023-11-16T08:...  \n",
       "3  [2023-11-17T12:42:18.513000000, 2023-11-17T12:...  \n",
       "4  [2023-11-16T17:22:53.530000000, 2023-11-16T17:...  "
      ]
     },
     "execution_count": 4,
     "metadata": {},
     "output_type": "execute_result"
    }
   ],
   "source": [
    "df.head(5)"
   ]
  },
  {
   "cell_type": "code",
   "execution_count": null,
   "id": "69341daf-48c5-4982-8577-2a113decee6e",
   "metadata": {},
   "outputs": [],
   "source": []
  },
  {
   "cell_type": "code",
   "execution_count": 5,
   "id": "17d6132f-8f96-485e-989e-403c94b1e1c6",
   "metadata": {},
   "outputs": [
    {
     "data": {
      "text/plain": [
       "0"
      ]
     },
     "execution_count": 5,
     "metadata": {},
     "output_type": "execute_result"
    }
   ],
   "source": [
    "df[\"user_id\"].shape[0] - df[\"user_id\"].drop_duplicates().shape[0]"
   ]
  },
  {
   "cell_type": "code",
   "execution_count": 6,
   "id": "18eb9d38-92d6-453c-801d-46964bef7ace",
   "metadata": {},
   "outputs": [
    {
     "data": {
      "text/plain": [
       "83189"
      ]
     },
     "execution_count": 6,
     "metadata": {},
     "output_type": "execute_result"
    }
   ],
   "source": [
    "df[\"user_id\"].drop_duplicates().shape[0]"
   ]
  },
  {
   "cell_type": "code",
   "execution_count": 7,
   "id": "df818e7d-e560-4551-a1a2-f7b2ab0583fd",
   "metadata": {},
   "outputs": [
    {
     "data": {
      "text/plain": [
       "action_dt\n",
       "2023-11-20    110388\n",
       "2023-11-21    107022\n",
       "2023-11-16     91042\n",
       "2023-11-15     86651\n",
       "2023-11-17     75059\n",
       "2023-11-19     41569\n",
       "2023-11-18     35911\n",
       "Name: count, dtype: int64"
      ]
     },
     "execution_count": 7,
     "metadata": {},
     "output_type": "execute_result"
    }
   ],
   "source": [
    "df[\"action_dt\"].explode().map(lambda x: x.date()).value_counts()"
   ]
  }
 ],
 "metadata": {
  "kernelspec": {
   "display_name": "Python 3 (ipykernel)",
   "language": "python",
   "name": "python3"
  },
  "language_info": {
   "codemirror_mode": {
    "name": "ipython",
    "version": 3
   },
   "file_extension": ".py",
   "mimetype": "text/x-python",
   "name": "python",
   "nbconvert_exporter": "python",
   "pygments_lexer": "ipython3",
   "version": "3.8.18"
  }
 },
 "nbformat": 4,
 "nbformat_minor": 5
}
