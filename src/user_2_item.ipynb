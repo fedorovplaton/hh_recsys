{
 "cells": [
  {
   "cell_type": "code",
   "execution_count": 1,
   "id": "bd52b4de-694d-405b-86b4-bc503ee1fdb3",
   "metadata": {},
   "outputs": [],
   "source": [
    "import pandas as pd\n",
    "import faiss  \n",
    "import numpy as np\n",
    "import gc\n",
    "import pickle\n",
    "import os\n",
    "from tqdm import tqdm\n",
    "from itertools import chain\n",
    "from os.path import join as path_join\n",
    "from sklearn.decomposition import PCA"
   ]
  },
  {
   "cell_type": "code",
   "execution_count": 2,
   "id": "a40fc703-f481-4c00-b3fa-d4d74a471fb0",
   "metadata": {},
   "outputs": [],
   "source": [
    "item_embeddings_path = \"dumps/production/i2i/tmp_vacancies_embeddings\"\n",
    "vacancies_path = \"dumps/production/i2i/tmp_vacancies\"\n",
    "test_data_path = \"../data/processed/test_inference.parquet\"\n",
    "user_history_data_path = \"dumps/user_history/history_data.parquet\"\n",
    "\n",
    "item_embeddings_path_2 = \"dumps/production/i2i/name_area/embeddings.pickle\"\n",
    "vacancies_path_2 = \"dumps/production/i2i/name_area/vacancies.parquet\""
   ]
  },
  {
   "cell_type": "code",
   "execution_count": 7,
   "id": "71425e7e-d8ce-4733-a9ca-dc148e80354d",
   "metadata": {},
   "outputs": [],
   "source": [
    "def load_embeddings(path):\n",
    "    embeddings = pickle.load(open(path, 'rb'))\n",
    "    embeddings = embeddings / np.linalg.norm(embeddings, axis = 1, keepdims=True)\n",
    "    embeddings = np.float32(embeddings)\n",
    "\n",
    "    pca = PCA(n_components=32)\n",
    "\n",
    "    print(\"Fit PCA\")\n",
    "    pca.fit(embeddings[np.random.choice(len(embeddings), 50000, replace=False)])\n",
    "\n",
    "    print(\"Transform PCA\")\n",
    "    embeddings = pca.transform(embeddings)\n",
    "\n",
    "    print(\"Normalize PCA\")\n",
    "    embeddings = embeddings / np.linalg.norm(embeddings, axis = 1, keepdims=True)\n",
    "\n",
    "    return embeddings\n",
    "\n",
    "def load_item_2_idx(path):\n",
    "    vacancies = pd.read_parquet(path)[\"vacancy_id\"]\n",
    "    return {a[1]: a[0] for a in enumerate(vacancies)}\n",
    "\n",
    "def load_idx_2_item(path):\n",
    "    vacancies = pd.read_parquet(path)[\"vacancy_id\"]\n",
    "    return {a[0]: a[1] for a in enumerate(vacancies)}\n",
    "\n",
    "def load_test(test_data_path, user_history_data_path):\n",
    "    test  = pd.read_parquet(test_data_path)\n",
    "    user_history_data = pd.read_parquet(user_history_data_path)\n",
    "    test = test.merge(user_history_data, \"left\", \"user_id\")\n",
    "    return test\n",
    "\n",
    "def load_vacancy_2_name(path):\n",
    "    vacancies = pd.read_parquet(path)\n",
    "    vacancy_ids = vacancies[\"vacancy_id\"].to_list()\n",
    "    names = vacancies[\"name\"].to_list()\n",
    "    \n",
    "    return {x[0]: x[1] for x in zip(vacancy_ids, names)}\n",
    "\n",
    "def load_vacancy_2_name_2(path):\n",
    "    vacancies = pd.read_parquet(path)\n",
    "    vacancy_ids = vacancies[\"vacancy_id\"].to_list()\n",
    "    names = vacancies[\"text\"].to_list()\n",
    "    \n",
    "    return {x[0]: x[1] for x in zip(vacancy_ids, names)}"
   ]
  },
  {
   "cell_type": "code",
   "execution_count": 16,
   "id": "6559f13f-975e-46fa-a789-61ad952a0ddd",
   "metadata": {},
   "outputs": [],
   "source": [
    "def get_user_embedding(vacancy_id, items, embeddings, item_2_idx):\n",
    "    if isinstance(items, np.ndarray) or isinstance(items, list):\n",
    "        history = list(chain(*items)) + list(vacancy_id)\n",
    "    else:\n",
    "        history = list(vacancy_id)\n",
    "\n",
    "    history = filter(lambda x: x in item_2_idx, history)\n",
    "    idxs = np.array(list(map(lambda vac: item_2_idx[vac], history)))\n",
    "\n",
    "    if len(idxs) == 0:\n",
    "        return np.zeros(32)\n",
    "    \n",
    "    user_embedding = embeddings[idxs].sum(axis=0)\n",
    "    user_embedding = user_embedding / np.linalg.norm(user_embedding)\n",
    "\n",
    "    return user_embedding"
   ]
  },
  {
   "cell_type": "code",
   "execution_count": 14,
   "id": "bed3fbcb-8daf-4b6b-8ec7-aed73477239a",
   "metadata": {},
   "outputs": [],
   "source": [
    "def get_hnsw(embeddings):\n",
    "    index = faiss.IndexHNSWFlat(embeddings[0].shape[0], 32, faiss.METRIC_INNER_PRODUCT)\n",
    "    # index = faiss.IndexFlatIP(embeddings[0].shape[0])\n",
    "    index.add(embeddings)\n",
    "    return index"
   ]
  },
  {
   "cell_type": "code",
   "execution_count": 11,
   "id": "d9e23a2b-3c9b-4eef-9cb3-e140756c23c8",
   "metadata": {},
   "outputs": [
    {
     "name": "stdout",
     "output_type": "stream",
     "text": [
      "Fit PCA\n",
      "Transform PCA\n",
      "Normalize PCA\n"
     ]
    }
   ],
   "source": [
    "embeddings = load_embeddings(item_embeddings_path_2)\n",
    "item_2_idx = load_item_2_idx(vacancies_path_2)\n",
    "idx_2_item = load_idx_2_item(vacancies_path_2)\n",
    "test       = load_test(test_data_path, user_history_data_path)"
   ]
  },
  {
   "cell_type": "code",
   "execution_count": 12,
   "id": "215cc0ed-3b6c-4d6a-b18c-c9127b365966",
   "metadata": {},
   "outputs": [],
   "source": [
    "vacancy_2_name = load_vacancy_2_name_2(vacancies_path_2)"
   ]
  },
  {
   "cell_type": "code",
   "execution_count": 17,
   "id": "dce3857e-7928-4bdc-b9a7-657da51c3c73",
   "metadata": {},
   "outputs": [
    {
     "name": "stderr",
     "output_type": "stream",
     "text": [
      "100%|██████████████████████████████████████████████████████████████████████████████████████████████████████████████████████████████████████████████████████████████████████████████████████| 46338/46338 [00:06<00:00, 7543.98it/s]\n"
     ]
    }
   ],
   "source": [
    "user_embeddings = []\n",
    "\n",
    "for row_idx, row in tqdm(test[[\"vacancy_id\", \"items\"]].iterrows(), total=test.shape[0]):\n",
    "    user_embeddings.append(get_user_embedding(row[\"vacancy_id\"], row[\"items\"], embeddings, item_2_idx))\n",
    "\n",
    "user_embeddings = np.float32(np.array(user_embeddings))"
   ]
  },
  {
   "cell_type": "code",
   "execution_count": 18,
   "id": "dc12de2a-b9f6-4212-9130-2059c4267018",
   "metadata": {},
   "outputs": [
    {
     "data": {
      "text/plain": [
       "((46338, 32), 0.64761674)"
      ]
     },
     "execution_count": 18,
     "metadata": {},
     "output_type": "execute_result"
    }
   ],
   "source": [
    "user_embeddings.shape, user_embeddings[0][0]"
   ]
  },
  {
   "cell_type": "code",
   "execution_count": 19,
   "id": "bcccbe8d-2ea4-4e7c-b7b6-944305f96107",
   "metadata": {},
   "outputs": [],
   "source": [
    "hnsw = get_hnsw(embeddings)"
   ]
  },
  {
   "cell_type": "code",
   "execution_count": 20,
   "id": "6f36cb05-67d4-452a-acd3-bf3a5a7a58f0",
   "metadata": {},
   "outputs": [],
   "source": [
    "D, I = hnsw.search(user_embeddings, 100)"
   ]
  },
  {
   "cell_type": "code",
   "execution_count": 23,
   "id": "784133fb-dd91-40ae-a418-179e84cf61ed",
   "metadata": {},
   "outputs": [
    {
     "data": {
      "text/plain": [
       "0     [v_1154508, v_2259119, v_1217003, v_2220490, v...\n",
       "1     [v_1338343, v_2592979, v_337738, v_1737143, v_...\n",
       "2     [v_170245, v_2477330, v_1742213, v_2163813, v_...\n",
       "3     [v_1654097, v_927154, v_1757740, v_1466506, v_...\n",
       "4     [v_2720047, v_1972973, v_387656, v_2416727, v_...\n",
       "5     [v_610874, v_1368009, v_1387169, v_1138043, v_...\n",
       "6     [v_1054977, v_2713977, v_1273431, v_343861, v_...\n",
       "7     [v_2595366, v_1695596, v_1851768, v_2137777, v...\n",
       "8     [v_1698479, v_2229346, v_2624185, v_2477864, v...\n",
       "9     [v_2224208, v_2555629, v_1012743, v_2652157, v...\n",
       "10    [v_2062023, v_2432149, v_19987, v_691447, v_14...\n",
       "11    [v_2611142, v_1417845, v_2332498, v_2728754, v...\n",
       "12    [v_583813, v_2363449, v_938678, v_1869347, v_8...\n",
       "13    [v_2702905, v_2136207, v_797148, v_2489991, v_...\n",
       "14    [v_2019636, v_692107, v_41464, v_2054227, v_26...\n",
       "15    [v_1304345, v_1682733, v_490183, v_1467479, v_...\n",
       "16    [v_1654097, v_927154, v_1757740, v_1466506, v_...\n",
       "17    [v_33827, v_1434952, v_1196587, v_2658462, v_4...\n",
       "18    [v_361939, v_2116964, v_2491019, v_2583201, v_...\n",
       "19    [v_2450969, v_1131310, v_2440527, v_1450696, v...\n",
       "20    [v_1441530, v_250920, v_1025345, v_595186, v_1...\n",
       "21    [v_802108, v_1129593, v_106575, v_1834040, v_2...\n",
       "22    [v_254020, v_2299230, v_16866, v_21593, v_1015...\n",
       "23    [v_545930, v_1733605, v_156438, v_1867227, v_2...\n",
       "24    [v_721376, v_1868437, v_2128467, v_577333, v_1...\n",
       "25    [v_2641322, v_611958, v_2637268, v_412828, v_5...\n",
       "26    [v_441197, v_632709, v_908191, v_2020287, v_25...\n",
       "27    [v_1354057, v_2493654, v_1841071, v_341334, v_...\n",
       "28    [v_290733, v_918206, v_1784842, v_262704, v_13...\n",
       "29    [v_2364579, v_1584383, v_810010, v_2574209, v_...\n",
       "30    [v_2562148, v_1184586, v_1454298, v_2529775, v...\n",
       "31    [v_1118382, v_29452, v_213509, v_2355986, v_10...\n",
       "32    [v_700022, v_810694, v_961097, v_1006812, v_26...\n",
       "33    [v_1979017, v_1320284, v_2384848, v_2582901, v...\n",
       "34    [v_776128, v_62153, v_1676132, v_630453, v_113...\n",
       "35    [v_637329, v_1817536, v_2033530, v_2110362, v_...\n",
       "36    [v_866081, v_2666283, v_1820097, v_2439590, v_...\n",
       "37    [v_1654097, v_927154, v_1757740, v_1466506, v_...\n",
       "38    [v_243103, v_1089114, v_1455105, v_1109018, v_...\n",
       "39    [v_316486, v_195573, v_2348701, v_2452424, v_1...\n",
       "Name: prediction, dtype: object"
      ]
     },
     "execution_count": 23,
     "metadata": {},
     "output_type": "execute_result"
    }
   ],
   "source": [
    "test[\"prediction\"] = list(map(\n",
    "    lambda neighbours: list(map(\n",
    "        lambda neighbour: idx_2_item[neighbour],\n",
    "        filter(\n",
    "            lambda neighbour: neighbour != -1,\n",
    "            neighbours\n",
    "        )\n",
    "    )), \n",
    "    I\n",
    "))\n",
    "\n",
    "test[\"prediction\"].head(40)"
   ]
  },
  {
   "cell_type": "code",
   "execution_count": 22,
   "id": "5181bc07-4369-4253-8d46-3a1110c37a35",
   "metadata": {},
   "outputs": [
    {
     "data": {
      "text/plain": [
       "0.05656264836635159"
      ]
     },
     "execution_count": 22,
     "metadata": {},
     "output_type": "execute_result"
    }
   ],
   "source": [
    "def recall(row):\n",
    "    predictions = row[\"prediction\"]\n",
    "    target = row[\"target_vacancy_id\"]\n",
    "    return int(target in set(predictions))\n",
    "\n",
    "test[[\"prediction\", \"target_vacancy_id\"]].apply(recall, axis=1).mean()"
   ]
  },
  {
   "cell_type": "code",
   "execution_count": 123,
   "id": "7832b071-5e74-48e8-8677-fffa8d1f18a5",
   "metadata": {},
   "outputs": [
    {
     "name": "stdout",
     "output_type": "stream",
     "text": [
      "=-=-=-=-=-==-=-=-=-=-=-=\n",
      "3\n",
      "Контролер ОТК\n",
      "Менеджер по сопровождению продаж\n",
      "Менеджер по сопровождению продаж\n",
      "Техник-технолог в лабораторию\n",
      "^^^^^^^^^^^^^^^^^^^^^^^^\n",
      "Модель\n",
      "^^^^^^^^^^^^^^^^^^^^^^^^\n",
      "Менеджер по продажам\n",
      "Менеджер по продажам\n",
      "Менеджер по продажам\n",
      "Менеджер по продажам\n",
      "Менеджер по продажам\n",
      "Менеджер по продажам\n",
      "Менеджер по продажам\n",
      "Менеджер по продажам\n",
      "Менеджер по продажам\n",
      "Менеджер по продажам\n",
      "=-=-=-=-=-==-=-=-=-=-=-=\n",
      "25\n",
      "Главный бухгалтер\n",
      "^^^^^^^^^^^^^^^^^^^^^^^^\n",
      "Бухгалтер (удаленно)\n",
      "^^^^^^^^^^^^^^^^^^^^^^^^\n",
      "Главный бухгалтер\n",
      "Главный бухгалтер\n",
      "Главный бухгалтер\n",
      "Главный бухгалтер\n",
      "Главный бухгалтер\n",
      "Главный бухгалтер\n",
      "Главный бухгалтер\n",
      "Главный бухгалтер\n",
      "Главный бухгалтер\n",
      "Главный бухгалтер\n",
      "=-=-=-=-=-==-=-=-=-=-=-=\n",
      "32\n",
      "Оператор тепловых сетей (3 разряд), оперативно-диспетчерская служба\n",
      "Инженер оперативно-диспетчерской службы\n",
      "Ночной сборщик заказов (подработка ГПХ)\n",
      "Сотрудник проката\n",
      "^^^^^^^^^^^^^^^^^^^^^^^^\n",
      "Помощник руководителя\n",
      "^^^^^^^^^^^^^^^^^^^^^^^^\n",
      "Инженер команды сопровождения ЕФС сегмент \"Сотрудники\"\n",
      "Инженер команды сопровождения ЕФС сегмент \"Сотрудники\"\n",
      "Инженер Группы режимов Оперативной службы\n",
      "Ведущий инженер / Инженер-тестировщик серверного оборудования\n",
      "Инженер ПТО службы заказчика\n",
      "Инженер по сервисному обслуживанию POS-терминального оборудования\n",
      "Инженер ПТО службы Заказчика\n",
      "Сервисный инженер на НМЗ №1\n",
      "Ведущий инженер ПТО (общестрой) Дирекция заказчика\n",
      "Инженер-сборщик-тестировщик серверного оборудования\n",
      "=-=-=-=-=-==-=-=-=-=-=-=\n",
      "34\n",
      "Frontend developer / Frontend разработчик (React)\n",
      "Фронтенд разработчик\n",
      "Фронтенд разработчик\n",
      "^^^^^^^^^^^^^^^^^^^^^^^^\n",
      "Frontend-разработчик, Склад\n",
      "^^^^^^^^^^^^^^^^^^^^^^^^\n",
      "Фронтенд-разработчик\n",
      "Фронтенд-разработчик\n",
      "Фронтенд-разработчик\n",
      "Фронтенд-разработчик\n",
      "Фронтенд-разработчик\n",
      "Фронтенд-разработчик\n",
      "Фронтенд-разработчик\n",
      "Фронтенд-разработчик\n",
      "Фронтенд-разработчик\n",
      "Фронтенд-разработчик\n",
      "=-=-=-=-=-==-=-=-=-=-=-=\n",
      "38\n",
      "Ассистент Project-менеджера (стажер) в онлайн-институт Smart\n",
      "^^^^^^^^^^^^^^^^^^^^^^^^\n",
      "Координатор учебных курсов в Институт ценностно-ориентированной психологии\n",
      "^^^^^^^^^^^^^^^^^^^^^^^^\n",
      "Ассистент Project-менеджера (стажер) в онлайн-институт Smart\n",
      "Project-менеджер в онлайн-институт Smart\n",
      "Ассистент / помощник по работе с интернет проектами\n",
      "Помощник менеджера интернет проектов (удаленно)\n",
      "Помощник менеджера интернет проектов (удаленно)\n",
      "Помощник менеджера интернет проектов (удаленно)\n",
      "Бизнес-ассистент в онлайн проект (удаленно)\n",
      "Менеджер по ведений онлайн-проектов\n",
      "Ассистент / Менеджер проектов в digital-агентство\n",
      "Ассистент руководителя проектов (Digital)\n",
      "=-=-=-=-=-==-=-=-=-=-=-=\n",
      "43\n",
      "Сотрудник ввода и обработки данных/Оператор (на дому, без холодных звонков)\n",
      "Сотрудник ввода и обработки данных/Оператор (на дому, без холодных звонков)\n",
      "Оператор колл-центра на социологические опросы (без продаж, удалённо)\n",
      "Оператор колл-центра на социологические опросы (без продаж, удалённо)\n",
      "^^^^^^^^^^^^^^^^^^^^^^^^\n",
      "Оператор на входящие сообщения (удаленно, в Яндекс)\n",
      "^^^^^^^^^^^^^^^^^^^^^^^^\n",
      "Сотрудник ввода и обработки данных/Оператор (из дома, без продаж, без холодных обзвонов)\n",
      "Сотрудник ввода и обработки данных/Оператор (из дома, без продаж, без холодных обзвонов)\n",
      "Сотрудник ввода и обработки данных /Оператор (на дому, без холодных звонков)\n",
      "Сотрудник ввода и обработки данных /Оператор (на дому, без холодных звонков)\n",
      "Сотрудник ввода и обработки данных /Оператор (на дому, без холодных звонков)\n",
      "Сотрудник ввода и обработки данных /Оператор (на дому, без холодных звонков)\n",
      "Сотрудник ввода и обработки данных/Оператор (на дому, без продаж, без холодных обзвонов)\n",
      "Сотрудник ввода и обработки данных/Оператор (на дому, без продаж, без холодных обзвонов)\n",
      "Сотрудник ввода и обработки данных/Оператор(из дома, без продаж, без холодных обзвонов)\n",
      "Сотрудник ввода и обработки данных/Оператор(из дома, без продаж, без холодных обзвонов)\n",
      "=-=-=-=-=-==-=-=-=-=-=-=\n",
      "52\n",
      "Монтажник сантехнических систем\n",
      "^^^^^^^^^^^^^^^^^^^^^^^^\n",
      "Сантехник\n",
      "^^^^^^^^^^^^^^^^^^^^^^^^\n",
      "Монтажник сантехнических систем\n",
      "Монтажник сантехнических систем\n",
      "Монтажник сантехнических систем\n",
      "Монтажник сантехнических систем\n",
      "Монтажник сантехнических систем\n",
      "Монтажник сантехнических систем\n",
      "Монтажник сантехнических систем\n",
      "Монтажник сантехнических систем\n",
      "Монтажник сантехнических систем\n",
      "Монтажник сантехнических систем\n",
      "=-=-=-=-=-==-=-=-=-=-=-=\n",
      "57\n",
      "Специалист\n",
      "Табельщик / специалист по кадрам\n",
      "^^^^^^^^^^^^^^^^^^^^^^^^\n",
      "Помощник руководителя проектов\n",
      "^^^^^^^^^^^^^^^^^^^^^^^^\n",
      "Специалист на ресепшен\n",
      "Специалист на ресепшен\n",
      "Специалист/Бариста\n",
      "Специалист-стажёр\n",
      "Специалист-обходчик\n",
      "Специалист-обходчик\n",
      "Специалист ресепшен\n",
      "Специалист ресепшен\n",
      "Специалист на ресепшн\n",
      "Специалист на ресепшн\n",
      "=-=-=-=-=-==-=-=-=-=-=-=\n",
      "66\n",
      "Специалист технической поддержки\n",
      "Customer Support Manager\n",
      "Ночной специалист службы технической поддержки со знанием английского языка (Удалённо)\n",
      "^^^^^^^^^^^^^^^^^^^^^^^^\n",
      "Специалист технической поддержки\n",
      "^^^^^^^^^^^^^^^^^^^^^^^^\n",
      "Специалист технической поддержки (удаленно, чаты, почта)\n",
      "Специалист технической поддержки (удаленно, чаты, почта)\n",
      "Специалист технической поддержки (удаленно, чаты, почта)\n",
      "Специалист технической поддержки (удаленно, чаты, почта)\n",
      "Специалист технической поддержки (удаленно, чаты, почта)\n",
      "Специалист технической поддержки (удаленно, чаты, почта)\n",
      "Специалист технической поддержки (удаленно, чаты, почта)\n",
      "Специалист технической поддержки (удаленно, чаты, почта)\n",
      "Специалист технической поддержки (удаленно, чаты, почта)\n",
      "Специалист технической поддержки (удаленно, чаты, почта)\n"
     ]
    }
   ],
   "source": [
    "for row_idx, row in test.iterrows():\n",
    "    vacancy_id = row[\"vacancy_id\"]\n",
    "    items = row[\"items\"]\n",
    "\n",
    "    if isinstance(items, np.ndarray) or isinstance(items, list):\n",
    "        history = list(chain(*items)) + list(vacancy_id)\n",
    "    else:\n",
    "        history = list(vacancy_id)\n",
    "\n",
    "    if len(history) >= 5:\n",
    "        continue\n",
    "    \n",
    "    print(\"=-=-=-=-=-==-=-=-=-=-=-=\")\n",
    "\n",
    "    print(row_idx)\n",
    "    \n",
    "    for vacancy in history:\n",
    "        print(vacancy_2_name[vacancy])\n",
    "\n",
    "    print(\"^^^^^^^^^^^^^^^^^^^^^^^^\")\n",
    "\n",
    "    print(vacancy_2_name[row[\"target_vacancy_id\"]])\n",
    "    \n",
    "    print(\"^^^^^^^^^^^^^^^^^^^^^^^^\")\n",
    "\n",
    "    for vacancy in row[\"prediction\"]:\n",
    "        print(vacancy_2_name[vacancy])\n",
    "\n",
    "    if row_idx > 60:\n",
    "        break"
   ]
  },
  {
   "cell_type": "code",
   "execution_count": 112,
   "id": "95d9ba57-be74-471c-afc3-47d419c8a65d",
   "metadata": {},
   "outputs": [
    {
     "data": {
      "text/plain": [
       "user_id                                     u_100201\n",
       "session_id                                s_11981695\n",
       "target_session_id                          s_2918385\n",
       "vacancy_id                                [v_356656]\n",
       "action_type                                      [2]\n",
       "action_dt            [2023-11-10T13:18:23.851000000]\n",
       "target_vacancy_id                          v_1230532\n",
       "items                                            NaN\n",
       "item_actions                                     NaN\n",
       "Name: 84, dtype: object"
      ]
     },
     "execution_count": 112,
     "metadata": {},
     "output_type": "execute_result"
    }
   ],
   "source": [
    "debug_user = test.iloc[84]\n",
    "debug_user"
   ]
  },
  {
   "cell_type": "code",
   "execution_count": 113,
   "id": "6f99bd8d-7a36-46f9-b864-7b5b8168a802",
   "metadata": {},
   "outputs": [
    {
     "data": {
      "text/plain": [
       "array([ 0.5450181 , -0.39439932, -0.29821745,  0.02714841,  0.25700095,\n",
       "       -0.19861138,  0.04498525, -0.0965538 ,  0.11373225, -0.11250065,\n",
       "       -0.12182238, -0.13942687, -0.0999715 ,  0.19986533,  0.04747391,\n",
       "        0.1814781 ,  0.10670567, -0.04522291, -0.1644038 , -0.08836821,\n",
       "        0.06304052,  0.02392899, -0.09357398, -0.03642485,  0.2735493 ,\n",
       "        0.10990983,  0.09712937, -0.12342686,  0.06223711,  0.00705061,\n",
       "       -0.13061383,  0.02078187], dtype=float32)"
      ]
     },
     "execution_count": 113,
     "metadata": {},
     "output_type": "execute_result"
    }
   ],
   "source": [
    "debug_embedding = get_user_embedding(debug_user[\"vacancy_id\"], debug_user[\"items\"], embeddings, item_2_idx)\n",
    "debug_embedding"
   ]
  },
  {
   "cell_type": "code",
   "execution_count": 114,
   "id": "31bb833d-5700-45fc-9687-d06dd2b4f4ad",
   "metadata": {},
   "outputs": [
    {
     "data": {
      "text/plain": [
       "array([ 0.5450181 , -0.39439932, -0.29821745,  0.02714841,  0.25700095,\n",
       "       -0.19861138,  0.04498525, -0.0965538 ,  0.11373225, -0.11250065,\n",
       "       -0.12182238, -0.13942687, -0.0999715 ,  0.19986533,  0.04747391,\n",
       "        0.1814781 ,  0.10670567, -0.04522291, -0.1644038 , -0.08836821,\n",
       "        0.06304052,  0.02392899, -0.09357398, -0.03642485,  0.2735493 ,\n",
       "        0.10990983,  0.09712937, -0.12342686,  0.06223711,  0.00705061,\n",
       "       -0.13061383,  0.02078187], dtype=float32)"
      ]
     },
     "execution_count": 114,
     "metadata": {},
     "output_type": "execute_result"
    }
   ],
   "source": [
    "embeddings[item_2_idx[\"v_356656\"]]"
   ]
  },
  {
   "cell_type": "code",
   "execution_count": 115,
   "id": "c74883d8-395b-4904-a64c-efab8d6a29c8",
   "metadata": {},
   "outputs": [
    {
     "data": {
      "text/plain": [
       "array([[1432313,  555767, 2290167, 2097993, 2360723, 1747826, 1270836,\n",
       "        1805143, 1156497,  445814]])"
      ]
     },
     "execution_count": 115,
     "metadata": {},
     "output_type": "execute_result"
    }
   ],
   "source": [
    "D, I = hnsw.search(np.expand_dims(debug_embedding, axis=0), 10)\n",
    "I"
   ]
  },
  {
   "cell_type": "code",
   "execution_count": 116,
   "id": "f077a135-68c0-4d44-b019-fed68899fd08",
   "metadata": {},
   "outputs": [
    {
     "name": "stdout",
     "output_type": "stream",
     "text": [
      "0.61555916 1432313 v_356656 Ассистент бизнес-аналитика, специалиста по внедрению (удаленно, стажер)\n",
      "1432313\n",
      "0.5660989 555767 v_1194379 Бизнес-ассистент консультантов\n",
      "555767\n",
      "0.5605482 2290167 v_1566319 Бизнес ассистент / бизнес аналитик (удаленно)\n",
      "2290167\n",
      "0.5570219 2097993 v_140345 Консультант по онлайн-курсам/ученик (удаленно)\n",
      "2097993\n",
      "0.5557258 2360723 v_2291664 Бизнес-аналитик / консультант(стажер)\n",
      "2360723\n",
      "0.5536852 1747826 v_1738703 Консультант по онлайн-курсам (удаленно)\n",
      "1747826\n",
      "0.5536852 1270836 v_69612 Консультант по онлайн-курсам (удаленно)\n",
      "1270836\n",
      "0.5529984 1805143 v_2037286 Консультант работодателей по найму персонала (удаленно)\n",
      "1805143\n",
      "0.5529984 1156497 v_411462 Консультант работодателей по найму персонала (удаленно)\n",
      "1156497\n",
      "0.5529984 445814 v_1272878 Консультант работодателей по найму персонала (удаленно)\n",
      "445814\n"
     ]
    }
   ],
   "source": [
    "for distance, debug_neighbour in zip(D[0], I[0]):\n",
    "    print(distance, debug_neighbour, idx_2_item[debug_neighbour], vacancy_2_name[idx_2_item[debug_neighbour]])\n",
    "    print(item_2_idx[idx_2_item[debug_neighbour]])"
   ]
  },
  {
   "cell_type": "code",
   "execution_count": 97,
   "id": "00755999-650a-4655-aee4-a7128cab1af4",
   "metadata": {},
   "outputs": [
    {
     "data": {
      "text/plain": [
       "array([[1432313, 2290167,  555767, 2360723,  974876, 2316198,   79197,\n",
       "        2273414, 1172365, 1175787]])"
      ]
     },
     "execution_count": 97,
     "metadata": {},
     "output_type": "execute_result"
    }
   ],
   "source": [
    "D, I = hnsw.search(np.expand_dims(embeddings[item_2_idx[\"v_356656\"]], axis=0), 10)\n",
    "I"
   ]
  }
 ],
 "metadata": {
  "kernelspec": {
   "display_name": "Python 3 (ipykernel)",
   "language": "python",
   "name": "python3"
  },
  "language_info": {
   "codemirror_mode": {
    "name": "ipython",
    "version": 3
   },
   "file_extension": ".py",
   "mimetype": "text/x-python",
   "name": "python",
   "nbconvert_exporter": "python",
   "pygments_lexer": "ipython3",
   "version": "3.8.18"
  }
 },
 "nbformat": 4,
 "nbformat_minor": 5
}
